{
 "cells": [
  {
   "cell_type": "markdown",
   "metadata": {},
   "source": [
    "# VAR Model - Predicting Housing Price\n",
    "\n",
    "This notebook demonstrates how I developed the VAR model for housing price prediction and made a price forecast for 12 months. Please read my data cleaning notebook for data cleaning, descriptive statistics, and EDA. \n",
    "\n",
    "Contents of this notebook: \n",
    "1. Granger Causality Test and Dickey-Fuller Test \n",
    "\n",
    "2. Modeling (Grid Search)\n",
    "\n",
    "3. Model Validation \n",
    "\n",
    "3. Forecasting"
   ]
  },
  {
   "cell_type": "code",
   "execution_count": 52,
   "metadata": {},
   "outputs": [],
   "source": [
    "import pandas as pd\n",
    "import numpy as np\n",
    "import matplotlib.pyplot as plt\n",
    "import seaborn as sns\n",
    "\n",
    "\n",
    "from sklearn.model_selection import TimeSeriesSplit\n",
    "from sklearn.metrics import mean_squared_error\n",
    "\n",
    "from statsmodels.tsa.stattools import grangercausalitytests, adfuller\n",
    "from statsmodels.tsa.api import VAR\n",
    "import statsmodels.api as sm\n",
    "\n",
    "from matplotlib.pylab import rcParams\n",
    "import itertools\n",
    "\n",
    "import warnings\n",
    "warnings.filterwarnings('ignore')"
   ]
  },
  {
   "cell_type": "markdown",
   "metadata": {},
   "source": [
    "First, I read a housing market dataset. USPS's population inflow data has alredy been merged to this dataset. For detailed data cleaning process and EDA, please read my data cleaning notebook. "
   ]
  },
  {
   "cell_type": "code",
   "execution_count": 53,
   "metadata": {},
   "outputs": [],
   "source": [
    "df = pd.read_csv('Data/df_realtor.csv')"
   ]
  },
  {
   "cell_type": "code",
   "execution_count": 54,
   "metadata": {},
   "outputs": [
    {
     "name": "stdout",
     "output_type": "stream",
     "text": [
      "Realtor housing price data covers from 201607 to 202204\n",
      "The data includes 189 zipcodes.\n"
     ]
    }
   ],
   "source": [
    "print('Realtor housing price data covers from', df.yearmonth.min(), 'to' , df.yearmonth.max())\n",
    "print('The data includes', df.zips.nunique(), 'zipcodes.' )"
   ]
  },
  {
   "cell_type": "markdown",
   "metadata": {},
   "source": [
    "For the time series analysis,  I change the date to the datetime format and set date and zip code in indexes."
   ]
  },
  {
   "cell_type": "code",
   "execution_count": 55,
   "metadata": {},
   "outputs": [],
   "source": [
    "# change zips to 5 digit strings\n",
    "df['zipcode'] = '000' + df.zips.astype('str')\n",
    "df['zipcode'] = df.zipcode.str[-5:]\n",
    "\n",
    "# change 'date' to the datatime\n",
    "df['date']=pd.to_datetime(df.yearmonth, format='%Y%m')\n",
    "\n",
    "# Set multiindex with date and zip code\n",
    "df = df.set_index(['zipcode', 'date']).sort_index() \n"
   ]
  },
  {
   "cell_type": "markdown",
   "metadata": {},
   "source": [
    "I double-check that this data frame incldues only zip codes in Washington DC metropolitan area. "
   ]
  },
  {
   "cell_type": "code",
   "execution_count": 56,
   "metadata": {},
   "outputs": [
    {
     "data": {
      "text/plain": [
       "Index(['20001', '20002', '20003', '20005', '20007', '20008', '20009', '20010',\n",
       "       '20011', '20012',\n",
       "       ...\n",
       "       '22307', '22308', '22309', '22310', '22312', '22314', '22315', '22630',\n",
       "       '22642', '22712'],\n",
       "      dtype='object', name='zipcode', length=189)"
      ]
     },
     "execution_count": 56,
     "metadata": {},
     "output_type": "execute_result"
    }
   ],
   "source": [
    "# Zip codes included in Washington DC metropolitan area \n",
    "WashingtonDC = df[df['czname']=='Washington DC']\n",
    "\n",
    "WashingtonDC.index.get_level_values(0).unique()\n"
   ]
  },
  {
   "cell_type": "markdown",
   "metadata": {},
   "source": [
    "Drop unecessary columns. The model use three time series; listings price, number of listings, and population net inflow."
   ]
  },
  {
   "cell_type": "code",
   "execution_count": 57,
   "metadata": {},
   "outputs": [
    {
     "data": {
      "text/html": [
       "<div>\n",
       "<style scoped>\n",
       "    .dataframe tbody tr th:only-of-type {\n",
       "        vertical-align: middle;\n",
       "    }\n",
       "\n",
       "    .dataframe tbody tr th {\n",
       "        vertical-align: top;\n",
       "    }\n",
       "\n",
       "    .dataframe thead th {\n",
       "        text-align: right;\n",
       "    }\n",
       "</style>\n",
       "<table border=\"1\" class=\"dataframe\">\n",
       "  <thead>\n",
       "    <tr style=\"text-align: right;\">\n",
       "      <th></th>\n",
       "      <th></th>\n",
       "      <th>median_listing_price</th>\n",
       "      <th>active_listing_count</th>\n",
       "      <th>netinflow</th>\n",
       "    </tr>\n",
       "    <tr>\n",
       "      <th>zipcode</th>\n",
       "      <th>date</th>\n",
       "      <th></th>\n",
       "      <th></th>\n",
       "      <th></th>\n",
       "    </tr>\n",
       "  </thead>\n",
       "  <tbody>\n",
       "    <tr>\n",
       "      <th rowspan=\"5\" valign=\"top\">20001</th>\n",
       "      <th>2018-01-01</th>\n",
       "      <td>730000.0</td>\n",
       "      <td>81.0</td>\n",
       "      <td>-61.0</td>\n",
       "    </tr>\n",
       "    <tr>\n",
       "      <th>2018-02-01</th>\n",
       "      <td>779000.0</td>\n",
       "      <td>89.0</td>\n",
       "      <td>-138.0</td>\n",
       "    </tr>\n",
       "    <tr>\n",
       "      <th>2018-03-01</th>\n",
       "      <td>729000.0</td>\n",
       "      <td>103.0</td>\n",
       "      <td>-163.0</td>\n",
       "    </tr>\n",
       "    <tr>\n",
       "      <th>2018-04-01</th>\n",
       "      <td>717000.0</td>\n",
       "      <td>117.0</td>\n",
       "      <td>-94.0</td>\n",
       "    </tr>\n",
       "    <tr>\n",
       "      <th>2018-05-01</th>\n",
       "      <td>754950.0</td>\n",
       "      <td>125.0</td>\n",
       "      <td>-131.0</td>\n",
       "    </tr>\n",
       "    <tr>\n",
       "      <th>...</th>\n",
       "      <th>...</th>\n",
       "      <td>...</td>\n",
       "      <td>...</td>\n",
       "      <td>...</td>\n",
       "    </tr>\n",
       "    <tr>\n",
       "      <th rowspan=\"5\" valign=\"top\">22712</th>\n",
       "      <th>2021-12-01</th>\n",
       "      <td>544750.0</td>\n",
       "      <td>8.0</td>\n",
       "      <td>-8.0</td>\n",
       "    </tr>\n",
       "    <tr>\n",
       "      <th>2022-01-01</th>\n",
       "      <td>475000.0</td>\n",
       "      <td>6.0</td>\n",
       "      <td>12.0</td>\n",
       "    </tr>\n",
       "    <tr>\n",
       "      <th>2022-02-01</th>\n",
       "      <td>450000.0</td>\n",
       "      <td>7.0</td>\n",
       "      <td>-22.0</td>\n",
       "    </tr>\n",
       "    <tr>\n",
       "      <th>2022-03-01</th>\n",
       "      <td>489950.0</td>\n",
       "      <td>4.0</td>\n",
       "      <td>-4.0</td>\n",
       "    </tr>\n",
       "    <tr>\n",
       "      <th>2022-04-01</th>\n",
       "      <td>465000.0</td>\n",
       "      <td>5.0</td>\n",
       "      <td>-6.0</td>\n",
       "    </tr>\n",
       "  </tbody>\n",
       "</table>\n",
       "<p>9828 rows × 3 columns</p>\n",
       "</div>"
      ],
      "text/plain": [
       "                    median_listing_price  active_listing_count  netinflow\n",
       "zipcode date                                                             \n",
       "20001   2018-01-01              730000.0                  81.0      -61.0\n",
       "        2018-02-01              779000.0                  89.0     -138.0\n",
       "        2018-03-01              729000.0                 103.0     -163.0\n",
       "        2018-04-01              717000.0                 117.0      -94.0\n",
       "        2018-05-01              754950.0                 125.0     -131.0\n",
       "...                                  ...                   ...        ...\n",
       "22712   2021-12-01              544750.0                   8.0       -8.0\n",
       "        2022-01-01              475000.0                   6.0       12.0\n",
       "        2022-02-01              450000.0                   7.0      -22.0\n",
       "        2022-03-01              489950.0                   4.0       -4.0\n",
       "        2022-04-01              465000.0                   5.0       -6.0\n",
       "\n",
       "[9828 rows x 3 columns]"
      ]
     },
     "execution_count": 57,
     "metadata": {},
     "output_type": "execute_result"
    }
   ],
   "source": [
    "DC = WashingtonDC[['median_listing_price', 'active_listing_count', 'netinflow']].dropna()\n",
    "\n",
    "DC"
   ]
  },
  {
   "cell_type": "markdown",
   "metadata": {},
   "source": [
    "Before start analysis, I split my data set into train and test set. I use the 2021-12 as a cutoff month. As a consequence, train set has 48 observation and test set has 4 observations. "
   ]
  },
  {
   "cell_type": "code",
   "execution_count": 58,
   "metadata": {},
   "outputs": [],
   "source": [
    "# use 2021-09 as the cutoff point \n",
    "train_data = DC.iloc[DC.index.get_level_values('date') <= '2021-12']\n",
    "\n",
    "test_data = DC.iloc[DC.index.get_level_values('date') > '2021-12'] \n"
   ]
  },
  {
   "cell_type": "code",
   "execution_count": 59,
   "metadata": {},
   "outputs": [
    {
     "name": "stdout",
     "output_type": "stream",
     "text": [
      "Number of observation in train set for each zip code: 48\n",
      "Number of observation in test set for each zip code: 4\n"
     ]
    }
   ],
   "source": [
    "print('Number of observation in train set for each zip code:', len(train_data.index.unique(level='date')))\n",
    "print('Number of observation in test set for each zip code:', len(test_data.index.unique(level='date')))"
   ]
  },
  {
   "cell_type": "markdown",
   "metadata": {},
   "source": [
    "# 1. Granger Causality Test and Dickey Fuller Test "
   ]
  },
  {
   "cell_type": "markdown",
   "metadata": {},
   "source": [
    "### Granger’s Causality Test\n",
    "First, I run the Granger causality test for three time series in my model. I check the causality between all possible combinations of three time series. If the P-Values are smaller than 0.05, I drop the corresponding zip code from my sample. \n",
    "Below, I created a function for granger causality test. \n"
   ]
  },
  {
   "cell_type": "code",
   "execution_count": 60,
   "metadata": {},
   "outputs": [],
   "source": [
    "maxlag=12\n",
    "test = 'ssr_chi2test'\n",
    "def grangers_causation_matrix(data, variables, test='ssr_chi2test', verbose=False):    \n",
    "    \"\"\"This function returns p-values of Granger causality test of all combinations of the time series.\n",
    "    The rows are the response variable, columns are predictors \n",
    "    data      : pandas dataframe containing the time series variables\n",
    "    variables : list containing names of the time series variables\n",
    "    \"\"\"\n",
    "    df = pd.DataFrame(np.zeros((len(variables), len(variables))), columns=variables, index=variables)\n",
    "    for c in df.columns:\n",
    "        for r in df.index:\n",
    "            test_result = grangercausalitytests(data[[r, c]], maxlag=maxlag, verbose=False)\n",
    "            p_values = [round(test_result[i+1][0][test][1],4) for i in range(maxlag)]\n",
    "            if verbose: print(f'Y = {r}, X = {c}, P Values = {p_values}')\n",
    "            min_p_value = np.min(p_values)\n",
    "            df.loc[r, c] = min_p_value\n",
    "    df.columns = [var + '_x' for var in variables]\n",
    "    df.index = [var + '_y' for var in variables]\n",
    "    return df\n",
    "\n",
    "     "
   ]
  },
  {
   "cell_type": "markdown",
   "metadata": {},
   "source": [
    "I run the granger causality check for all zip codes and drop the zip codes which failed the test.  "
   ]
  },
  {
   "cell_type": "code",
   "execution_count": 62,
   "metadata": {},
   "outputs": [
    {
     "name": "stdout",
     "output_type": "stream",
     "text": [
      "The following 32 zip codes failed the Granger Causality test: ['20017', '20019', '20110', '20115', '20165', '20170', '20171', '20187', '20194', '20637', '20646', '20664', '20685', '20706', '20736', '20743', '20832', '20852', '20855', '20871', '20872', '20874', '20895', '21701', '21702', '21703', '21754', '22041', '22182', '22202', '22630', '22712']\n"
     ]
    }
   ],
   "source": [
    "# To store zip codes which failed the test \n",
    "drop_list=[]\n",
    "\n",
    "# list of zip codes \n",
    "zips=train_data.index.get_level_values(0).unique()\n",
    "\n",
    "for x in zips:\n",
    "    # Check granger causality and store in the data frame \n",
    "    g = pd.DataFrame(grangers_causation_matrix(train_data.loc[(x, ),], variables = train_data.columns))\n",
    "    \n",
    "    # Check each p-value in the stored table. If one of the p-values are greater than 0.05, add the zip code in drop list. \n",
    "    if max(g.iloc[1,0], g.iloc[2,0], g.iloc[0,1], g.iloc[2,1], g.iloc[0,2], g.iloc[1,2]) > 0.1: #0.1\n",
    "        drop_list.append(x)\n",
    "        \n",
    "print(f'The following {len(drop_list)} zip codes failed the Granger Causality test:',  drop_list)\n",
    "\n"
   ]
  },
  {
   "cell_type": "markdown",
   "metadata": {},
   "source": [
    "I drop the above zip codes. "
   ]
  },
  {
   "cell_type": "code",
   "execution_count": 63,
   "metadata": {},
   "outputs": [],
   "source": [
    "train_df = train_data.drop(drop_list)\n",
    "test_df = test_data.drop(drop_list)\n",
    "all_df = DC.drop(drop_list)\n"
   ]
  },
  {
   "cell_type": "markdown",
   "metadata": {},
   "source": [
    "### Dickey-Fuller Test"
   ]
  },
  {
   "cell_type": "markdown",
   "metadata": {},
   "source": [
    "I performed the Dickey-Fuller test for stationarity check of a time series. \n",
    "Below, I conducted the ADFuller test three times. The first test was with an original time series (i.e., no differencing, no moving average). And if a zip code fails this first test, I take a difference of a time series and redo the Dickey-Fuller test. If failed again, I take the second difference and try the ADFuller test. And any zip codes which failed the test with a second difference were dropped from this analysis. \n",
    "\n",
    "To run the test throughout all zip codes in my sample, first, I run the test and store the result in the data frame. And then, I evaluate the p-value and filter the zip code that failed the test. Zip codes that passed the first test are stored in 'diff0' list. Zip codes which need a second test with difference terms, I stored in 'diff1'."
   ]
  },
  {
   "cell_type": "code",
   "execution_count": 64,
   "metadata": {},
   "outputs": [
    {
     "data": {
      "text/html": [
       "<div>\n",
       "<style scoped>\n",
       "    .dataframe tbody tr th:only-of-type {\n",
       "        vertical-align: middle;\n",
       "    }\n",
       "\n",
       "    .dataframe tbody tr th {\n",
       "        vertical-align: top;\n",
       "    }\n",
       "\n",
       "    .dataframe thead th {\n",
       "        text-align: right;\n",
       "    }\n",
       "</style>\n",
       "<table border=\"1\" class=\"dataframe\">\n",
       "  <thead>\n",
       "    <tr style=\"text-align: right;\">\n",
       "      <th></th>\n",
       "      <th>Zipcode</th>\n",
       "      <th>Dickey_Fuller_p</th>\n",
       "      <th>Dickey_Fuller_l</th>\n",
       "      <th>Dickey_Fuller_m</th>\n",
       "    </tr>\n",
       "  </thead>\n",
       "  <tbody>\n",
       "    <tr>\n",
       "      <th>0</th>\n",
       "      <td>20001</td>\n",
       "      <td>0.084303</td>\n",
       "      <td>0.420771</td>\n",
       "      <td>0.035095</td>\n",
       "    </tr>\n",
       "    <tr>\n",
       "      <th>1</th>\n",
       "      <td>20002</td>\n",
       "      <td>0.015976</td>\n",
       "      <td>0.994876</td>\n",
       "      <td>0.111127</td>\n",
       "    </tr>\n",
       "    <tr>\n",
       "      <th>2</th>\n",
       "      <td>20003</td>\n",
       "      <td>0.248776</td>\n",
       "      <td>0.000284</td>\n",
       "      <td>0.061371</td>\n",
       "    </tr>\n",
       "    <tr>\n",
       "      <th>3</th>\n",
       "      <td>20005</td>\n",
       "      <td>0.115617</td>\n",
       "      <td>0.137064</td>\n",
       "      <td>0.142104</td>\n",
       "    </tr>\n",
       "    <tr>\n",
       "      <th>4</th>\n",
       "      <td>20007</td>\n",
       "      <td>0.111817</td>\n",
       "      <td>0.002108</td>\n",
       "      <td>0.008003</td>\n",
       "    </tr>\n",
       "  </tbody>\n",
       "</table>\n",
       "</div>"
      ],
      "text/plain": [
       "  Zipcode  Dickey_Fuller_p  Dickey_Fuller_l  Dickey_Fuller_m\n",
       "0   20001         0.084303         0.420771         0.035095\n",
       "1   20002         0.015976         0.994876         0.111127\n",
       "2   20003         0.248776         0.000284         0.061371\n",
       "3   20005         0.115617         0.137064         0.142104\n",
       "4   20007         0.111817         0.002108         0.008003"
      ]
     },
     "execution_count": 64,
     "metadata": {},
     "output_type": "execute_result"
    }
   ],
   "source": [
    "# For each time series I tun the Dickey-Fuller test and report the p-values\n",
    "\n",
    "# to store the results \n",
    "dtest = pd.DataFrame()\n",
    "df_p = [] \n",
    "df_l = []\n",
    "df_m = []\n",
    "Zipcode = []\n",
    "\n",
    "zips = train_df.index.unique(level='zipcode')\n",
    "for x in zips:\n",
    "    p_val_1 = adfuller(train_df.loc[(x, ),]['median_listing_price'])[1] # extract p-value\n",
    "    p_val_2 = adfuller(train_df.loc[(x, ),]['active_listing_count'])[1] \n",
    "    p_val_3 = adfuller(train_df.loc[(x, ),]['netinflow'])[1] \n",
    "    df_p.append(p_val_1)\n",
    "    df_l.append(p_val_2)\n",
    "    df_m.append(p_val_3)\n",
    "    Zipcode.append(x) \n",
    "    \n",
    "dtest['Zipcode'] = Zipcode\n",
    "dtest['Dickey_Fuller_p'] = df_p\n",
    "dtest['Dickey_Fuller_l'] = df_l\n",
    "dtest['Dickey_Fuller_m'] = df_m\n",
    "\n",
    "dtest.head()"
   ]
  },
  {
   "cell_type": "markdown",
   "metadata": {},
   "source": [
    "The cell below filters out the zip codes by p-value. If it's smaller than 0.05, the zipcode is stored in 'diff0'. If it's larger than 0.05, the zipcode is sotred in 'diff1'. "
   ]
  },
  {
   "cell_type": "code",
   "execution_count": 65,
   "metadata": {},
   "outputs": [
    {
     "name": "stdout",
     "output_type": "stream",
     "text": [
      "8 zipcodes passed DF test in original scale.\n",
      "149 zipcodes failed, so I take a difference and try again.\n"
     ]
    }
   ],
   "source": [
    "# Create a new column of maximum value of three Dickey_fuller p-values. Use this column to decide which zipcode need to take a difference.  \n",
    "dtest['max_p'] = dtest[['Dickey_Fuller_p','Dickey_Fuller_l','Dickey_Fuller_m']].max(axis=1)\n",
    "\n",
    "#List of zipcode which pass Dickey-Fuller test without taking difference \n",
    "diff0 = list(dtest[dtest.max_p <=0.05].Zipcode)\n",
    "\n",
    "# List a zipcode which failed Dickey-Fuller test, thus need to take difference\n",
    "diff1 = list(dtest[dtest.max_p > 0.05].Zipcode)\n",
    "\n",
    "\n",
    "print( f'{ len(diff0)} zipcodes passed DF test in original scale.')\n",
    "print( f'{ len(diff1)} zipcodes failed, so I take a difference and try again.')\n",
    "\n"
   ]
  },
  {
   "cell_type": "markdown",
   "metadata": {},
   "source": [
    "I take a difference and redo Dickey-fuller test.  "
   ]
  },
  {
   "cell_type": "code",
   "execution_count": 66,
   "metadata": {},
   "outputs": [
    {
     "data": {
      "text/html": [
       "<div>\n",
       "<style scoped>\n",
       "    .dataframe tbody tr th:only-of-type {\n",
       "        vertical-align: middle;\n",
       "    }\n",
       "\n",
       "    .dataframe tbody tr th {\n",
       "        vertical-align: top;\n",
       "    }\n",
       "\n",
       "    .dataframe thead th {\n",
       "        text-align: right;\n",
       "    }\n",
       "</style>\n",
       "<table border=\"1\" class=\"dataframe\">\n",
       "  <thead>\n",
       "    <tr style=\"text-align: right;\">\n",
       "      <th></th>\n",
       "      <th>Zipcode</th>\n",
       "      <th>Dickey_Fuller_p</th>\n",
       "      <th>Dickey_Fuller_l</th>\n",
       "      <th>Dickey_Fuller_m</th>\n",
       "    </tr>\n",
       "  </thead>\n",
       "  <tbody>\n",
       "    <tr>\n",
       "      <th>0</th>\n",
       "      <td>20001</td>\n",
       "      <td>2.298098e-13</td>\n",
       "      <td>2.359540e-03</td>\n",
       "      <td>1.378247e-13</td>\n",
       "    </tr>\n",
       "    <tr>\n",
       "      <th>1</th>\n",
       "      <td>20002</td>\n",
       "      <td>1.157793e-03</td>\n",
       "      <td>3.016470e-02</td>\n",
       "      <td>5.665424e-15</td>\n",
       "    </tr>\n",
       "    <tr>\n",
       "      <th>2</th>\n",
       "      <td>20003</td>\n",
       "      <td>4.445139e-06</td>\n",
       "      <td>1.147917e-03</td>\n",
       "      <td>4.224673e-15</td>\n",
       "    </tr>\n",
       "    <tr>\n",
       "      <th>3</th>\n",
       "      <td>20005</td>\n",
       "      <td>6.342952e-12</td>\n",
       "      <td>7.440427e-12</td>\n",
       "      <td>7.408380e-14</td>\n",
       "    </tr>\n",
       "    <tr>\n",
       "      <th>4</th>\n",
       "      <td>20007</td>\n",
       "      <td>3.928826e-08</td>\n",
       "      <td>1.260332e-03</td>\n",
       "      <td>2.248241e-03</td>\n",
       "    </tr>\n",
       "  </tbody>\n",
       "</table>\n",
       "</div>"
      ],
      "text/plain": [
       "  Zipcode  Dickey_Fuller_p  Dickey_Fuller_l  Dickey_Fuller_m\n",
       "0   20001     2.298098e-13     2.359540e-03     1.378247e-13\n",
       "1   20002     1.157793e-03     3.016470e-02     5.665424e-15\n",
       "2   20003     4.445139e-06     1.147917e-03     4.224673e-15\n",
       "3   20005     6.342952e-12     7.440427e-12     7.408380e-14\n",
       "4   20007     3.928826e-08     1.260332e-03     2.248241e-03"
      ]
     },
     "execution_count": 66,
     "metadata": {},
     "output_type": "execute_result"
    }
   ],
   "source": [
    "# for each series check Dickey-Fuller test and report the p-values\n",
    "\n",
    "# to store the test results \n",
    "dtest1 = pd.DataFrame()\n",
    "df_p = [] \n",
    "df_l = []\n",
    "df_m = []\n",
    "Zipcode = []\n",
    "\n",
    "# now I do test only for the counties which failed the earlier test \n",
    "zips = diff1\n",
    "for x in zips:\n",
    "    p_val_1 = adfuller(train_df.diff().dropna().loc[(x, ),]['median_listing_price'])[1] # extract p-value\n",
    "    p_val_2 = adfuller(train_df.diff().dropna().loc[(x, ),]['active_listing_count'])[1] \n",
    "    p_val_3 = adfuller(train_df.diff().dropna().loc[(x, ),]['netinflow'])[1] \n",
    "    df_p.append(p_val_1)\n",
    "    df_l.append(p_val_2)\n",
    "    df_m.append(p_val_3)\n",
    "    Zipcode.append(x) \n",
    "    \n",
    "dtest1['Zipcode'] = Zipcode\n",
    "dtest1['Dickey_Fuller_p'] = df_p\n",
    "dtest1['Dickey_Fuller_l'] = df_l\n",
    "dtest1['Dickey_Fuller_m'] = df_m\n",
    "\n",
    "dtest1.head()\n",
    "    "
   ]
  },
  {
   "cell_type": "markdown",
   "metadata": {},
   "source": [
    "In below, I filter the zip codes which failed the second DF test. "
   ]
  },
  {
   "cell_type": "code",
   "execution_count": 67,
   "metadata": {},
   "outputs": [
    {
     "name": "stdout",
     "output_type": "stream",
     "text": [
      "131 zipcodes passed DF test after taking a first difference.\n",
      "18 zipcodes failed, so I take a second difference and try again.\n"
     ]
    }
   ],
   "source": [
    "# Create a new column of maximum value of three Dickey_fuller p-values. Use this column to decide which zipcode need to take a difference.  \n",
    "dtest1['max_p'] = dtest1[['Dickey_Fuller_p','Dickey_Fuller_l','Dickey_Fuller_m']].max(axis=1)\n",
    "\n",
    "#List of zipcode which pass Dickey-Fuller test without taking difference \n",
    "diff1_1 = list(dtest1[dtest1.max_p <=0.05].Zipcode)\n",
    "\n",
    "# List a zipcode which failed Dickey-Fuller test, thus need to take difference\n",
    "diff2 = list(dtest1[dtest1.max_p > 0.05].Zipcode)\n",
    "\n",
    "\n",
    "print( f'{ len(diff1_1)} zipcodes passed DF test after taking a first difference.')\n",
    "print( f'{ len(diff2)} zipcodes failed, so I take a second difference and try again.')\n",
    "\n"
   ]
  },
  {
   "cell_type": "code",
   "execution_count": 68,
   "metadata": {},
   "outputs": [
    {
     "data": {
      "text/html": [
       "<div>\n",
       "<style scoped>\n",
       "    .dataframe tbody tr th:only-of-type {\n",
       "        vertical-align: middle;\n",
       "    }\n",
       "\n",
       "    .dataframe tbody tr th {\n",
       "        vertical-align: top;\n",
       "    }\n",
       "\n",
       "    .dataframe thead th {\n",
       "        text-align: right;\n",
       "    }\n",
       "</style>\n",
       "<table border=\"1\" class=\"dataframe\">\n",
       "  <thead>\n",
       "    <tr style=\"text-align: right;\">\n",
       "      <th></th>\n",
       "      <th>Zipcode</th>\n",
       "      <th>Dickey_Fuller_p</th>\n",
       "      <th>Dickey_Fuller_l</th>\n",
       "      <th>Dickey_Fuller_m</th>\n",
       "    </tr>\n",
       "  </thead>\n",
       "  <tbody>\n",
       "    <tr>\n",
       "      <th>0</th>\n",
       "      <td>20008</td>\n",
       "      <td>2.775109e-09</td>\n",
       "      <td>3.964328e-05</td>\n",
       "      <td>9.902379e-03</td>\n",
       "    </tr>\n",
       "    <tr>\n",
       "      <th>1</th>\n",
       "      <td>20009</td>\n",
       "      <td>6.679153e-09</td>\n",
       "      <td>1.851366e-05</td>\n",
       "      <td>9.308184e-10</td>\n",
       "    </tr>\n",
       "    <tr>\n",
       "      <th>2</th>\n",
       "      <td>20011</td>\n",
       "      <td>2.503390e-03</td>\n",
       "      <td>1.365660e-07</td>\n",
       "      <td>1.248371e-07</td>\n",
       "    </tr>\n",
       "    <tr>\n",
       "      <th>3</th>\n",
       "      <td>20121</td>\n",
       "      <td>6.552788e-05</td>\n",
       "      <td>5.831161e-04</td>\n",
       "      <td>9.813172e-08</td>\n",
       "    </tr>\n",
       "    <tr>\n",
       "      <th>4</th>\n",
       "      <td>20132</td>\n",
       "      <td>1.566768e-04</td>\n",
       "      <td>2.579441e-05</td>\n",
       "      <td>4.245917e-03</td>\n",
       "    </tr>\n",
       "  </tbody>\n",
       "</table>\n",
       "</div>"
      ],
      "text/plain": [
       "  Zipcode  Dickey_Fuller_p  Dickey_Fuller_l  Dickey_Fuller_m\n",
       "0   20008     2.775109e-09     3.964328e-05     9.902379e-03\n",
       "1   20009     6.679153e-09     1.851366e-05     9.308184e-10\n",
       "2   20011     2.503390e-03     1.365660e-07     1.248371e-07\n",
       "3   20121     6.552788e-05     5.831161e-04     9.813172e-08\n",
       "4   20132     1.566768e-04     2.579441e-05     4.245917e-03"
      ]
     },
     "execution_count": 68,
     "metadata": {},
     "output_type": "execute_result"
    }
   ],
   "source": [
    "# for each series check Dickey-Fuller test and report the p-values\n",
    "dtest2 = pd.DataFrame()\n",
    "df_p = [] \n",
    "df_l = []\n",
    "df_m = []\n",
    "Zipcode = []\n",
    "\n",
    "zips = diff2\n",
    "for x in zips:\n",
    "    p_val_1 = adfuller(train_df.diff().diff().dropna().loc[(x, ),]['median_listing_price'])[1] # extract p-value\n",
    "    p_val_2 = adfuller(train_df.diff().diff().dropna().loc[(x, ),]['active_listing_count'])[1] \n",
    "    p_val_3 = adfuller(train_df.diff().diff().dropna().loc[(x, ),]['netinflow'])[1] \n",
    "    df_p.append(p_val_1)\n",
    "    df_l.append(p_val_2)\n",
    "    df_m.append(p_val_3)\n",
    "    Zipcode.append(x) \n",
    "    \n",
    "dtest2['Zipcode'] = Zipcode\n",
    "dtest2['Dickey_Fuller_p'] = df_p\n",
    "dtest2['Dickey_Fuller_l'] = df_l\n",
    "dtest2['Dickey_Fuller_m'] = df_m\n",
    "\n",
    "dtest2.head()"
   ]
  },
  {
   "cell_type": "code",
   "execution_count": 72,
   "metadata": {},
   "outputs": [
    {
     "name": "stdout",
     "output_type": "stream",
     "text": [
      "17 zipcodes passed DF test in 2nd order difference.\n",
      "1 zipcodes failed and will be dropped from the sample.\n"
     ]
    }
   ],
   "source": [
    "# Create a new column of maximum value of three Dickey_fuller p-values. Use this column to decide which zipcode need to take a difference.  \n",
    "dtest2['max_p'] = dtest2[['Dickey_Fuller_p','Dickey_Fuller_l','Dickey_Fuller_m']].max(axis=1)\n",
    "\n",
    "#List of zipcode which pass Dickey-Fuller test without taking difference \n",
    "diff2_1 = list(dtest2[dtest2.max_p <=0.05].Zipcode)\n",
    "\n",
    "# List a zipcode which failed Dickey-Fuller test, thus need to take difference\n",
    "diff3 = list(dtest2[dtest2.max_p > 0.05].Zipcode)\n",
    "\n",
    "print( f'{ len(diff2_1)} zipcodes passed DF test in 2nd order difference.')\n",
    "print( f'{ len(diff3)} zipcodes failed and will be dropped from the sample.')\n"
   ]
  },
  {
   "cell_type": "markdown",
   "metadata": {},
   "source": [
    "In below, I drop the zipcodes which failed stationary test after taking 2nd order difference."
   ]
  },
  {
   "cell_type": "code",
   "execution_count": 73,
   "metadata": {},
   "outputs": [],
   "source": [
    "# drop from train, test, and alldateset. \n",
    "train = train_df.drop(diff3)\n",
    "test = test_df.drop(diff3)\n",
    "alldata = all_df.drop(diff3)"
   ]
  },
  {
   "cell_type": "code",
   "execution_count": 74,
   "metadata": {},
   "outputs": [
    {
     "name": "stdout",
     "output_type": "stream",
     "text": [
      "After Granger’s Causality and Dickey Fuller test, my sample includes 156 zipcodes.\n",
      "Converage periods are 2018-01-01 00:00:00 to 2022-04-01 00:00:00.\n"
     ]
    }
   ],
   "source": [
    "\n",
    "print(f'After Granger’s Causality and Dickey Fuller test, my sample includes {alldata.index.unique(level=\"zipcode\").nunique()} zipcodes.' )\n",
    "\n",
    "print(f'Converage periods are {alldata.index.unique(level=\"date\").min()} to {alldata.index.unique(level=\"date\").max()}.')\n"
   ]
  },
  {
   "cell_type": "markdown",
   "metadata": {},
   "source": [
    "# 2. Modeling\n",
    "### Rationality of using VAR (multivariate AR) model \n",
    "I chose VAR model for my housing price prediction. It includes three time series; (1)housing price times series (my main focus), (2) number of active listings in an area, and (3) population net inflow in an area. In a competitive market, housing price in each zip code is set by demand and supply in a market. In this model, the number of active listings is a supply variable, and net population inflow captures the size of the demand in an area. As I show in my EDA notebook, these three time series are closely related. "
   ]
  },
  {
   "cell_type": "markdown",
   "metadata": {},
   "source": [
    "### Pre-processing to train the model individually for each zip code. "
   ]
  },
  {
   "cell_type": "markdown",
   "metadata": {},
   "source": [
    "I train a model for each zip code individually. To streamline the modeling process, I create a list of a data frame. Each data frame is for one zip code. In this way, I can use for loop to run grid search, model validation, and forecasting for all zip codes at once.\n",
    "I separate a list of a data frame by how many times I took the difference of a time series. Zip codes that passed the DF test without differencing, I stored in (diff0). Zip codes that took the first difference are in (diff1), and zip codes that took two times are in (diff2). This grouping helps me later when I roll back the differenced time series. "
   ]
  },
  {
   "cell_type": "code",
   "execution_count": 75,
   "metadata": {},
   "outputs": [],
   "source": [
    "# Define a list of data frames which took 1st difference. \n",
    "\n",
    "# Original scale \n",
    "train_orig1 = []\n",
    "test_orig1 = []\n",
    "test_orig1_1 = []\n",
    "all_orig1 = []\n",
    "# Differenced data \n",
    "train_diff1 = []\n",
    "test_diff1 = []\n",
    "all_diff1 = []\n",
    "\n",
    "# Store data in the lists\n",
    "\n",
    "for x in diff1_1:\n",
    "    train_orig1.append(pd.DataFrame(train.loc[(x, ),]))\n",
    "    test_orig1.append(pd.DataFrame(test.loc[(x, ),]))\n",
    "    test_orig1_1.append(pd.DataFrame(test.loc[(x, ),])[1:])\n",
    "    all_orig1.append(pd.DataFrame(alldata.loc[(x, ),]))\n",
    "    \n",
    "    train_diff1.append(pd.DataFrame(train.loc[(x, ),].diff().dropna()))\n",
    "    test_diff1.append(pd.DataFrame(test.loc[(x, ),].diff().dropna()))\n",
    "    all_diff1.append(pd.DataFrame(alldata.loc[(x, ),].diff().dropna()))"
   ]
  },
  {
   "cell_type": "code",
   "execution_count": 76,
   "metadata": {},
   "outputs": [],
   "source": [
    "# Define a list of data frames which takes 2nd difference.\n",
    "\n",
    "# Original scale \n",
    "train_orig2 = []\n",
    "test_orig2 = []\n",
    "test_orig2_1 = []\n",
    "all_orig2 = []\n",
    "# Differenced data \n",
    "train_diff2 = []\n",
    "test_diff2 = []\n",
    "all_diff2 = []\n",
    "\n",
    "# Store data in the lists\n",
    "for x in diff2_1:\n",
    "    train_orig2.append(pd.DataFrame(train.loc[(x, ),]))\n",
    "    test_orig2.append(pd.DataFrame(test.loc[(x, ),]))\n",
    "    test_orig2_1.append(pd.DataFrame(test.loc[(x, ),])[2:])\n",
    "    all_orig2.append(pd.DataFrame(alldata.loc[(x, ),]))\n",
    "    \n",
    "    train_diff2.append(pd.DataFrame(train.loc[(x, ),].diff().diff().dropna()))\n",
    "    test_diff2.append(pd.DataFrame(test.loc[(x, ),].diff().diff().dropna()))\n",
    "    all_diff2.append(pd.DataFrame(alldata.loc[(x, ),].diff().diff().dropna()))"
   ]
  },
  {
   "cell_type": "code",
   "execution_count": 77,
   "metadata": {},
   "outputs": [],
   "source": [
    "# List of data frame with no differencing \n",
    "\n",
    "train_diff0 = []\n",
    "test_diff0 = []\n",
    "all_diff0 = []\n",
    "\n",
    "# Store data in the lists\n",
    "\n",
    "for x in diff0:\n",
    "    train_diff0.append(pd.DataFrame(train.loc[(x, ),]))\n",
    "    test_diff0.append(pd.DataFrame(test.loc[(x, ),]))\n",
    "    all_diff0.append(pd.DataFrame(alldata.loc[(x, ),]))\n"
   ]
  },
  {
   "cell_type": "code",
   "execution_count": 78,
   "metadata": {},
   "outputs": [],
   "source": [
    "# rename the dat frame \n",
    "diff2 = diff2_1\n",
    "diff1 = diff1_1"
   ]
  },
  {
   "cell_type": "markdown",
   "metadata": {},
   "source": [
    "### Grid search for the order (P) of VAR model \n",
    "I run a grid search for each zip code to find the VAR model's best order using train data. For the model selection, I use AIC scores. Because the number of observations in my train dataset is very small for each zip code, I limit my search up to 4 lags."
   ]
  },
  {
   "cell_type": "code",
   "execution_count": 79,
   "metadata": {},
   "outputs": [],
   "source": [
    "def grid(data): \n",
    "    order = []\n",
    "    for i in [1,2,3,4]:\n",
    "        model = VAR(data)\n",
    "        results = model.fit(i)\n",
    "        order.append(results.aic)\n",
    "    order   \n",
    "    min_value = min(order)\n",
    "    order = order.index(min_value)+1\n",
    "    return order"
   ]
  },
  {
   "cell_type": "markdown",
   "metadata": {},
   "source": [
    "In below, I run grid search function with training data for all zip codes. First, I run for zip codes in diff0 (data without differencing). "
   ]
  },
  {
   "cell_type": "code",
   "execution_count": 80,
   "metadata": {
    "scrolled": true
   },
   "outputs": [
    {
     "data": {
      "text/html": [
       "<div>\n",
       "<style scoped>\n",
       "    .dataframe tbody tr th:only-of-type {\n",
       "        vertical-align: middle;\n",
       "    }\n",
       "\n",
       "    .dataframe tbody tr th {\n",
       "        vertical-align: top;\n",
       "    }\n",
       "\n",
       "    .dataframe thead th {\n",
       "        text-align: right;\n",
       "    }\n",
       "</style>\n",
       "<table border=\"1\" class=\"dataframe\">\n",
       "  <thead>\n",
       "    <tr style=\"text-align: right;\">\n",
       "      <th></th>\n",
       "      <th>name</th>\n",
       "      <th>order</th>\n",
       "    </tr>\n",
       "  </thead>\n",
       "  <tbody>\n",
       "    <tr>\n",
       "      <th>0</th>\n",
       "      <td>20015</td>\n",
       "      <td>2</td>\n",
       "    </tr>\n",
       "    <tr>\n",
       "      <th>1</th>\n",
       "      <td>20020</td>\n",
       "      <td>1</td>\n",
       "    </tr>\n",
       "    <tr>\n",
       "      <th>2</th>\n",
       "      <td>20151</td>\n",
       "      <td>1</td>\n",
       "    </tr>\n",
       "    <tr>\n",
       "      <th>3</th>\n",
       "      <td>22003</td>\n",
       "      <td>2</td>\n",
       "    </tr>\n",
       "    <tr>\n",
       "      <th>4</th>\n",
       "      <td>22124</td>\n",
       "      <td>2</td>\n",
       "    </tr>\n",
       "    <tr>\n",
       "      <th>5</th>\n",
       "      <td>22152</td>\n",
       "      <td>1</td>\n",
       "    </tr>\n",
       "    <tr>\n",
       "      <th>6</th>\n",
       "      <td>22303</td>\n",
       "      <td>1</td>\n",
       "    </tr>\n",
       "    <tr>\n",
       "      <th>7</th>\n",
       "      <td>22306</td>\n",
       "      <td>1</td>\n",
       "    </tr>\n",
       "  </tbody>\n",
       "</table>\n",
       "</div>"
      ],
      "text/plain": [
       "    name  order\n",
       "0  20015      2\n",
       "1  20020      1\n",
       "2  20151      1\n",
       "3  22003      2\n",
       "4  22124      2\n",
       "5  22152      1\n",
       "6  22303      1\n",
       "7  22306      1"
      ]
     },
     "execution_count": 80,
     "metadata": {},
     "output_type": "execute_result"
    }
   ],
   "source": [
    "# Run grid search for zip codes in diff0 and store the order in order0   \n",
    "order0 = []\n",
    "for df, name in zip(train_diff0, diff0):\n",
    "    order = grid(df)\n",
    "    order0.append([name, order])\n",
    "\n",
    "order0 = pd.DataFrame(order0, columns = ['name','order'])\n",
    "order0"
   ]
  },
  {
   "cell_type": "markdown",
   "metadata": {},
   "source": [
    "The table above report the order with the lowest AIC for each zip code in diff0 list.\n",
    "\n",
    "I do the same grid search for counties in diff1 list. "
   ]
  },
  {
   "cell_type": "code",
   "execution_count": 81,
   "metadata": {},
   "outputs": [
    {
     "data": {
      "text/html": [
       "<div>\n",
       "<style scoped>\n",
       "    .dataframe tbody tr th:only-of-type {\n",
       "        vertical-align: middle;\n",
       "    }\n",
       "\n",
       "    .dataframe tbody tr th {\n",
       "        vertical-align: top;\n",
       "    }\n",
       "\n",
       "    .dataframe thead th {\n",
       "        text-align: right;\n",
       "    }\n",
       "</style>\n",
       "<table border=\"1\" class=\"dataframe\">\n",
       "  <thead>\n",
       "    <tr style=\"text-align: right;\">\n",
       "      <th></th>\n",
       "      <th>name</th>\n",
       "      <th>order</th>\n",
       "    </tr>\n",
       "  </thead>\n",
       "  <tbody>\n",
       "    <tr>\n",
       "      <th>0</th>\n",
       "      <td>20001</td>\n",
       "      <td>2</td>\n",
       "    </tr>\n",
       "    <tr>\n",
       "      <th>1</th>\n",
       "      <td>20002</td>\n",
       "      <td>1</td>\n",
       "    </tr>\n",
       "    <tr>\n",
       "      <th>2</th>\n",
       "      <td>20003</td>\n",
       "      <td>1</td>\n",
       "    </tr>\n",
       "    <tr>\n",
       "      <th>3</th>\n",
       "      <td>20005</td>\n",
       "      <td>1</td>\n",
       "    </tr>\n",
       "    <tr>\n",
       "      <th>4</th>\n",
       "      <td>20007</td>\n",
       "      <td>4</td>\n",
       "    </tr>\n",
       "  </tbody>\n",
       "</table>\n",
       "</div>"
      ],
      "text/plain": [
       "    name  order\n",
       "0  20001      2\n",
       "1  20002      1\n",
       "2  20003      1\n",
       "3  20005      1\n",
       "4  20007      4"
      ]
     },
     "execution_count": 81,
     "metadata": {},
     "output_type": "execute_result"
    }
   ],
   "source": [
    "# Grid search for zip codes in diff1  and store the order of the model in order0    \n",
    "order1 = []\n",
    "# Use train_diff1 data (one time differenced train data) \n",
    "for df, name in zip(train_diff1, diff1):\n",
    "    order = grid(df)\n",
    "    order1.append([name, order])\n",
    "\n",
    "order1 = pd.DataFrame(order1, columns = ['name','order'])\n",
    "order1.head()"
   ]
  },
  {
   "cell_type": "markdown",
   "metadata": {},
   "source": [
    "Finally, I run the grid search for counties in diff2 list. "
   ]
  },
  {
   "cell_type": "code",
   "execution_count": 82,
   "metadata": {},
   "outputs": [
    {
     "data": {
      "text/html": [
       "<div>\n",
       "<style scoped>\n",
       "    .dataframe tbody tr th:only-of-type {\n",
       "        vertical-align: middle;\n",
       "    }\n",
       "\n",
       "    .dataframe tbody tr th {\n",
       "        vertical-align: top;\n",
       "    }\n",
       "\n",
       "    .dataframe thead th {\n",
       "        text-align: right;\n",
       "    }\n",
       "</style>\n",
       "<table border=\"1\" class=\"dataframe\">\n",
       "  <thead>\n",
       "    <tr style=\"text-align: right;\">\n",
       "      <th></th>\n",
       "      <th>name</th>\n",
       "      <th>order</th>\n",
       "    </tr>\n",
       "  </thead>\n",
       "  <tbody>\n",
       "    <tr>\n",
       "      <th>0</th>\n",
       "      <td>20008</td>\n",
       "      <td>2</td>\n",
       "    </tr>\n",
       "    <tr>\n",
       "      <th>1</th>\n",
       "      <td>20009</td>\n",
       "      <td>2</td>\n",
       "    </tr>\n",
       "    <tr>\n",
       "      <th>2</th>\n",
       "      <td>20011</td>\n",
       "      <td>3</td>\n",
       "    </tr>\n",
       "    <tr>\n",
       "      <th>3</th>\n",
       "      <td>20121</td>\n",
       "      <td>4</td>\n",
       "    </tr>\n",
       "    <tr>\n",
       "      <th>4</th>\n",
       "      <td>20132</td>\n",
       "      <td>3</td>\n",
       "    </tr>\n",
       "  </tbody>\n",
       "</table>\n",
       "</div>"
      ],
      "text/plain": [
       "    name  order\n",
       "0  20008      2\n",
       "1  20009      2\n",
       "2  20011      3\n",
       "3  20121      4\n",
       "4  20132      3"
      ]
     },
     "execution_count": 82,
     "metadata": {},
     "output_type": "execute_result"
    }
   ],
   "source": [
    "# Grid search for zip codes in diff2   and store the order of the model in order0   \n",
    "order2 = []\n",
    "# use train_diff2 data (two times differenced data)\n",
    "for df, name in zip(train_diff2, diff2):\n",
    "    order = grid(df)\n",
    "    order2.append([name, order])\n",
    "\n",
    "order2 = pd.DataFrame(order2, columns = ['name','order'])\n",
    "order2.head()"
   ]
  },
  {
   "cell_type": "markdown",
   "metadata": {},
   "source": [
    "The best orders with the lowest AIC for each zip code is now stored in a data frame named order0, order1, order2.\n",
    "\n"
   ]
  },
  {
   "cell_type": "markdown",
   "metadata": {},
   "source": [
    "### Model Validation with test time series\n",
    "\n",
    "Next, I train the model with selected order from above, and check the model's prediction accuracy using the test time series. For the accuracy score, I use Root Mean Squared Error (RMSE).\n",
    "\n",
    "In the cell below, I define a function which fits training data on the tuned model and get the prediction for the test period."
   ]
  },
  {
   "cell_type": "code",
   "execution_count": 83,
   "metadata": {},
   "outputs": [],
   "source": [
    "\n",
    "# Fit training data on the model with selected order. \n",
    "# Make prediction for the test period.   \n",
    "\n",
    "def fitpredict(train, test, zip_df, order_df): # training data (train_diff0-2), list of zipcodes(diff_df0-2), VAR order(order0-2)   \n",
    "    # To store the prediction \n",
    "    prediction = []\n",
    "  \n",
    "    for train_df, name in zip(train, zip_df):\n",
    "        # 1. Fit the training data into the model\n",
    "        model = VAR(train_df)\n",
    "        # get the number of order from the grid serach results\n",
    "        order = order_df.loc[order_df.name==name, 'order']\n",
    "        x = int(order)\n",
    "        model_fitted = model.fit(x)\n",
    "        # prediction period \n",
    "        month = pd.date_range('2021-09-01','2021-12-01', freq='MS')\n",
    "        \n",
    "        \n",
    "        \n",
    "        # 2. Predict using the train data \n",
    "        \n",
    "        # get the lag order of the fitted model to adjust the length of dataset \n",
    "        lag_order = model_fitted.k_ar\n",
    "        # input data for prediction\n",
    "        forecast_input = train_df.values[-lag_order:]\n",
    "        # Prediction for the test period (this case 2021-09-01 to 2021-12-01)\n",
    "        i = zip_df.index(name)\n",
    "        fc = model_fitted.forecast(y=forecast_input, steps=4) # steps = the test period #steps=len(test[i])\n",
    "        df_forecast = pd.DataFrame(fc, columns = ['median_listing_price','active_listing_count', 'netinflow'], index=month) #index=test[i].index\n",
    "        prediction.append(df_forecast)\n",
    "        \n",
    "\n",
    "    return prediction"
   ]
  },
  {
   "cell_type": "markdown",
   "metadata": {},
   "source": [
    "in below, I apply the fitpredict function for all zipcode. "
   ]
  },
  {
   "cell_type": "code",
   "execution_count": 84,
   "metadata": {},
   "outputs": [],
   "source": [
    "# Input the zipcodes, train data, and VAR order into fitprediction dunction. \n",
    "# 0, 1, 2 indicates number of difference of time series, and zipcodes are stored by the number of difference.  \n",
    "\n",
    "predict0 = fitpredict(train_diff0, test_diff0, diff0, order0)\n",
    "predict1 = fitpredict(train_diff1, test_diff1, diff1, order1)\n",
    "predict2 = fitpredict(train_diff2, test_diff2, diff2, order2)"
   ]
  },
  {
   "cell_type": "markdown",
   "metadata": {},
   "source": [
    "### Rolling back differenced time series.\n",
    "Before evaluating the predicted values, I need to bring the differenced data back up to its original scale. In the following cels, I create a function to roll back the differenced data. For counties in diff1, I differenced the data one time, so the prediction is one time difference. To roll back to the original scale, I sum up all differences and add it back to the last observed data of the training set. The below is the function to roll back for the differenced data.\n",
    "\n",
    "The function below rolls back the first order differencing to the original scale.  "
   ]
  },
  {
   "cell_type": "code",
   "execution_count": 85,
   "metadata": {},
   "outputs": [],
   "source": [
    "# This function roll back the first order differencing to get the original scale  \n",
    "\n",
    "def invert_diff1(df_train, df_forecast):\n",
    "    \"\"\"Revert back the first differencing to get the forecast to original scale.\"\"\"\n",
    "    df_fc = df_forecast.copy()\n",
    "    columns = df_train.columns\n",
    "    for col in columns:    \n",
    "        # create cumusum for forcasting (differenced data) \n",
    "        df_fc[str(col)+'_cumsum'] = df_fc[str(col)].cumsum()\n",
    "        # add a column of the last observed data from the training. Here, this training data should be stored in the original scale. \n",
    "        df_fc[str(col)+'_last'] = df_train[col].iloc[-1] \n",
    "        # add the acumulative change to the last observed data in original scale.\n",
    "        df_fc[str(col)+'_o'] = df_fc[str(col)+'_last'] + df_fc[str(col)+'_cumsum'] \n",
    "    df_fc_o = df_fc[['median_listing_price_o', 'active_listing_count_o', 'netinflow_o']]\n",
    "    # rename the columns of df_fc_o to match with the original \n",
    "    df_fc_o.rename(columns={'median_listing_price_o':'median_listing_price', 'active_listing_count_o':'active_listing_count', \n",
    "                   'netinflow_o': 'netinflow'}, inplace=True)\n",
    "\n",
    "    return df_fc_o"
   ]
  },
  {
   "cell_type": "markdown",
   "metadata": {},
   "source": [
    "I apply the roll-back function defined above to one-time differenced time series. "
   ]
  },
  {
   "cell_type": "code",
   "execution_count": 86,
   "metadata": {},
   "outputs": [],
   "source": [
    "predict1_rolled = []\n",
    "for df_train, df_pre, name in zip(train_orig1, predict1, diff1):\n",
    "    # apply invert difference function. \n",
    "    df_fc = invert_diff1(df_train, df_pre)\n",
    "    predict1_rolled.append(df_fc)\n",
    "\n"
   ]
  },
  {
   "cell_type": "markdown",
   "metadata": {},
   "source": [
    "The next function rolls back the second order differencing to get the original scale.  "
   ]
  },
  {
   "cell_type": "code",
   "execution_count": 87,
   "metadata": {},
   "outputs": [],
   "source": [
    "# This function roll back the second order differencing to get the original scale  \n",
    "\n",
    "def invert_diff2(df_train, df_forecast):\n",
    "    \"\"\"Revert back the second order differencing to get the forecast to original scale.\"\"\"\n",
    "    df_fc = df_forecast.copy()\n",
    "    columns = df_train.columns\n",
    "    for col in columns:    \n",
    "        # create cumulative sum of forcasting (= accumulative 2nd order change)  \n",
    "        df_fc[str(col)+'_cumsum2d'] = df_fc[str(col)].cumsum()\n",
    "        # add a column of the last observed data from the training. Here, this training data should be stored in the original scale. \n",
    "        df_fc[str(col)+'_last'] = df_train[col].iloc[-1] \n",
    "        # add a column of the second last observed data from the training. \n",
    "        df_fc[str(col)+'_2last'] = df_train[col].iloc[-2] \n",
    "        # change of the second last observed and the last observed \n",
    "        df_fc[str(col)+'_change'] =  df_fc[str(col)+'_last'] - df_fc[str(col)+'_2last']\n",
    "\n",
    "        # add the acumulative 2nd change +  the last observed change + the last observed original data   \n",
    "        df_fc[str(col)+'_o'] = df_fc[str(col)+'_last'] + df_fc[str(col)+'_change']+ df_fc[str(col)+'_cumsum2d'] \n",
    "    \n",
    "    df_fc_o = df_fc[['median_listing_price_o', 'active_listing_count_o', 'netinflow_o']]\n",
    "    # rename the columns of df_fc_o to match with the original \n",
    "    df_fc_o.rename(columns={'median_listing_price_o':'median_listing_price', 'active_listing_count_o':'active_listing_count', \n",
    "                   'netinflow_o': 'netinflow'}, inplace=True)\n",
    "    return df_fc_o\n",
    "\n"
   ]
  },
  {
   "cell_type": "code",
   "execution_count": 88,
   "metadata": {},
   "outputs": [],
   "source": [
    "predict2_rolled = []\n",
    "for df_train, df_pre, name in zip(train_orig2, predict2, diff2):\n",
    "    # apply invert difference function. \n",
    "    df_fc = invert_diff2(df_train, df_pre)\n",
    "    predict2_rolled.append(df_fc)\n",
    "\n"
   ]
  },
  {
   "cell_type": "markdown",
   "metadata": {},
   "source": [
    "To calculate RMSE, I adjust the data frame for the first or second differenced time series. Because I took the difference after the train test split, the test data for these time series are fewer than the prediction. So I drop the corresponding rows from the prediction data.\n"
   ]
  },
  {
   "cell_type": "code",
   "execution_count": 89,
   "metadata": {},
   "outputs": [],
   "source": [
    "predict1_rolled_1 = []\n",
    "\n",
    "for df, name in zip(predict1_rolled, diff1):\n",
    "    df1 = df[1:]\n",
    "    predict1_rolled_1.append(df1)\n",
    "\n",
    "predict2_rolled_1 = []\n",
    "\n",
    "for df, name in zip(predict2_rolled, diff2):\n",
    "    df2 = df[2:]\n",
    "    predict2_rolled_1.append(df2)\n"
   ]
  },
  {
   "cell_type": "markdown",
   "metadata": {},
   "source": [
    "Using the rolled back prediction, I calculate RMSE. "
   ]
  },
  {
   "cell_type": "markdown",
   "metadata": {},
   "source": [
    "#### RMSE Function"
   ]
  },
  {
   "cell_type": "code",
   "execution_count": 90,
   "metadata": {},
   "outputs": [],
   "source": [
    "def rmse(test, predict, zip_df):\n",
    "    # To store RMSE for each variables.  \n",
    "    summary_rmse = pd.DataFrame()\n",
    "    RMSE1=[]\n",
    "    RMSE2=[]\n",
    "    RMSE3=[]\n",
    "    Zipcode=[]\n",
    "        \n",
    "    for df, name in zip(predict, zip_df):\n",
    "        \n",
    "        predict1 = df['median_listing_price']\n",
    "        predict2 = df['active_listing_count']\n",
    "        predict3 = df['netinflow']\n",
    "        \n",
    "        i = zip_df.index(name)\n",
    "        test1 = test[i]['median_listing_price']\n",
    "        test2 = test[i]['active_listing_count']\n",
    "        test3 = test[i]['netinflow']\n",
    "        \n",
    "        rmse1 = np.sqrt(mean_squared_error(test1, predict1))\n",
    "        rmse2 = np.sqrt(mean_squared_error(test2, predict2))\n",
    "        rmse3 = np.sqrt(mean_squared_error(test3, predict3))\n",
    "        \n",
    "        Zipcode.append(name)\n",
    "        RMSE1.append(rmse1)\n",
    "        RMSE2.append(rmse2)\n",
    "        RMSE3.append(rmse3)\n",
    "        \n",
    "    summary_rmse['Zipcode'] = Zipcode\n",
    "    summary_rmse['RMSE_price'] = RMSE1\n",
    "    summary_rmse['RMSE_listing'] = RMSE2\n",
    "    summary_rmse['RMSE_inflow'] = RMSE3\n",
    "    \n",
    "    return summary_rmse\n"
   ]
  },
  {
   "cell_type": "markdown",
   "metadata": {},
   "source": [
    "I apply RMSE function for each zip code. RMSE for all zip codes are stored in one table as below. "
   ]
  },
  {
   "cell_type": "code",
   "execution_count": 91,
   "metadata": {
    "scrolled": true
   },
   "outputs": [
    {
     "data": {
      "text/html": [
       "<div>\n",
       "<style scoped>\n",
       "    .dataframe tbody tr th:only-of-type {\n",
       "        vertical-align: middle;\n",
       "    }\n",
       "\n",
       "    .dataframe tbody tr th {\n",
       "        vertical-align: top;\n",
       "    }\n",
       "\n",
       "    .dataframe thead th {\n",
       "        text-align: right;\n",
       "    }\n",
       "</style>\n",
       "<table border=\"1\" class=\"dataframe\">\n",
       "  <thead>\n",
       "    <tr style=\"text-align: right;\">\n",
       "      <th></th>\n",
       "      <th>Zipcode</th>\n",
       "      <th>RMSE_price</th>\n",
       "      <th>RMSE_listing</th>\n",
       "      <th>RMSE_inflow</th>\n",
       "    </tr>\n",
       "  </thead>\n",
       "  <tbody>\n",
       "    <tr>\n",
       "      <th>0</th>\n",
       "      <td>20015</td>\n",
       "      <td>268848.075409</td>\n",
       "      <td>6.343578</td>\n",
       "      <td>15.516029</td>\n",
       "    </tr>\n",
       "    <tr>\n",
       "      <th>1</th>\n",
       "      <td>20020</td>\n",
       "      <td>37489.428987</td>\n",
       "      <td>14.554757</td>\n",
       "      <td>39.955205</td>\n",
       "    </tr>\n",
       "    <tr>\n",
       "      <th>2</th>\n",
       "      <td>20151</td>\n",
       "      <td>91774.131989</td>\n",
       "      <td>12.019732</td>\n",
       "      <td>21.361424</td>\n",
       "    </tr>\n",
       "    <tr>\n",
       "      <th>3</th>\n",
       "      <td>22003</td>\n",
       "      <td>73768.134405</td>\n",
       "      <td>13.005209</td>\n",
       "      <td>17.689678</td>\n",
       "    </tr>\n",
       "    <tr>\n",
       "      <th>4</th>\n",
       "      <td>22124</td>\n",
       "      <td>277594.794481</td>\n",
       "      <td>20.312284</td>\n",
       "      <td>24.079081</td>\n",
       "    </tr>\n",
       "    <tr>\n",
       "      <th>...</th>\n",
       "      <td>...</td>\n",
       "      <td>...</td>\n",
       "      <td>...</td>\n",
       "      <td>...</td>\n",
       "    </tr>\n",
       "    <tr>\n",
       "      <th>12</th>\n",
       "      <td>21704</td>\n",
       "      <td>169356.826272</td>\n",
       "      <td>11.547151</td>\n",
       "      <td>64.881706</td>\n",
       "    </tr>\n",
       "    <tr>\n",
       "      <th>13</th>\n",
       "      <td>21774</td>\n",
       "      <td>29952.477286</td>\n",
       "      <td>18.170015</td>\n",
       "      <td>75.953818</td>\n",
       "    </tr>\n",
       "    <tr>\n",
       "      <th>14</th>\n",
       "      <td>22066</td>\n",
       "      <td>292142.946693</td>\n",
       "      <td>12.957499</td>\n",
       "      <td>33.774975</td>\n",
       "    </tr>\n",
       "    <tr>\n",
       "      <th>15</th>\n",
       "      <td>22180</td>\n",
       "      <td>172843.294952</td>\n",
       "      <td>4.303384</td>\n",
       "      <td>67.025676</td>\n",
       "    </tr>\n",
       "    <tr>\n",
       "      <th>16</th>\n",
       "      <td>22191</td>\n",
       "      <td>2265.224312</td>\n",
       "      <td>34.437504</td>\n",
       "      <td>31.790094</td>\n",
       "    </tr>\n",
       "  </tbody>\n",
       "</table>\n",
       "<p>156 rows × 4 columns</p>\n",
       "</div>"
      ],
      "text/plain": [
       "   Zipcode     RMSE_price  RMSE_listing  RMSE_inflow\n",
       "0    20015  268848.075409      6.343578    15.516029\n",
       "1    20020   37489.428987     14.554757    39.955205\n",
       "2    20151   91774.131989     12.019732    21.361424\n",
       "3    22003   73768.134405     13.005209    17.689678\n",
       "4    22124  277594.794481     20.312284    24.079081\n",
       "..     ...            ...           ...          ...\n",
       "12   21704  169356.826272     11.547151    64.881706\n",
       "13   21774   29952.477286     18.170015    75.953818\n",
       "14   22066  292142.946693     12.957499    33.774975\n",
       "15   22180  172843.294952      4.303384    67.025676\n",
       "16   22191    2265.224312     34.437504    31.790094\n",
       "\n",
       "[156 rows x 4 columns]"
      ]
     },
     "execution_count": 91,
     "metadata": {},
     "output_type": "execute_result"
    }
   ],
   "source": [
    "# Calcuate RMSE by using rmse function \n",
    "rmse_df0 = rmse(test_diff0, predict0, diff0) \n",
    "rmse_df1 = rmse(test_orig1_1, predict1_rolled_1, diff1)  #test_orig1, \n",
    "rmse_df2 = rmse(test_orig2_1, predict2_rolled_1, diff2)\n",
    "# Create one large dataframe wchich store the all RMSE \n",
    "rmse_df = rmse_df0.append(rmse_df1).append(rmse_df2)\n",
    "rmse_df"
   ]
  },
  {
   "cell_type": "markdown",
   "metadata": {},
   "source": [
    "#### Comparison with Naive model's RMSE\n",
    "To evaluate VAR model,  I compare with RMSE of naive model. Naive model for the time series is shifting the time series by one period. So, the next week's revenue change is equal to today's revenue change. In below, I calcuate RMSE of naive model for all zip codes."
   ]
  },
  {
   "cell_type": "code",
   "execution_count": 92,
   "metadata": {},
   "outputs": [],
   "source": [
    "# Calculate a prediction by naive model \n",
    "\n",
    "def rmse_naive(data, zip_df):\n",
    "    \n",
    "    # to store RMSE for all zipcodes \n",
    "    rmse_df = pd.DataFrame()\n",
    "    rmse_naive = []\n",
    "    Zipcode = []\n",
    "    \n",
    "    for df, name in zip(data, zip_df):\n",
    "        \n",
    "        # Get housing price \n",
    "        price = df['median_listing_price']\n",
    "        # Naive model prediction  \n",
    "        naive = price.shift(1)\n",
    "        # Calculate RMSE \n",
    "        rmse = np.sqrt(mean_squared_error(price[1:], naive.dropna()))\n",
    "        # store \n",
    "        rmse_naive.append(rmse)\n",
    "        Zipcode.append(name)\n",
    "    # store results in data frame \n",
    "    rmse_df['RMSE_naive'] = rmse_naive\n",
    "    rmse_df['Zipcode'] = Zipcode\n",
    "    \n",
    "    return rmse_df"
   ]
  },
  {
   "cell_type": "markdown",
   "metadata": {},
   "source": [
    "Using the anove function, I calculate the naive model RMSE for all zip codes. "
   ]
  },
  {
   "cell_type": "code",
   "execution_count": 93,
   "metadata": {},
   "outputs": [
    {
     "data": {
      "text/html": [
       "<div>\n",
       "<style scoped>\n",
       "    .dataframe tbody tr th:only-of-type {\n",
       "        vertical-align: middle;\n",
       "    }\n",
       "\n",
       "    .dataframe tbody tr th {\n",
       "        vertical-align: top;\n",
       "    }\n",
       "\n",
       "    .dataframe thead th {\n",
       "        text-align: right;\n",
       "    }\n",
       "</style>\n",
       "<table border=\"1\" class=\"dataframe\">\n",
       "  <thead>\n",
       "    <tr style=\"text-align: right;\">\n",
       "      <th></th>\n",
       "      <th>RMSE_naive</th>\n",
       "      <th>Zipcode</th>\n",
       "    </tr>\n",
       "  </thead>\n",
       "  <tbody>\n",
       "    <tr>\n",
       "      <th>0</th>\n",
       "      <td>227335.444792</td>\n",
       "      <td>20015</td>\n",
       "    </tr>\n",
       "    <tr>\n",
       "      <th>1</th>\n",
       "      <td>23779.996449</td>\n",
       "      <td>20020</td>\n",
       "    </tr>\n",
       "    <tr>\n",
       "      <th>2</th>\n",
       "      <td>54357.833532</td>\n",
       "      <td>20151</td>\n",
       "    </tr>\n",
       "    <tr>\n",
       "      <th>3</th>\n",
       "      <td>41833.691498</td>\n",
       "      <td>22003</td>\n",
       "    </tr>\n",
       "    <tr>\n",
       "      <th>4</th>\n",
       "      <td>186632.169037</td>\n",
       "      <td>22124</td>\n",
       "    </tr>\n",
       "  </tbody>\n",
       "</table>\n",
       "</div>"
      ],
      "text/plain": [
       "      RMSE_naive Zipcode\n",
       "0  227335.444792   20015\n",
       "1   23779.996449   20020\n",
       "2   54357.833532   20151\n",
       "3   41833.691498   22003\n",
       "4  186632.169037   22124"
      ]
     },
     "execution_count": 93,
     "metadata": {},
     "output_type": "execute_result"
    }
   ],
   "source": [
    "# Calcuate naive model RMSE \n",
    "rmse_naive0 = rmse_naive(all_diff0, diff0) \n",
    "rmse_naive1 = rmse_naive(all_diff1, diff1)  #test_orig1, \n",
    "rmse_naive2 = rmse_naive(all_diff2, diff2)\n",
    "# Create one large dataframe wchich store the all RMSE \n",
    "rmse_naive_df = rmse_naive0.append(rmse_naive1).append(rmse_naive2)\n",
    "rmse_naive_df.head()\n"
   ]
  },
  {
   "cell_type": "code",
   "execution_count": 94,
   "metadata": {},
   "outputs": [
    {
     "data": {
      "text/html": [
       "<div>\n",
       "<style scoped>\n",
       "    .dataframe tbody tr th:only-of-type {\n",
       "        vertical-align: middle;\n",
       "    }\n",
       "\n",
       "    .dataframe tbody tr th {\n",
       "        vertical-align: top;\n",
       "    }\n",
       "\n",
       "    .dataframe thead th {\n",
       "        text-align: right;\n",
       "    }\n",
       "</style>\n",
       "<table border=\"1\" class=\"dataframe\">\n",
       "  <thead>\n",
       "    <tr style=\"text-align: right;\">\n",
       "      <th></th>\n",
       "      <th>RMSE_price</th>\n",
       "      <th>RMSE_listing</th>\n",
       "      <th>RMSE_inflow</th>\n",
       "      <th>RMSE_naive</th>\n",
       "    </tr>\n",
       "  </thead>\n",
       "  <tbody>\n",
       "    <tr>\n",
       "      <th>count</th>\n",
       "      <td>1.560000e+02</td>\n",
       "      <td>156.000000</td>\n",
       "      <td>156.000000</td>\n",
       "      <td>156.000000</td>\n",
       "    </tr>\n",
       "    <tr>\n",
       "      <th>mean</th>\n",
       "      <td>9.444711e+04</td>\n",
       "      <td>10.368096</td>\n",
       "      <td>32.686321</td>\n",
       "      <td>88836.015021</td>\n",
       "    </tr>\n",
       "    <tr>\n",
       "      <th>std</th>\n",
       "      <td>1.606751e+05</td>\n",
       "      <td>9.513676</td>\n",
       "      <td>24.503454</td>\n",
       "      <td>103566.573825</td>\n",
       "    </tr>\n",
       "    <tr>\n",
       "      <th>min</th>\n",
       "      <td>2.265224e+03</td>\n",
       "      <td>0.561967</td>\n",
       "      <td>3.799956</td>\n",
       "      <td>14586.772786</td>\n",
       "    </tr>\n",
       "    <tr>\n",
       "      <th>25%</th>\n",
       "      <td>2.918630e+04</td>\n",
       "      <td>4.429202</td>\n",
       "      <td>17.632170</td>\n",
       "      <td>36997.528137</td>\n",
       "    </tr>\n",
       "    <tr>\n",
       "      <th>50%</th>\n",
       "      <td>4.904863e+04</td>\n",
       "      <td>7.373662</td>\n",
       "      <td>26.006453</td>\n",
       "      <td>50836.962086</td>\n",
       "    </tr>\n",
       "    <tr>\n",
       "      <th>75%</th>\n",
       "      <td>9.393838e+04</td>\n",
       "      <td>12.441012</td>\n",
       "      <td>38.516547</td>\n",
       "      <td>92681.848929</td>\n",
       "    </tr>\n",
       "    <tr>\n",
       "      <th>max</th>\n",
       "      <td>1.610229e+06</td>\n",
       "      <td>68.779270</td>\n",
       "      <td>184.232534</td>\n",
       "      <td>687712.511380</td>\n",
       "    </tr>\n",
       "  </tbody>\n",
       "</table>\n",
       "</div>"
      ],
      "text/plain": [
       "         RMSE_price  RMSE_listing  RMSE_inflow     RMSE_naive\n",
       "count  1.560000e+02    156.000000   156.000000     156.000000\n",
       "mean   9.444711e+04     10.368096    32.686321   88836.015021\n",
       "std    1.606751e+05      9.513676    24.503454  103566.573825\n",
       "min    2.265224e+03      0.561967     3.799956   14586.772786\n",
       "25%    2.918630e+04      4.429202    17.632170   36997.528137\n",
       "50%    4.904863e+04      7.373662    26.006453   50836.962086\n",
       "75%    9.393838e+04     12.441012    38.516547   92681.848929\n",
       "max    1.610229e+06     68.779270   184.232534  687712.511380"
      ]
     },
     "execution_count": 94,
     "metadata": {},
     "output_type": "execute_result"
    }
   ],
   "source": [
    "# Comparison \n",
    "# Merge to VAR's rmse table \n",
    "rmse_df_1 = rmse_df.merge(rmse_naive_df, on='Zipcode', how='left')\n",
    "# Compare \n",
    "rmse_df_1.describe()"
   ]
  },
  {
   "cell_type": "markdown",
   "metadata": {},
   "source": [
    "RMSE of housing price by VAR model widely varies across zipcodes (from 3641 to 545165). Median RMSE is 32300. Given the majority of housing pice are around 600,000, this prediction is not bad. My model's prediction will be off the real value by 6%.  \n",
    "\n",
    "Comparison with narive model RMSE shows that mean, median, min, max values of RMSE for the VA model is significantly lower than naive model's RMSE. So, my VAR model improved the prediction accuracy.  \n",
    "\n"
   ]
  },
  {
   "cell_type": "markdown",
   "metadata": {},
   "source": [
    "# 4  Forecasting\n",
    "\n",
    "I forecast the housing price for 2022 for all zip codes. First, I fit the model into an entire sample. Using that model, I make an out-of-sample prediction.\n",
    "\n",
    "In the function below, I fit the model on the complete dataset and get a forecast for 2022 for zip code. The following function is almost identical to the earlier fitprediction function with minor changes."
   ]
  },
  {
   "cell_type": "code",
   "execution_count": 95,
   "metadata": {},
   "outputs": [],
   "source": [
    "\n",
    "def forecast(data, zip_df, order_df): # complete dataset (all_diff0-2), list of zipcodes(diff_df0-2), VAR order(order0-2)   \n",
    "    \"\"\"\n",
    "    Input: complete train data, list of county ids, and exogenous data. \n",
    "    Output: predictions\n",
    "    \n",
    "    \"\"\"\n",
    "    \n",
    "    # To store 12 months forecast \n",
    "    forecast12 = []\n",
    "\n",
    "  \n",
    "    for df, zipcode in zip(data, zip_df):\n",
    "        \n",
    "        # 1. Fit the model on the complete dataset\n",
    "        model = VAR(df)\n",
    "        # get the number of order from the grid serach results\n",
    "        order = order_df.loc[order_df.name==zipcode, 'order']\n",
    "        x = int(order)\n",
    "        model_fitted = model.fit(x)\n",
    "        \n",
    "        \n",
    "        # 2. Get forecast for the next 12 month  \n",
    "        \n",
    "        # get the lag order of the fitted model \n",
    "        lag_order = model_fitted.k_ar\n",
    "        # input data for forecasting\n",
    "        forecast_input = df.values[-lag_order:]\n",
    "        # forecasting months \n",
    "        month = pd.date_range('2022-01-01','2022-12-01', freq='MS')\n",
    "        \n",
    "        # Get forecast for 2022-01-01 to 2022-12-01)\n",
    "        fc = model_fitted.forecast(y=forecast_input, steps=12) # steps = the test period \n",
    "        df_forecast = pd.DataFrame(fc, columns = ['median_listing_price','active_listing_count', 'netinflow'], index=month) #, index=month\n",
    "                \n",
    "        forecast12.append(df_forecast)\n",
    "\n",
    "        \n",
    "\n",
    "    return forecast12\n",
    "\n"
   ]
  },
  {
   "cell_type": "markdown",
   "metadata": {},
   "source": [
    "Apply the function and get prediction."
   ]
  },
  {
   "cell_type": "code",
   "execution_count": 96,
   "metadata": {},
   "outputs": [],
   "source": [
    "# Input the zipcodes, train data, and VAR order into fitprediction dunction. \n",
    "# 0, 1, 2 indicates number of difference of time series, and zipcodes are stored by the number of difference.  \n",
    "\n",
    "forecast0 = forecast(all_diff0, diff0, order0)\n",
    "forecast1 = forecast(all_diff1, diff1, order1)\n",
    "forecast2 = forecast(all_diff2, diff2, order2)"
   ]
  },
  {
   "cell_type": "markdown",
   "metadata": {},
   "source": [
    "#### Rolling back differenced time series.\n",
    "Using invert_diff function created earlier, I roll back the differenced time series (diff1 and diff2) to its original scale."
   ]
  },
  {
   "cell_type": "markdown",
   "metadata": {},
   "source": [
    "First, I apply the invert_diff1 function to roll back the first order differencing to get the original scale "
   ]
  },
  {
   "cell_type": "code",
   "execution_count": 97,
   "metadata": {},
   "outputs": [],
   "source": [
    "forecast1_rolled = []\n",
    "for df_train, df_pre, name in zip(train_orig1, forecast1, diff1):\n",
    "    # apply invert difference function. \n",
    "    df_fc = invert_diff1(df_train, df_pre)\n",
    "    forecast1_rolled.append(df_fc)\n",
    "\n"
   ]
  },
  {
   "cell_type": "markdown",
   "metadata": {},
   "source": [
    "Next, I apply the invert_diff2 function to roll back the second order differencing to get the original scale "
   ]
  },
  {
   "cell_type": "code",
   "execution_count": 98,
   "metadata": {},
   "outputs": [],
   "source": [
    "forecast2_rolled = []\n",
    "for df_train, df_pre, name in zip(train_orig2, forecast2, diff2):\n",
    "    # apply invert difference function. \n",
    "    df_fc = invert_diff2(df_train, df_pre)\n",
    "    forecast2_rolled.append(df_fc)\n"
   ]
  },
  {
   "cell_type": "markdown",
   "metadata": {},
   "source": [
    "### Store forecast in one data frame\n",
    "\n",
    "Forecasted values are stored in a separate data by number of differencing. In the cell below, I create a one large data frame which sored forecasted value in one data frame. "
   ]
  },
  {
   "cell_type": "code",
   "execution_count": 99,
   "metadata": {},
   "outputs": [],
   "source": [
    "# Store forecasted values in list of data frame format. \n",
    "forecast0_df = []\n",
    "for df_pre, name in zip(forecast0, diff0):\n",
    "    df_pre['zipcode']=name\n",
    "    forecast0_df.append(df_pre)\n",
    "\n",
    "forecast1_df = []\n",
    "for df_pre, name in zip(forecast1_rolled, diff1):\n",
    "    df_pre['zipcode']=name\n",
    "    forecast1_df.append(df_pre)\n",
    "    \n",
    "forecast2_df = []\n",
    "for df_pre, name in zip(forecast2_rolled, diff2):\n",
    "    df_pre['zipcode']=name\n",
    "    forecast2_df.append(df_pre)\n",
    "\n",
    "# merge a list of DataFrames into a single DataFrame\n",
    "fc_0 = pd.concat(forecast0_df)\n",
    "fc_1 = pd.concat(forecast1_df)\n",
    "fc_2 = pd.concat(forecast2_df)\n",
    "\n",
    "# append fc_0, fc_1, fc_2\n",
    "fc = fc_0.append(fc_1).append(fc_2)\n",
    "\n",
    "# merge forecast dataframe and observed data \n",
    "DC1 = DC.reset_index()\n",
    "fc1 = fc.reset_index()\n",
    "fc1.rename(columns={'index':'date'}, inplace=True )\n",
    "dcforecast = DC1.merge(fc1, on = ['date','zipcode'], how='outer')\n",
    "\n",
    "# forecast and observed price are currently in the different column. Now append forecast to the historic time series  \n",
    "dcforecast.median_listing_price_x.fillna(dcforecast.median_listing_price_y, inplace=True)\n",
    "dcforecast.netinflow_x.fillna(dcforecast.netinflow_y, inplace=True)\n",
    "dcforecast.active_listing_count_x.fillna(dcforecast.active_listing_count_y, inplace=True)\n",
    "\n",
    "# Drop forecast columns and rename columns. \n",
    "dcforecast.drop(['median_listing_price_y', 'active_listing_count_y', 'netinflow_y'], axis=1, inplace=True)\n",
    "dcforecast.rename(columns={'median_listing_price_x': 'median_listing_price', \n",
    "                          'active_listing_count_x':'active_listing_count', 'netinflow_x':'netinflow' }, inplace=True)\n",
    "\n"
   ]
  },
  {
   "cell_type": "markdown",
   "metadata": {},
   "source": [
    "Finally, I calculate yearly changes of the forecast and save it in the csvfile. "
   ]
  },
  {
   "cell_type": "code",
   "execution_count": 100,
   "metadata": {},
   "outputs": [],
   "source": [
    "# Calcualte the yearly changes\n",
    "\n",
    "dcforecast['change_price'] = dcforecast.groupby(['zipcode'])['median_listing_price'].pct_change(12)\n",
    "dcforecast['change_listing'] = dcforecast.groupby(['zipcode'])['active_listing_count'].pct_change(12)\n",
    "dcforecast['change_inflow'] = dcforecast.groupby(['zipcode'])['netinflow'].pct_change(12)\n",
    "\n",
    "\n",
    "# # save in csv \n",
    "fc.to_csv('Data/dcforecast12.csv', index=False)\n",
    "DC.to_csv('Data/dchistoric.csv', index=False)\n",
    "dcforecast.to_csv('Data/dcfull.csv', index=False)\n"
   ]
  },
  {
   "cell_type": "code",
   "execution_count": 101,
   "metadata": {},
   "outputs": [],
   "source": [
    "# Calcualte the yearly changes\n",
    "\n",
    "# Set Multiinde x with daye and zip code\n",
    "df_final = dcforecast.set_index(['zipcode', 'date']).sort_index() \n",
    "# create a data frame which shifted by 12 month. \n",
    "df_shifted = df_final.shift(12).head(20)\n",
    "\n",
    "\n",
    "# merge shifted data and original data\n",
    "df_shifted.reset_index(inplace=True)\n",
    "df_final.reset_index(inplace=True)\n",
    "df_save = df_final.merge(df_shifted, on=['zipcode', 'date'], how='left')\n",
    "\n",
    "# calculate the year on year changes. \n",
    "df_save['price_change'] = df_save.median_listing_price_x - df_save.median_listing_price_y\n",
    "df_save['listing_change'] = df_save.active_listing_count_x - df_save.active_listing_count_y\n",
    "df_save['inflow_change'] = df_save.netinflow_x - df_save.netinflow_y\n",
    "\n",
    "# Drop unnecessary columns \n",
    "drop=['median_listing_price_y', 'active_listing_count_y', 'netinflow_y', ]\n",
    "df_save.drop(drop, axis=1, inplace=True)\n",
    "df_save.rename(columns={'median_listing_price_x':'median_listing_price', 'active_listing_count_x':'active_listing_count',\n",
    "       'netinflow_x':'netinflow'}, inplace=True)\n",
    "\n"
   ]
  },
  {
   "cell_type": "code",
   "execution_count": 102,
   "metadata": {},
   "outputs": [],
   "source": [
    "df_save.to_csv('Data/housepricefc.csv')"
   ]
  },
  {
   "cell_type": "code",
   "execution_count": null,
   "metadata": {},
   "outputs": [],
   "source": []
  },
  {
   "cell_type": "code",
   "execution_count": null,
   "metadata": {},
   "outputs": [],
   "source": []
  }
 ],
 "metadata": {
  "kernelspec": {
   "display_name": "Python (learn-env)",
   "language": "python",
   "name": "learn-env"
  },
  "language_info": {
   "codemirror_mode": {
    "name": "ipython",
    "version": 3
   },
   "file_extension": ".py",
   "mimetype": "text/x-python",
   "name": "python",
   "nbconvert_exporter": "python",
   "pygments_lexer": "ipython3",
   "version": "3.8.5"
  }
 },
 "nbformat": 4,
 "nbformat_minor": 4
}
