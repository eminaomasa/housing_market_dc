{
 "cells": [
  {
   "cell_type": "markdown",
   "metadata": {},
   "source": [
    "# Post Analysis 2 - 2022 TOP 5 counties in Small Merchant Revenue\n",
    "\n",
    "In this notebook, I analyze the forecasted data. I find the TOP 5 counties in terms of small merchant revenue changes and plot them on a map using Geo Pandas.\n"
   ]
  },
  {
   "cell_type": "code",
   "execution_count": 1,
   "metadata": {},
   "outputs": [],
   "source": [
    "import geopandas as gpd\n",
    "import pandas as pd\n",
    "import numpy as np\n",
    "import matplotlib.pyplot as plt\n",
    "%matplotlib inline\n",
    "import seaborn as sns\n",
    "import warnings\n",
    "warnings.filterwarnings('ignore')"
   ]
  },
  {
   "cell_type": "markdown",
   "metadata": {},
   "source": [
    "First, I load my revenue forecast data. "
   ]
  },
  {
   "cell_type": "code",
   "execution_count": 2,
   "metadata": {},
   "outputs": [
    {
     "data": {
      "text/html": [
       "<div>\n",
       "<style scoped>\n",
       "    .dataframe tbody tr th:only-of-type {\n",
       "        vertical-align: middle;\n",
       "    }\n",
       "\n",
       "    .dataframe tbody tr th {\n",
       "        vertical-align: top;\n",
       "    }\n",
       "\n",
       "    .dataframe thead th {\n",
       "        text-align: right;\n",
       "    }\n",
       "</style>\n",
       "<table border=\"1\" class=\"dataframe\">\n",
       "  <thead>\n",
       "    <tr style=\"text-align: right;\">\n",
       "      <th></th>\n",
       "      <th>countyfips</th>\n",
       "      <th>date</th>\n",
       "      <th>revenue_all</th>\n",
       "      <th>yoy_change</th>\n",
       "      <th>year</th>\n",
       "      <th>month</th>\n",
       "      <th>yearmonth</th>\n",
       "      <th>day</th>\n",
       "      <th>Date</th>\n",
       "    </tr>\n",
       "  </thead>\n",
       "  <tbody>\n",
       "    <tr>\n",
       "      <th>0</th>\n",
       "      <td>11001</td>\n",
       "      <td>2020-01-11 00:00:00</td>\n",
       "      <td>0.0302</td>\n",
       "      <td>NaN</td>\n",
       "      <td>2020</td>\n",
       "      <td>1.0</td>\n",
       "      <td>2020-01</td>\n",
       "      <td>11.0</td>\n",
       "      <td>2020-01-11</td>\n",
       "    </tr>\n",
       "    <tr>\n",
       "      <th>1</th>\n",
       "      <td>24009</td>\n",
       "      <td>2020-01-11 00:00:00</td>\n",
       "      <td>0.0136</td>\n",
       "      <td>NaN</td>\n",
       "      <td>2020</td>\n",
       "      <td>1.0</td>\n",
       "      <td>2020-01</td>\n",
       "      <td>11.0</td>\n",
       "      <td>2020-01-11</td>\n",
       "    </tr>\n",
       "    <tr>\n",
       "      <th>2</th>\n",
       "      <td>24017</td>\n",
       "      <td>2020-01-11 00:00:00</td>\n",
       "      <td>0.0810</td>\n",
       "      <td>NaN</td>\n",
       "      <td>2020</td>\n",
       "      <td>1.0</td>\n",
       "      <td>2020-01</td>\n",
       "      <td>11.0</td>\n",
       "      <td>2020-01-11</td>\n",
       "    </tr>\n",
       "    <tr>\n",
       "      <th>3</th>\n",
       "      <td>24021</td>\n",
       "      <td>2020-01-11 00:00:00</td>\n",
       "      <td>-0.0298</td>\n",
       "      <td>NaN</td>\n",
       "      <td>2020</td>\n",
       "      <td>1.0</td>\n",
       "      <td>2020-01</td>\n",
       "      <td>11.0</td>\n",
       "      <td>2020-01-11</td>\n",
       "    </tr>\n",
       "    <tr>\n",
       "      <th>4</th>\n",
       "      <td>24031</td>\n",
       "      <td>2020-01-11 00:00:00</td>\n",
       "      <td>-0.0524</td>\n",
       "      <td>NaN</td>\n",
       "      <td>2020</td>\n",
       "      <td>1.0</td>\n",
       "      <td>2020-01</td>\n",
       "      <td>11.0</td>\n",
       "      <td>2020-01-11</td>\n",
       "    </tr>\n",
       "  </tbody>\n",
       "</table>\n",
       "</div>"
      ],
      "text/plain": [
       "   countyfips                 date  revenue_all  yoy_change  year  month  \\\n",
       "0       11001  2020-01-11 00:00:00       0.0302         NaN  2020    1.0   \n",
       "1       24009  2020-01-11 00:00:00       0.0136         NaN  2020    1.0   \n",
       "2       24017  2020-01-11 00:00:00       0.0810         NaN  2020    1.0   \n",
       "3       24021  2020-01-11 00:00:00      -0.0298         NaN  2020    1.0   \n",
       "4       24031  2020-01-11 00:00:00      -0.0524         NaN  2020    1.0   \n",
       "\n",
       "  yearmonth   day        Date  \n",
       "0   2020-01  11.0  2020-01-11  \n",
       "1   2020-01  11.0  2020-01-11  \n",
       "2   2020-01  11.0  2020-01-11  \n",
       "3   2020-01  11.0  2020-01-11  \n",
       "4   2020-01  11.0  2020-01-11  "
      ]
     },
     "execution_count": 2,
     "metadata": {},
     "output_type": "execute_result"
    }
   ],
   "source": [
    "# Read revenue forecast data \n",
    "df = pd.read_csv('Data/revenue_forecast.csv')\n",
    "\n",
    "# Define year column\n",
    "df['year']=df.date.astype(str).str[:4]\n",
    "\n",
    "df.head()"
   ]
  },
  {
   "cell_type": "markdown",
   "metadata": {},
   "source": [
    "Next, I load US county shape file for Geo Panda.  "
   ]
  },
  {
   "cell_type": "code",
   "execution_count": 3,
   "metadata": {},
   "outputs": [
    {
     "data": {
      "text/html": [
       "<div>\n",
       "<style scoped>\n",
       "    .dataframe tbody tr th:only-of-type {\n",
       "        vertical-align: middle;\n",
       "    }\n",
       "\n",
       "    .dataframe tbody tr th {\n",
       "        vertical-align: top;\n",
       "    }\n",
       "\n",
       "    .dataframe thead th {\n",
       "        text-align: right;\n",
       "    }\n",
       "</style>\n",
       "<table border=\"1\" class=\"dataframe\">\n",
       "  <thead>\n",
       "    <tr style=\"text-align: right;\">\n",
       "      <th></th>\n",
       "      <th>STFIPS</th>\n",
       "      <th>CTFIPS</th>\n",
       "      <th>STATE</th>\n",
       "      <th>COUNTY</th>\n",
       "      <th>VERSION</th>\n",
       "      <th>Shape_Leng</th>\n",
       "      <th>Shape_Area</th>\n",
       "      <th>geometry</th>\n",
       "    </tr>\n",
       "  </thead>\n",
       "  <tbody>\n",
       "    <tr>\n",
       "      <th>0</th>\n",
       "      <td>02</td>\n",
       "      <td>2016</td>\n",
       "      <td>Alaska</td>\n",
       "      <td>Aleutians West</td>\n",
       "      <td>05</td>\n",
       "      <td>62.576763</td>\n",
       "      <td>1.540013</td>\n",
       "      <td>MULTIPOLYGON (((-170.34620 57.21312, -170.3328...</td>\n",
       "    </tr>\n",
       "    <tr>\n",
       "      <th>1</th>\n",
       "      <td>02</td>\n",
       "      <td>2290</td>\n",
       "      <td>Alaska</td>\n",
       "      <td>Yukon-Koyukuk</td>\n",
       "      <td>05</td>\n",
       "      <td>63.135667</td>\n",
       "      <td>74.225260</td>\n",
       "      <td>POLYGON ((-147.99746 64.34170, -148.04161 64.3...</td>\n",
       "    </tr>\n",
       "    <tr>\n",
       "      <th>2</th>\n",
       "      <td>02</td>\n",
       "      <td>2185</td>\n",
       "      <td>Alaska</td>\n",
       "      <td>North Slope</td>\n",
       "      <td>05</td>\n",
       "      <td>130.327563</td>\n",
       "      <td>52.678634</td>\n",
       "      <td>MULTIPOLYGON (((-149.74913 70.49325, -149.7479...</td>\n",
       "    </tr>\n",
       "    <tr>\n",
       "      <th>3</th>\n",
       "      <td>02</td>\n",
       "      <td>2188</td>\n",
       "      <td>Alaska</td>\n",
       "      <td>Northwest Arctic</td>\n",
       "      <td>05</td>\n",
       "      <td>88.348799</td>\n",
       "      <td>19.328173</td>\n",
       "      <td>MULTIPOLYGON (((-162.52343 66.04237, -162.5296...</td>\n",
       "    </tr>\n",
       "    <tr>\n",
       "      <th>4</th>\n",
       "      <td>02</td>\n",
       "      <td>2240</td>\n",
       "      <td>Alaska</td>\n",
       "      <td>Southeast Fairbanks</td>\n",
       "      <td>05</td>\n",
       "      <td>21.362151</td>\n",
       "      <td>11.848211</td>\n",
       "      <td>POLYGON ((-146.48418 63.17392, -146.48920 63.2...</td>\n",
       "    </tr>\n",
       "  </tbody>\n",
       "</table>\n",
       "</div>"
      ],
      "text/plain": [
       "  STFIPS  CTFIPS   STATE               COUNTY VERSION  Shape_Leng  Shape_Area  \\\n",
       "0     02    2016  Alaska       Aleutians West      05   62.576763    1.540013   \n",
       "1     02    2290  Alaska        Yukon-Koyukuk      05   63.135667   74.225260   \n",
       "2     02    2185  Alaska          North Slope      05  130.327563   52.678634   \n",
       "3     02    2188  Alaska     Northwest Arctic      05   88.348799   19.328173   \n",
       "4     02    2240  Alaska  Southeast Fairbanks      05   21.362151   11.848211   \n",
       "\n",
       "                                            geometry  \n",
       "0  MULTIPOLYGON (((-170.34620 57.21312, -170.3328...  \n",
       "1  POLYGON ((-147.99746 64.34170, -148.04161 64.3...  \n",
       "2  MULTIPOLYGON (((-149.74913 70.49325, -149.7479...  \n",
       "3  MULTIPOLYGON (((-162.52343 66.04237, -162.5296...  \n",
       "4  POLYGON ((-146.48418 63.17392, -146.48920 63.2...  "
      ]
     },
     "execution_count": 3,
     "metadata": {},
     "output_type": "execute_result"
    }
   ],
   "source": [
    "county = gpd.read_file(\"Shape/US_County_Boundaries/US_County_Boundaries.shp\")\n",
    "county.CTFIPS = county.CTFIPS.astype('int')\n",
    "county.head()"
   ]
  },
  {
   "cell_type": "markdown",
   "metadata": {},
   "source": [
    "Next I merge county shape file to my Geo IDs data to drop counties outside of Washington DC Metro Area.\n",
    "\n",
    "In below, I load my Geo IDs data.  "
   ]
  },
  {
   "cell_type": "code",
   "execution_count": 4,
   "metadata": {},
   "outputs": [],
   "source": [
    "# Read Geo Data \n",
    "df_g = pd.read_csv('Data/df_geo.csv')\n",
    "# Include only Washington DC metro area \n",
    "cz = df_g[['countyname', 'countyfips', 'stateabbrev']][df_g.czname=='Washington DC']\n",
    "# Adjust columns names and data type \n",
    "cz.rename(columns={'countyfips':'CTFIPS'}, inplace=True)\n",
    "cz.CTFIPS = cz.CTFIPS.astype('int')"
   ]
  },
  {
   "cell_type": "markdown",
   "metadata": {},
   "source": [
    "Next, I merge county shape file to Geo IDs data and drop counties outside of Washington DC Metro Area. "
   ]
  },
  {
   "cell_type": "code",
   "execution_count": 5,
   "metadata": {},
   "outputs": [
    {
     "data": {
      "text/plain": [
       "<AxesSubplot:>"
      ]
     },
     "execution_count": 5,
     "metadata": {},
     "output_type": "execute_result"
    },
    {
     "data": {
      "image/png": "[encoded data removed]",
      "text/plain": [
       "<Figure size 432x432 with 1 Axes>"
      ]
     },
     "metadata": {
      "needs_background": "light"
     },
     "output_type": "display_data"
    }
   ],
   "source": [
    "map_county = county.merge(cz, on = 'CTFIPS', how='inner')\n",
    "map_county.drop_duplicates(inplace=True)\n",
    "map_county.boundary.plot(figsize=(6, 6))"
   ]
  },
  {
   "cell_type": "markdown",
   "metadata": {},
   "source": [
    "Now I have a county shape file which includes only Washington DC metro area as above."
   ]
  },
  {
   "cell_type": "markdown",
   "metadata": {},
   "source": [
    "Next, I merge the county shape file with merchant revenue forecast data to plot on a map."
   ]
  },
  {
   "cell_type": "code",
   "execution_count": 6,
   "metadata": {},
   "outputs": [],
   "source": [
    "df_map = map_county.merge(df, left_on='CTFIPS', right_on='countyfips', how ='outer')\n"
   ]
  },
  {
   "cell_type": "markdown",
   "metadata": {},
   "source": [
    "Next, I plot the TOP 5 counties in terms of small merchant revenue changes. \n",
    "\n",
    "For this purpose, I calculate the average revenue changes by year and create a new data frame for 2022 forecasted revenue changes."
   ]
  },
  {
   "cell_type": "code",
   "execution_count": 7,
   "metadata": {},
   "outputs": [],
   "source": [
    "# Take Average \n",
    "df_month= df_map.groupby(['countyfips', 'yearmonth']).mean()\n",
    "df_month.reset_index(inplace=True)\n",
    "\n",
    "# Merge with county map shape file \n",
    "df_map_month = map_county.merge(df_month, left_on='CTFIPS', right_on='countyfips', how ='inner')\n",
    "\n",
    "# create data frame for 2022 forecasted revenue changes \n",
    "dfm22 = df_map_month[df_map_month.yearmonth=='2022-12']"
   ]
  },
  {
   "cell_type": "markdown",
   "metadata": {},
   "source": [
    "I plot TOP 5 counties in terms of marchants opening changes in 2022"
   ]
  },
  {
   "cell_type": "code",
   "execution_count": 8,
   "metadata": {
    "scrolled": true
   },
   "outputs": [
    {
     "data": {
      "text/html": [
       "<div>\n",
       "<style scoped>\n",
       "    .dataframe tbody tr th:only-of-type {\n",
       "        vertical-align: middle;\n",
       "    }\n",
       "\n",
       "    .dataframe tbody tr th {\n",
       "        vertical-align: top;\n",
       "    }\n",
       "\n",
       "    .dataframe thead th {\n",
       "        text-align: right;\n",
       "    }\n",
       "</style>\n",
       "<table border=\"1\" class=\"dataframe\">\n",
       "  <thead>\n",
       "    <tr style=\"text-align: right;\">\n",
       "      <th></th>\n",
       "      <th>STATE</th>\n",
       "      <th>COUNTY</th>\n",
       "    </tr>\n",
       "  </thead>\n",
       "  <tbody>\n",
       "    <tr>\n",
       "      <th>331</th>\n",
       "      <td>Virginia</td>\n",
       "      <td>Fairfax</td>\n",
       "    </tr>\n",
       "    <tr>\n",
       "      <th>294</th>\n",
       "      <td>Virginia</td>\n",
       "      <td>Falls Church</td>\n",
       "    </tr>\n",
       "    <tr>\n",
       "      <th>368</th>\n",
       "      <td>Virginia</td>\n",
       "      <td>Alexandria</td>\n",
       "    </tr>\n",
       "    <tr>\n",
       "      <th>590</th>\n",
       "      <td>Maryland</td>\n",
       "      <td>St. Mary's</td>\n",
       "    </tr>\n",
       "    <tr>\n",
       "      <th>35</th>\n",
       "      <td>Maryland</td>\n",
       "      <td>Frederick</td>\n",
       "    </tr>\n",
       "  </tbody>\n",
       "</table>\n",
       "</div>"
      ],
      "text/plain": [
       "        STATE        COUNTY\n",
       "331  Virginia       Fairfax\n",
       "294  Virginia  Falls Church\n",
       "368  Virginia    Alexandria\n",
       "590  Maryland    St. Mary's\n",
       "35   Maryland     Frederick"
      ]
     },
     "execution_count": 8,
     "metadata": {},
     "output_type": "execute_result"
    }
   ],
   "source": [
    "# Get top 5 county names from the 2022 forecast data \n",
    "top5 = dfm22.sort_values('revenue_all', ascending=False).head(5)\n",
    "\n",
    "top5[['STATE', 'COUNTY']]"
   ]
  },
  {
   "cell_type": "code",
   "execution_count": 9,
   "metadata": {
    "scrolled": true
   },
   "outputs": [
    {
     "data": {
      "image/png": "[encoded data removed]",
      "text/plain": [
       "<Figure size 576x576 with 1 Axes>"
      ]
     },
     "metadata": {
      "needs_background": "light"
     },
     "output_type": "display_data"
    }
   ],
   "source": [
    "# Map TOP5 \n",
    "\n",
    "fig, ax = plt.subplots(figsize = (8,8))\n",
    "map_county.to_crs(epsg=4326).plot(ax=ax, color='lightgray')\n",
    "top5.plot(ax=ax, color='orange', alpha=0.5)\n",
    "ax.set_title('Top 5 counties in terms of an increase in small merchants’ revenues in 2022')\n",
    "ax.axis(\"off\");"
   ]
  },
  {
   "attachments": {},
   "cell_type": "markdown",
   "metadata": {},
   "source": [
    "The above counties are promising neighborhoods in 2022 in terms of small merchants' revenue!! "
   ]
  }
 ],
 "metadata": {
  "kernelspec": {
   "display_name": "Python (learn-env)",
   "language": "python",
   "name": "learn-env"
  },
  "language_info": {
   "codemirror_mode": {
    "name": "ipython",
    "version": 3
   },
   "file_extension": ".py",
   "mimetype": "text/x-python",
   "name": "python",
   "nbconvert_exporter": "python",
   "pygments_lexer": "ipython3",
   "version": "3.8.5"
  }
 },
 "nbformat": 4,
 "nbformat_minor": 4
}
