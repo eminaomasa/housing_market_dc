{
 "cells": [
  {
   "cell_type": "markdown",
   "metadata": {},
   "source": [
    "# Data Cleaning and EDA for Housing Price Forecast"
   ]
  },
  {
   "cell_type": "markdown",
   "metadata": {},
   "source": [
    "This notebook shows data cleaning process and EDA for a dataset I used in the housing price model. \n",
    "The main variables for the housing price forecasting model are housing price, number of listings from Realtor.com, and population net inflow data from USPS change of address dataset. \n",
    "Contents: \n",
    "1. Cleaning houding price dataset from Realtor.com \n",
    "2. Cleaning USPS Change of Address Data\n",
    "3. Merging Realtor.com and USPS data\n",
    "4. Descriptive Statistics\n",
    "5. EDA \n",
    "\n",
    "\n",
    "\n"
   ]
  },
  {
   "cell_type": "code",
   "execution_count": 1,
   "metadata": {},
   "outputs": [],
   "source": [
    "import requests\n",
    "\n",
    "import pandas as pd\n",
    "import matplotlib.pyplot as plt\n",
    "import seaborn as sns\n",
    "import numpy as np\n",
    "\n",
    "import warnings"
   ]
  },
  {
   "cell_type": "markdown",
   "metadata": {},
   "source": [
    "## 1. Realtor Data"
   ]
  },
  {
   "cell_type": "markdown",
   "metadata": {},
   "source": [
    "I obtain data on home lisitng price, number of active listings, new listings, and numnber of days on a marketat a monthly frequency at the ZIP code from Realtor Data Center from July 2016 to December 2021. "
   ]
  },
  {
   "cell_type": "code",
   "execution_count": 2,
   "metadata": {},
   "outputs": [
    {
     "name": "stdout",
     "output_type": "stream",
     "text": [
      "<class 'pandas.core.frame.DataFrame'>\n",
      "RangeIndex: 1905956 entries, 0 to 1905955\n",
      "Data columns (total 40 columns):\n",
      " #   Column                                   Dtype  \n",
      "---  ------                                   -----  \n",
      " 0   month_date_yyyymm                        int64  \n",
      " 1   postal_code                              int64  \n",
      " 2   postal_code.1                            int64  \n",
      " 3   median_listing_price                     float64\n",
      " 4   median_listing_price_mm                  float64\n",
      " 5   median_listing_price_yy                  float64\n",
      " 6   active_listing_count                     float64\n",
      " 7   active_listing_count_mm                  float64\n",
      " 8   active_listing_count_yy                  float64\n",
      " 9   median_days_on_market                    float64\n",
      " 10  median_days_on_market_mm                 float64\n",
      " 11  median_days_on_market_yy                 float64\n",
      " 12  new_listing_count                        float64\n",
      " 13  new_listing_count_mm                     float64\n",
      " 14  new_listing_count_yy                     float64\n",
      " 15  price_increased_count                    float64\n",
      " 16  price_increased_count_mm                 float64\n",
      " 17  price_increased_count_yy                 float64\n",
      " 18  price_reduced_count                      float64\n",
      " 19  price_reduced_count_mm                   float64\n",
      " 20  price_reduced_count_yy                   float64\n",
      " 21  pending_listing_count                    int64  \n",
      " 22  pending_listing_count_mm                 float64\n",
      " 23  pending_listing_count_yy                 float64\n",
      " 24  median_listing_price_per_square_foot     float64\n",
      " 25  median_listing_price_per_square_foot_mm  float64\n",
      " 26  median_listing_price_per_square_foot_yy  float64\n",
      " 27  median_square_feet                       float64\n",
      " 28  median_square_feet_mm                    float64\n",
      " 29  median_square_feet_yy                    float64\n",
      " 30  average_listing_price                    float64\n",
      " 31  average_listing_price_mm                 float64\n",
      " 32  average_listing_price_yy                 float64\n",
      " 33  total_listing_count                      float64\n",
      " 34  total_listing_count_mm                   float64\n",
      " 35  total_listing_count_yy                   float64\n",
      " 36  pending_ratio                            float64\n",
      " 37  pending_ratio_mm                         float64\n",
      " 38  pending_ratio_yy                         float64\n",
      " 39  quality_flag                             int64  \n",
      "dtypes: float64(35), int64(5)\n",
      "memory usage: 581.7 MB\n"
     ]
    }
   ],
   "source": [
    "url = 'https://econdata.s3-us-west-2.amazonaws.com/Reports/Core/RDC_Inventory_Core_Metrics_Zip_History.csv'\n",
    "realtor = pd.read_csv(url)\n",
    "realtor.info()"
   ]
  },
  {
   "cell_type": "code",
   "execution_count": 3,
   "metadata": {},
   "outputs": [
    {
     "data": {
      "text/plain": [
       "Index(['month_date_yyyymm', 'postal_code', 'postal_code.1',\n",
       "       'median_listing_price', 'median_listing_price_mm',\n",
       "       'median_listing_price_yy', 'active_listing_count',\n",
       "       'active_listing_count_mm', 'active_listing_count_yy',\n",
       "       'median_days_on_market', 'median_days_on_market_mm',\n",
       "       'median_days_on_market_yy', 'new_listing_count', 'new_listing_count_mm',\n",
       "       'new_listing_count_yy', 'price_increased_count',\n",
       "       'price_increased_count_mm', 'price_increased_count_yy',\n",
       "       'price_reduced_count', 'price_reduced_count_mm',\n",
       "       'price_reduced_count_yy', 'pending_listing_count',\n",
       "       'pending_listing_count_mm', 'pending_listing_count_yy',\n",
       "       'median_listing_price_per_square_foot',\n",
       "       'median_listing_price_per_square_foot_mm',\n",
       "       'median_listing_price_per_square_foot_yy', 'median_square_feet',\n",
       "       'median_square_feet_mm', 'median_square_feet_yy',\n",
       "       'average_listing_price', 'average_listing_price_mm',\n",
       "       'average_listing_price_yy', 'total_listing_count',\n",
       "       'total_listing_count_mm', 'total_listing_count_yy', 'pending_ratio',\n",
       "       'pending_ratio_mm', 'pending_ratio_yy', 'quality_flag'],\n",
       "      dtype='object')"
      ]
     },
     "execution_count": 3,
     "metadata": {},
     "output_type": "execute_result"
    }
   ],
   "source": [
    "realtor.columns"
   ]
  },
  {
   "cell_type": "markdown",
   "metadata": {},
   "source": [
    "For my hoousing price analysis, I use median_listing_price, active_listing_count, median_days_on_market. I drop other than these three indicators. "
   ]
  },
  {
   "cell_type": "code",
   "execution_count": 4,
   "metadata": {},
   "outputs": [
    {
     "name": "stdout",
     "output_type": "stream",
     "text": [
      "<class 'pandas.core.frame.DataFrame'>\n",
      "Int64Index: 1905956 entries, 0 to 1905955\n",
      "Data columns (total 5 columns):\n",
      " #   Column                 Dtype  \n",
      "---  ------                 -----  \n",
      " 0   month_date_yyyymm      int64  \n",
      " 1   postal_code            int64  \n",
      " 2   median_listing_price   float64\n",
      " 3   active_listing_count   float64\n",
      " 4   median_days_on_market  float64\n",
      "dtypes: float64(3), int64(2)\n",
      "memory usage: 87.2 MB\n"
     ]
    }
   ],
   "source": [
    "# Drop columns which is out of my focus. \n",
    "realtor = realtor[['month_date_yyyymm', 'postal_code', 'median_listing_price', 'active_listing_count', 'median_days_on_market' ]]\n",
    "\n",
    "# Drop duplicate\n",
    "realtor.drop_duplicates(inplace=True)\n",
    "\n",
    "realtor.info()\n",
    "\n"
   ]
  },
  {
   "cell_type": "markdown",
   "metadata": {},
   "source": [
    "I rename year-month-date column. And I newerly define year, month, date as well as yearmonth columns for future analysis.  "
   ]
  },
  {
   "cell_type": "code",
   "execution_count": 5,
   "metadata": {},
   "outputs": [],
   "source": [
    "# rename month_date_yyyymm as date \n",
    "realtor_1 = realtor.rename(columns={'month_date_yyyymm': 'date'})\n",
    "\n",
    "# Define year and month column\n",
    "realtor_1['date'] = realtor_1['date'].astype(str)\n",
    "realtor_1['year'] = realtor_1['date'].str[:4]\n",
    "realtor_1['month'] = realtor_1['date'].str[4:]\n",
    "\n",
    "# Define yearmonth column\n",
    "cols = ['year', 'month']\n",
    "realtor_1['yearmonth']= realtor_1[cols].apply(lambda row: ''.join(row.values.astype(str)), axis=1)"
   ]
  },
  {
   "cell_type": "markdown",
   "metadata": {},
   "source": [
    "I change date to the datatime format, and set date and zipcode to index. "
   ]
  },
  {
   "cell_type": "code",
   "execution_count": 6,
   "metadata": {},
   "outputs": [
    {
     "data": {
      "text/html": [
       "<div>\n",
       "<style scoped>\n",
       "    .dataframe tbody tr th:only-of-type {\n",
       "        vertical-align: middle;\n",
       "    }\n",
       "\n",
       "    .dataframe tbody tr th {\n",
       "        vertical-align: top;\n",
       "    }\n",
       "\n",
       "    .dataframe thead th {\n",
       "        text-align: right;\n",
       "    }\n",
       "</style>\n",
       "<table border=\"1\" class=\"dataframe\">\n",
       "  <thead>\n",
       "    <tr style=\"text-align: right;\">\n",
       "      <th></th>\n",
       "      <th></th>\n",
       "      <th>median_listing_price</th>\n",
       "      <th>active_listing_count</th>\n",
       "      <th>median_days_on_market</th>\n",
       "      <th>year</th>\n",
       "      <th>month</th>\n",
       "      <th>yearmonth</th>\n",
       "    </tr>\n",
       "    <tr>\n",
       "      <th>postal_code</th>\n",
       "      <th>date</th>\n",
       "      <th></th>\n",
       "      <th></th>\n",
       "      <th></th>\n",
       "      <th></th>\n",
       "      <th></th>\n",
       "      <th></th>\n",
       "    </tr>\n",
       "  </thead>\n",
       "  <tbody>\n",
       "    <tr>\n",
       "      <th rowspan=\"5\" valign=\"top\">1001</th>\n",
       "      <th>2016-07-01</th>\n",
       "      <td>209000.0</td>\n",
       "      <td>60.0</td>\n",
       "      <td>43.0</td>\n",
       "      <td>2016</td>\n",
       "      <td>07</td>\n",
       "      <td>201607</td>\n",
       "    </tr>\n",
       "    <tr>\n",
       "      <th>2016-08-01</th>\n",
       "      <td>229900.0</td>\n",
       "      <td>67.0</td>\n",
       "      <td>37.5</td>\n",
       "      <td>2016</td>\n",
       "      <td>08</td>\n",
       "      <td>201608</td>\n",
       "    </tr>\n",
       "    <tr>\n",
       "      <th>2016-09-01</th>\n",
       "      <td>219900.0</td>\n",
       "      <td>65.0</td>\n",
       "      <td>51.5</td>\n",
       "      <td>2016</td>\n",
       "      <td>09</td>\n",
       "      <td>201609</td>\n",
       "    </tr>\n",
       "    <tr>\n",
       "      <th>2016-10-01</th>\n",
       "      <td>209900.0</td>\n",
       "      <td>65.0</td>\n",
       "      <td>66.0</td>\n",
       "      <td>2016</td>\n",
       "      <td>10</td>\n",
       "      <td>201610</td>\n",
       "    </tr>\n",
       "    <tr>\n",
       "      <th>2016-11-01</th>\n",
       "      <td>209000.0</td>\n",
       "      <td>59.0</td>\n",
       "      <td>82.5</td>\n",
       "      <td>2016</td>\n",
       "      <td>11</td>\n",
       "      <td>201611</td>\n",
       "    </tr>\n",
       "  </tbody>\n",
       "</table>\n",
       "</div>"
      ],
      "text/plain": [
       "                        median_listing_price  active_listing_count  \\\n",
       "postal_code date                                                     \n",
       "1001        2016-07-01              209000.0                  60.0   \n",
       "            2016-08-01              229900.0                  67.0   \n",
       "            2016-09-01              219900.0                  65.0   \n",
       "            2016-10-01              209900.0                  65.0   \n",
       "            2016-11-01              209000.0                  59.0   \n",
       "\n",
       "                        median_days_on_market  year month yearmonth  \n",
       "postal_code date                                                     \n",
       "1001        2016-07-01                   43.0  2016    07    201607  \n",
       "            2016-08-01                   37.5  2016    08    201608  \n",
       "            2016-09-01                   51.5  2016    09    201609  \n",
       "            2016-10-01                   66.0  2016    10    201610  \n",
       "            2016-11-01                   82.5  2016    11    201611  "
      ]
     },
     "execution_count": 6,
     "metadata": {},
     "output_type": "execute_result"
    }
   ],
   "source": [
    "# change 'date' to the datatime\n",
    "realtor_1.date=pd.to_datetime(realtor_1.date, format='%Y%m')\n",
    "\n",
    "# Set Multiindex (date and zips)\n",
    "realtor_m = realtor_1.set_index(['postal_code', 'date']).sort_index() \n",
    "\n",
    "realtor_m.head()"
   ]
  },
  {
   "cell_type": "markdown",
   "metadata": {},
   "source": [
    "### Handling Missing values in housing data "
   ]
  },
  {
   "cell_type": "markdown",
   "metadata": {},
   "source": [
    "Number of missing values among total observations of 1,905,955. "
   ]
  },
  {
   "cell_type": "code",
   "execution_count": 7,
   "metadata": {},
   "outputs": [
    {
     "data": {
      "text/plain": [
       "median_listing_price     3716\n",
       "active_listing_count     3716\n",
       "median_days_on_market       0\n",
       "year                        0\n",
       "month                       0\n",
       "yearmonth                   0\n",
       "dtype: int64"
      ]
     },
     "execution_count": 7,
     "metadata": {},
     "output_type": "execute_result"
    }
   ],
   "source": [
    "realtor_m.isnull().sum()"
   ]
  },
  {
   "cell_type": "markdown",
   "metadata": {},
   "source": [
    "For 'median_listing_price', 'active_listing_count', I use interpolation to fill the misisng values. "
   ]
  },
  {
   "cell_type": "code",
   "execution_count": 8,
   "metadata": {},
   "outputs": [
    {
     "data": {
      "text/plain": [
       "median_listing_price     0\n",
       "active_listing_count     0\n",
       "median_days_on_market    0\n",
       "year                     0\n",
       "month                    0\n",
       "yearmonth                0\n",
       "dtype: int64"
      ]
     },
     "execution_count": 8,
     "metadata": {},
     "output_type": "execute_result"
    }
   ],
   "source": [
    "# using interpolate() to fill the missing values \n",
    "\n",
    "interpolate = ['median_listing_price', 'active_listing_count']\n",
    "\n",
    "for x in interpolate:\n",
    "    realtor_m[x] = realtor_m[x].interpolate()\n",
    "\n",
    "realtor_m.isnull().sum()\n"
   ]
  },
  {
   "cell_type": "markdown",
   "metadata": {},
   "source": [
    "Now, all housing data is filled.   "
   ]
  },
  {
   "cell_type": "code",
   "execution_count": null,
   "metadata": {},
   "outputs": [],
   "source": []
  },
  {
   "cell_type": "markdown",
   "metadata": {},
   "source": [
    "# 2. Merge USPS Change of Address Data"
   ]
  },
  {
   "cell_type": "markdown",
   "metadata": {},
   "source": [
    "## USPS migration data for each zipcode "
   ]
  },
  {
   "cell_type": "markdown",
   "metadata": {},
   "source": [
    "### USPS Change of Address Database (2018 - 2021)"
   ]
  },
  {
   "cell_type": "markdown",
   "metadata": {},
   "source": [
    "The United States Postal Service’s National Change of Address (NCOA) dataset (https://about.usps.com/who/legal/foia/library.htm) has zip code-month level inflow and outflow data for all US zip codes since 2018. I can use this data to connect zip codes and city.  \n"
   ]
  },
  {
   "cell_type": "code",
   "execution_count": null,
   "metadata": {},
   "outputs": [],
   "source": [
    "usps18 = pd.read_csv('Data/usps/Y2018.csv')\n",
    "usps19 = pd.read_csv('Data/usps/Y2019.csv')\n",
    "usps20 = pd.read_csv('Data/usps/Y2020.csv')\n",
    "usps21 = pd.read_csv('Data/usps/Y2021.csv')\n",
    "\n",
    "usps1819 = usps18.append(usps19, ignore_index=True)\n",
    "usps181920 = usps1819.append(usps20, ignore_index=True)\n",
    "usps = usps181920.append(usps21, ignore_index=True)\n",
    "usps.info()\n"
   ]
  },
  {
   "cell_type": "code",
   "execution_count": null,
   "metadata": {},
   "outputs": [],
   "source": [
    "usps.info()"
   ]
  },
  {
   "cell_type": "code",
   "execution_count": null,
   "metadata": {},
   "outputs": [],
   "source": [
    "# Calcuate net inflow to the zipcode \n",
    "\n",
    "usps['netinflow'] = usps['TOTAL TO ZIP'] - usps['TOTAL FROM ZIP']"
   ]
  },
  {
   "cell_type": "code",
   "execution_count": null,
   "metadata": {},
   "outputs": [],
   "source": [
    "# cleaning zipcode and rename it to zips \n",
    "usps.ZIPCODE = usps.ZIPCODE.map(lambda x:x.strip('=\"\"'))\n",
    "usps.rename({'ZIPCODE':'zips', 'YYYYMM':'yearmonth'}, axis=1, inplace=True)"
   ]
  },
  {
   "cell_type": "code",
   "execution_count": null,
   "metadata": {},
   "outputs": [],
   "source": [
    "# Drop unnecessary columns\n",
    "usps.drop(usps.iloc[:, 4:-1], inplace = True, axis = 1)\n",
    "usps.info()"
   ]
  },
  {
   "cell_type": "code",
   "execution_count": null,
   "metadata": {},
   "outputs": [],
   "source": [
    "usps.isnull().sum()"
   ]
  },
  {
   "cell_type": "markdown",
   "metadata": {},
   "source": [
    "### Save as usps.csv "
   ]
  },
  {
   "cell_type": "code",
   "execution_count": null,
   "metadata": {
    "scrolled": true
   },
   "outputs": [],
   "source": [
    "usps.to_csv('Data/usps.csv', index = False)"
   ]
  },
  {
   "cell_type": "code",
   "execution_count": null,
   "metadata": {},
   "outputs": [],
   "source": []
  },
  {
   "cell_type": "code",
   "execution_count": null,
   "metadata": {},
   "outputs": [],
   "source": []
  },
  {
   "cell_type": "code",
   "execution_count": null,
   "metadata": {},
   "outputs": [],
   "source": []
  },
  {
   "cell_type": "code",
   "execution_count": null,
   "metadata": {},
   "outputs": [],
   "source": []
  },
  {
   "cell_type": "code",
   "execution_count": null,
   "metadata": {},
   "outputs": [],
   "source": []
  },
  {
   "cell_type": "markdown",
   "metadata": {},
   "source": [
    "## 2. Merge USPS Change of Address Data to Realtor Housing Price Data\n",
    "I use USPS's net population inflow data at each zipcode as measure of housing demand in an area. So I merge USPS data to the housing price data. \n",
    "For detailed explanation on cleaning up USPS data, please refer to the geo_USPS notebook. \n"
   ]
  },
  {
   "cell_type": "code",
   "execution_count": 9,
   "metadata": {},
   "outputs": [
    {
     "name": "stdout",
     "output_type": "stream",
     "text": [
      "<class 'pandas.core.frame.DataFrame'>\n",
      "RangeIndex: 1159546 entries, 0 to 1159545\n",
      "Data columns (total 5 columns):\n",
      " #   Column     Non-Null Count    Dtype \n",
      "---  ------     --------------    ----- \n",
      " 0   yearmonth  1159546 non-null  int64 \n",
      " 1   zips       1159546 non-null  int64 \n",
      " 2   CITY       1159546 non-null  object\n",
      " 3   STATE      1159546 non-null  object\n",
      " 4   netinflow  1159546 non-null  int64 \n",
      "dtypes: int64(3), object(2)\n",
      "memory usage: 44.2+ MB\n"
     ]
    }
   ],
   "source": [
    "# read the USPS data (For building this dataset, see geo_USPS_data notebook)\n",
    "usps = pd.read_csv('Data/usps.csv')\n",
    "usps.info()"
   ]
  },
  {
   "cell_type": "markdown",
   "metadata": {},
   "source": [
    "First, I reset index, and rename columns to match between two datasets, and then merge USPS data into housing price data."
   ]
  },
  {
   "cell_type": "code",
   "execution_count": 10,
   "metadata": {},
   "outputs": [
    {
     "name": "stdout",
     "output_type": "stream",
     "text": [
      "<class 'pandas.core.frame.DataFrame'>\n",
      "Int64Index: 1905956 entries, 0 to 1905955\n",
      "Data columns (total 9 columns):\n",
      " #   Column                 Dtype         \n",
      "---  ------                 -----         \n",
      " 0   zips                   int64         \n",
      " 1   date                   datetime64[ns]\n",
      " 2   median_listing_price   float64       \n",
      " 3   active_listing_count   float64       \n",
      " 4   median_days_on_market  float64       \n",
      " 5   year                   object        \n",
      " 6   month                  object        \n",
      " 7   yearmonth              int64         \n",
      " 8   netinflow              float64       \n",
      "dtypes: datetime64[ns](1), float64(4), int64(2), object(2)\n",
      "memory usage: 145.4+ MB\n"
     ]
    }
   ],
   "source": [
    "# reset index\n",
    "realtor_m.reset_index(inplace=True)\n",
    "\n",
    "# rename postal_code to zips \n",
    "realtor_m.rename({'postal_code':'zips'}, axis=1, inplace=True)\n",
    "\n",
    "realtor_m['yearmonth']= realtor_m.yearmonth.astype(int)\n",
    "\n",
    "# Merge USPS and Redfine over zipcodes and yearmonth \n",
    "df_housing = realtor_m.merge(usps, how='left', on=['zips', 'yearmonth'])\n",
    "\n",
    "# Drop unnecessary columns\n",
    "cols_drop = ['STATE', 'CITY']\n",
    "df_housing.drop(cols_drop, axis=1, inplace=True) \n",
    "\n",
    "# Drop duplicates \n",
    "df_housing.drop_duplicates(inplace=True)\n",
    "\n",
    "\n",
    "df_housing.info()"
   ]
  },
  {
   "cell_type": "code",
   "execution_count": 11,
   "metadata": {
    "scrolled": true
   },
   "outputs": [
    {
     "data": {
      "text/plain": [
       "zips                          0\n",
       "date                          0\n",
       "median_listing_price          0\n",
       "active_listing_count          0\n",
       "median_days_on_market         0\n",
       "year                          0\n",
       "month                         0\n",
       "yearmonth                     0\n",
       "netinflow                884934\n",
       "dtype: int64"
      ]
     },
     "execution_count": 11,
     "metadata": {},
     "output_type": "execute_result"
    }
   ],
   "source": [
    "df_housing.isnull().sum()"
   ]
  },
  {
   "cell_type": "markdown",
   "metadata": {},
   "source": [
    "## 3. Merge df_geo to df_housing data\n",
    "My analysis focus on Washington DC metro area (one of census classification). To filter which zipcode belongs to Wshington DC metro area, I merge de_geo to match the zipcode and major metro area in the US.  "
   ]
  },
  {
   "cell_type": "markdown",
   "metadata": {},
   "source": [
    "Read df_geo data. "
   ]
  },
  {
   "cell_type": "code",
   "execution_count": 12,
   "metadata": {},
   "outputs": [
    {
     "data": {
      "text/html": [
       "<div>\n",
       "<style scoped>\n",
       "    .dataframe tbody tr th:only-of-type {\n",
       "        vertical-align: middle;\n",
       "    }\n",
       "\n",
       "    .dataframe tbody tr th {\n",
       "        vertical-align: top;\n",
       "    }\n",
       "\n",
       "    .dataframe thead th {\n",
       "        text-align: right;\n",
       "    }\n",
       "</style>\n",
       "<table border=\"1\" class=\"dataframe\">\n",
       "  <thead>\n",
       "    <tr style=\"text-align: right;\">\n",
       "      <th></th>\n",
       "      <th>countyfips</th>\n",
       "      <th>countyname</th>\n",
       "      <th>czname</th>\n",
       "      <th>statename</th>\n",
       "      <th>statefips</th>\n",
       "      <th>stateabbrev</th>\n",
       "      <th>county_pop2019</th>\n",
       "      <th>ZIP</th>\n",
       "      <th>USPS_ZIP_PREF_CITY</th>\n",
       "      <th>nearest_city</th>\n",
       "      <th>distance</th>\n",
       "      <th>cbd10</th>\n",
       "      <th>cbd20</th>\n",
       "      <th>county_in_city</th>\n",
       "    </tr>\n",
       "  </thead>\n",
       "  <tbody>\n",
       "    <tr>\n",
       "      <th>0</th>\n",
       "      <td>36103.0</td>\n",
       "      <td>Suffolk</td>\n",
       "      <td>New York City</td>\n",
       "      <td>New York</td>\n",
       "      <td>36.0</td>\n",
       "      <td>NY</td>\n",
       "      <td>1476601.0</td>\n",
       "      <td>6390</td>\n",
       "      <td>FISHERS ISLAND</td>\n",
       "      <td>New York City</td>\n",
       "      <td>182.283194</td>\n",
       "      <td>0</td>\n",
       "      <td>0</td>\n",
       "      <td>0</td>\n",
       "    </tr>\n",
       "    <tr>\n",
       "      <th>1</th>\n",
       "      <td>36103.0</td>\n",
       "      <td>Suffolk</td>\n",
       "      <td>New York City</td>\n",
       "      <td>New York</td>\n",
       "      <td>36.0</td>\n",
       "      <td>NY</td>\n",
       "      <td>1476601.0</td>\n",
       "      <td>11701</td>\n",
       "      <td>AMITYVILLE</td>\n",
       "      <td>New York City</td>\n",
       "      <td>50.643368</td>\n",
       "      <td>0</td>\n",
       "      <td>0</td>\n",
       "      <td>0</td>\n",
       "    </tr>\n",
       "    <tr>\n",
       "      <th>2</th>\n",
       "      <td>36103.0</td>\n",
       "      <td>Suffolk</td>\n",
       "      <td>New York City</td>\n",
       "      <td>New York</td>\n",
       "      <td>36.0</td>\n",
       "      <td>NY</td>\n",
       "      <td>1476601.0</td>\n",
       "      <td>11702</td>\n",
       "      <td>BABYLON</td>\n",
       "      <td>New York City</td>\n",
       "      <td>63.361280</td>\n",
       "      <td>0</td>\n",
       "      <td>0</td>\n",
       "      <td>0</td>\n",
       "    </tr>\n",
       "    <tr>\n",
       "      <th>3</th>\n",
       "      <td>36103.0</td>\n",
       "      <td>Suffolk</td>\n",
       "      <td>New York City</td>\n",
       "      <td>New York</td>\n",
       "      <td>36.0</td>\n",
       "      <td>NY</td>\n",
       "      <td>1476601.0</td>\n",
       "      <td>11703</td>\n",
       "      <td>NORTH BABYLON</td>\n",
       "      <td>New York City</td>\n",
       "      <td>57.745033</td>\n",
       "      <td>0</td>\n",
       "      <td>0</td>\n",
       "      <td>0</td>\n",
       "    </tr>\n",
       "    <tr>\n",
       "      <th>4</th>\n",
       "      <td>36103.0</td>\n",
       "      <td>Suffolk</td>\n",
       "      <td>New York City</td>\n",
       "      <td>New York</td>\n",
       "      <td>36.0</td>\n",
       "      <td>NY</td>\n",
       "      <td>1476601.0</td>\n",
       "      <td>11704</td>\n",
       "      <td>WEST BABYLON</td>\n",
       "      <td>New York City</td>\n",
       "      <td>54.907553</td>\n",
       "      <td>0</td>\n",
       "      <td>0</td>\n",
       "      <td>0</td>\n",
       "    </tr>\n",
       "  </tbody>\n",
       "</table>\n",
       "</div>"
      ],
      "text/plain": [
       "   countyfips countyname         czname statename  statefips stateabbrev  \\\n",
       "0     36103.0    Suffolk  New York City  New York       36.0          NY   \n",
       "1     36103.0    Suffolk  New York City  New York       36.0          NY   \n",
       "2     36103.0    Suffolk  New York City  New York       36.0          NY   \n",
       "3     36103.0    Suffolk  New York City  New York       36.0          NY   \n",
       "4     36103.0    Suffolk  New York City  New York       36.0          NY   \n",
       "\n",
       "   county_pop2019    ZIP USPS_ZIP_PREF_CITY   nearest_city    distance  cbd10  \\\n",
       "0       1476601.0   6390     FISHERS ISLAND  New York City  182.283194      0   \n",
       "1       1476601.0  11701         AMITYVILLE  New York City   50.643368      0   \n",
       "2       1476601.0  11702            BABYLON  New York City   63.361280      0   \n",
       "3       1476601.0  11703      NORTH BABYLON  New York City   57.745033      0   \n",
       "4       1476601.0  11704       WEST BABYLON  New York City   54.907553      0   \n",
       "\n",
       "   cbd20  county_in_city  \n",
       "0      0               0  \n",
       "1      0               0  \n",
       "2      0               0  \n",
       "3      0               0  \n",
       "4      0               0  "
      ]
     },
     "execution_count": 12,
     "metadata": {},
     "output_type": "execute_result"
    }
   ],
   "source": [
    "df_geo=pd.read_csv('Data/df_geo.csv')\n",
    "df_geo.head()"
   ]
  },
  {
   "cell_type": "markdown",
   "metadata": {},
   "source": [
    "Merge df_geo data to df_housing data. "
   ]
  },
  {
   "cell_type": "code",
   "execution_count": 13,
   "metadata": {},
   "outputs": [
    {
     "data": {
      "text/html": [
       "<div>\n",
       "<style scoped>\n",
       "    .dataframe tbody tr th:only-of-type {\n",
       "        vertical-align: middle;\n",
       "    }\n",
       "\n",
       "    .dataframe tbody tr th {\n",
       "        vertical-align: top;\n",
       "    }\n",
       "\n",
       "    .dataframe thead th {\n",
       "        text-align: right;\n",
       "    }\n",
       "</style>\n",
       "<table border=\"1\" class=\"dataframe\">\n",
       "  <thead>\n",
       "    <tr style=\"text-align: right;\">\n",
       "      <th></th>\n",
       "      <th>zips</th>\n",
       "      <th>date</th>\n",
       "      <th>median_listing_price</th>\n",
       "      <th>active_listing_count</th>\n",
       "      <th>median_days_on_market</th>\n",
       "      <th>year</th>\n",
       "      <th>month</th>\n",
       "      <th>yearmonth</th>\n",
       "      <th>netinflow</th>\n",
       "      <th>countyfips</th>\n",
       "      <th>...</th>\n",
       "      <th>statefips</th>\n",
       "      <th>stateabbrev</th>\n",
       "      <th>county_pop2019</th>\n",
       "      <th>ZIP</th>\n",
       "      <th>USPS_ZIP_PREF_CITY</th>\n",
       "      <th>nearest_city</th>\n",
       "      <th>distance</th>\n",
       "      <th>cbd10</th>\n",
       "      <th>cbd20</th>\n",
       "      <th>county_in_city</th>\n",
       "    </tr>\n",
       "  </thead>\n",
       "  <tbody>\n",
       "    <tr>\n",
       "      <th>0</th>\n",
       "      <td>1001</td>\n",
       "      <td>2016-07-01</td>\n",
       "      <td>209000.0</td>\n",
       "      <td>60.0</td>\n",
       "      <td>43.0</td>\n",
       "      <td>2016</td>\n",
       "      <td>07</td>\n",
       "      <td>201607</td>\n",
       "      <td>NaN</td>\n",
       "      <td>NaN</td>\n",
       "      <td>...</td>\n",
       "      <td>NaN</td>\n",
       "      <td>NaN</td>\n",
       "      <td>NaN</td>\n",
       "      <td>NaN</td>\n",
       "      <td>NaN</td>\n",
       "      <td>NaN</td>\n",
       "      <td>NaN</td>\n",
       "      <td>NaN</td>\n",
       "      <td>NaN</td>\n",
       "      <td>NaN</td>\n",
       "    </tr>\n",
       "    <tr>\n",
       "      <th>1</th>\n",
       "      <td>1001</td>\n",
       "      <td>2016-08-01</td>\n",
       "      <td>229900.0</td>\n",
       "      <td>67.0</td>\n",
       "      <td>37.5</td>\n",
       "      <td>2016</td>\n",
       "      <td>08</td>\n",
       "      <td>201608</td>\n",
       "      <td>NaN</td>\n",
       "      <td>NaN</td>\n",
       "      <td>...</td>\n",
       "      <td>NaN</td>\n",
       "      <td>NaN</td>\n",
       "      <td>NaN</td>\n",
       "      <td>NaN</td>\n",
       "      <td>NaN</td>\n",
       "      <td>NaN</td>\n",
       "      <td>NaN</td>\n",
       "      <td>NaN</td>\n",
       "      <td>NaN</td>\n",
       "      <td>NaN</td>\n",
       "    </tr>\n",
       "    <tr>\n",
       "      <th>2</th>\n",
       "      <td>1001</td>\n",
       "      <td>2016-09-01</td>\n",
       "      <td>219900.0</td>\n",
       "      <td>65.0</td>\n",
       "      <td>51.5</td>\n",
       "      <td>2016</td>\n",
       "      <td>09</td>\n",
       "      <td>201609</td>\n",
       "      <td>NaN</td>\n",
       "      <td>NaN</td>\n",
       "      <td>...</td>\n",
       "      <td>NaN</td>\n",
       "      <td>NaN</td>\n",
       "      <td>NaN</td>\n",
       "      <td>NaN</td>\n",
       "      <td>NaN</td>\n",
       "      <td>NaN</td>\n",
       "      <td>NaN</td>\n",
       "      <td>NaN</td>\n",
       "      <td>NaN</td>\n",
       "      <td>NaN</td>\n",
       "    </tr>\n",
       "    <tr>\n",
       "      <th>3</th>\n",
       "      <td>1001</td>\n",
       "      <td>2016-10-01</td>\n",
       "      <td>209900.0</td>\n",
       "      <td>65.0</td>\n",
       "      <td>66.0</td>\n",
       "      <td>2016</td>\n",
       "      <td>10</td>\n",
       "      <td>201610</td>\n",
       "      <td>NaN</td>\n",
       "      <td>NaN</td>\n",
       "      <td>...</td>\n",
       "      <td>NaN</td>\n",
       "      <td>NaN</td>\n",
       "      <td>NaN</td>\n",
       "      <td>NaN</td>\n",
       "      <td>NaN</td>\n",
       "      <td>NaN</td>\n",
       "      <td>NaN</td>\n",
       "      <td>NaN</td>\n",
       "      <td>NaN</td>\n",
       "      <td>NaN</td>\n",
       "    </tr>\n",
       "    <tr>\n",
       "      <th>4</th>\n",
       "      <td>1001</td>\n",
       "      <td>2016-11-01</td>\n",
       "      <td>209000.0</td>\n",
       "      <td>59.0</td>\n",
       "      <td>82.5</td>\n",
       "      <td>2016</td>\n",
       "      <td>11</td>\n",
       "      <td>201611</td>\n",
       "      <td>NaN</td>\n",
       "      <td>NaN</td>\n",
       "      <td>...</td>\n",
       "      <td>NaN</td>\n",
       "      <td>NaN</td>\n",
       "      <td>NaN</td>\n",
       "      <td>NaN</td>\n",
       "      <td>NaN</td>\n",
       "      <td>NaN</td>\n",
       "      <td>NaN</td>\n",
       "      <td>NaN</td>\n",
       "      <td>NaN</td>\n",
       "      <td>NaN</td>\n",
       "    </tr>\n",
       "  </tbody>\n",
       "</table>\n",
       "<p>5 rows × 23 columns</p>\n",
       "</div>"
      ],
      "text/plain": [
       "   zips       date  median_listing_price  active_listing_count  \\\n",
       "0  1001 2016-07-01              209000.0                  60.0   \n",
       "1  1001 2016-08-01              229900.0                  67.0   \n",
       "2  1001 2016-09-01              219900.0                  65.0   \n",
       "3  1001 2016-10-01              209900.0                  65.0   \n",
       "4  1001 2016-11-01              209000.0                  59.0   \n",
       "\n",
       "   median_days_on_market  year month  yearmonth  netinflow  countyfips  ...  \\\n",
       "0                   43.0  2016    07     201607        NaN         NaN  ...   \n",
       "1                   37.5  2016    08     201608        NaN         NaN  ...   \n",
       "2                   51.5  2016    09     201609        NaN         NaN  ...   \n",
       "3                   66.0  2016    10     201610        NaN         NaN  ...   \n",
       "4                   82.5  2016    11     201611        NaN         NaN  ...   \n",
       "\n",
       "  statefips stateabbrev county_pop2019  ZIP USPS_ZIP_PREF_CITY  nearest_city  \\\n",
       "0       NaN         NaN            NaN  NaN                NaN           NaN   \n",
       "1       NaN         NaN            NaN  NaN                NaN           NaN   \n",
       "2       NaN         NaN            NaN  NaN                NaN           NaN   \n",
       "3       NaN         NaN            NaN  NaN                NaN           NaN   \n",
       "4       NaN         NaN            NaN  NaN                NaN           NaN   \n",
       "\n",
       "   distance cbd10 cbd20  county_in_city  \n",
       "0       NaN   NaN   NaN             NaN  \n",
       "1       NaN   NaN   NaN             NaN  \n",
       "2       NaN   NaN   NaN             NaN  \n",
       "3       NaN   NaN   NaN             NaN  \n",
       "4       NaN   NaN   NaN             NaN  \n",
       "\n",
       "[5 rows x 23 columns]"
      ]
     },
     "execution_count": 13,
     "metadata": {},
     "output_type": "execute_result"
    }
   ],
   "source": [
    "# Merge df_housing and df_geo \n",
    "df = df_housing.merge(df_geo, how='left' ,left_on='zips', right_on='ZIP') \n",
    "df.head()"
   ]
  },
  {
   "cell_type": "markdown",
   "metadata": {},
   "source": [
    "Because my focus is housing price movement in Washington DC metro area, I drop zipcodes outside of the area.    "
   ]
  },
  {
   "cell_type": "code",
   "execution_count": 14,
   "metadata": {},
   "outputs": [
    {
     "data": {
      "text/html": [
       "<div>\n",
       "<style scoped>\n",
       "    .dataframe tbody tr th:only-of-type {\n",
       "        vertical-align: middle;\n",
       "    }\n",
       "\n",
       "    .dataframe tbody tr th {\n",
       "        vertical-align: top;\n",
       "    }\n",
       "\n",
       "    .dataframe thead th {\n",
       "        text-align: right;\n",
       "    }\n",
       "</style>\n",
       "<table border=\"1\" class=\"dataframe\">\n",
       "  <thead>\n",
       "    <tr style=\"text-align: right;\">\n",
       "      <th></th>\n",
       "      <th>zips</th>\n",
       "      <th>date</th>\n",
       "      <th>median_listing_price</th>\n",
       "      <th>active_listing_count</th>\n",
       "      <th>median_days_on_market</th>\n",
       "      <th>year</th>\n",
       "      <th>month</th>\n",
       "      <th>yearmonth</th>\n",
       "      <th>netinflow</th>\n",
       "      <th>countyfips</th>\n",
       "      <th>...</th>\n",
       "      <th>statefips</th>\n",
       "      <th>stateabbrev</th>\n",
       "      <th>county_pop2019</th>\n",
       "      <th>ZIP</th>\n",
       "      <th>USPS_ZIP_PREF_CITY</th>\n",
       "      <th>nearest_city</th>\n",
       "      <th>distance</th>\n",
       "      <th>cbd10</th>\n",
       "      <th>cbd20</th>\n",
       "      <th>county_in_city</th>\n",
       "    </tr>\n",
       "  </thead>\n",
       "  <tbody>\n",
       "    <tr>\n",
       "      <th>375382</th>\n",
       "      <td>20001</td>\n",
       "      <td>2016-07-01</td>\n",
       "      <td>699000.0</td>\n",
       "      <td>84.0</td>\n",
       "      <td>30.0</td>\n",
       "      <td>2016</td>\n",
       "      <td>07</td>\n",
       "      <td>201607</td>\n",
       "      <td>NaN</td>\n",
       "      <td>11001.0</td>\n",
       "      <td>...</td>\n",
       "      <td>11.0</td>\n",
       "      <td>DC</td>\n",
       "      <td>705749.0</td>\n",
       "      <td>20001.0</td>\n",
       "      <td>WASHINGTON</td>\n",
       "      <td>Washington DC</td>\n",
       "      <td>1.925368</td>\n",
       "      <td>1.0</td>\n",
       "      <td>1.0</td>\n",
       "      <td>1.0</td>\n",
       "    </tr>\n",
       "    <tr>\n",
       "      <th>375383</th>\n",
       "      <td>20001</td>\n",
       "      <td>2016-08-01</td>\n",
       "      <td>697000.0</td>\n",
       "      <td>63.0</td>\n",
       "      <td>26.0</td>\n",
       "      <td>2016</td>\n",
       "      <td>08</td>\n",
       "      <td>201608</td>\n",
       "      <td>NaN</td>\n",
       "      <td>11001.0</td>\n",
       "      <td>...</td>\n",
       "      <td>11.0</td>\n",
       "      <td>DC</td>\n",
       "      <td>705749.0</td>\n",
       "      <td>20001.0</td>\n",
       "      <td>WASHINGTON</td>\n",
       "      <td>Washington DC</td>\n",
       "      <td>1.925368</td>\n",
       "      <td>1.0</td>\n",
       "      <td>1.0</td>\n",
       "      <td>1.0</td>\n",
       "    </tr>\n",
       "    <tr>\n",
       "      <th>375384</th>\n",
       "      <td>20001</td>\n",
       "      <td>2016-09-01</td>\n",
       "      <td>697450.0</td>\n",
       "      <td>74.0</td>\n",
       "      <td>15.5</td>\n",
       "      <td>2016</td>\n",
       "      <td>09</td>\n",
       "      <td>201609</td>\n",
       "      <td>NaN</td>\n",
       "      <td>11001.0</td>\n",
       "      <td>...</td>\n",
       "      <td>11.0</td>\n",
       "      <td>DC</td>\n",
       "      <td>705749.0</td>\n",
       "      <td>20001.0</td>\n",
       "      <td>WASHINGTON</td>\n",
       "      <td>Washington DC</td>\n",
       "      <td>1.925368</td>\n",
       "      <td>1.0</td>\n",
       "      <td>1.0</td>\n",
       "      <td>1.0</td>\n",
       "    </tr>\n",
       "    <tr>\n",
       "      <th>375385</th>\n",
       "      <td>20001</td>\n",
       "      <td>2016-10-01</td>\n",
       "      <td>729900.0</td>\n",
       "      <td>87.0</td>\n",
       "      <td>28.0</td>\n",
       "      <td>2016</td>\n",
       "      <td>10</td>\n",
       "      <td>201610</td>\n",
       "      <td>NaN</td>\n",
       "      <td>11001.0</td>\n",
       "      <td>...</td>\n",
       "      <td>11.0</td>\n",
       "      <td>DC</td>\n",
       "      <td>705749.0</td>\n",
       "      <td>20001.0</td>\n",
       "      <td>WASHINGTON</td>\n",
       "      <td>Washington DC</td>\n",
       "      <td>1.925368</td>\n",
       "      <td>1.0</td>\n",
       "      <td>1.0</td>\n",
       "      <td>1.0</td>\n",
       "    </tr>\n",
       "    <tr>\n",
       "      <th>375386</th>\n",
       "      <td>20001</td>\n",
       "      <td>2016-11-01</td>\n",
       "      <td>725000.0</td>\n",
       "      <td>95.0</td>\n",
       "      <td>31.5</td>\n",
       "      <td>2016</td>\n",
       "      <td>11</td>\n",
       "      <td>201611</td>\n",
       "      <td>NaN</td>\n",
       "      <td>11001.0</td>\n",
       "      <td>...</td>\n",
       "      <td>11.0</td>\n",
       "      <td>DC</td>\n",
       "      <td>705749.0</td>\n",
       "      <td>20001.0</td>\n",
       "      <td>WASHINGTON</td>\n",
       "      <td>Washington DC</td>\n",
       "      <td>1.925368</td>\n",
       "      <td>1.0</td>\n",
       "      <td>1.0</td>\n",
       "      <td>1.0</td>\n",
       "    </tr>\n",
       "  </tbody>\n",
       "</table>\n",
       "<p>5 rows × 23 columns</p>\n",
       "</div>"
      ],
      "text/plain": [
       "         zips       date  median_listing_price  active_listing_count  \\\n",
       "375382  20001 2016-07-01              699000.0                  84.0   \n",
       "375383  20001 2016-08-01              697000.0                  63.0   \n",
       "375384  20001 2016-09-01              697450.0                  74.0   \n",
       "375385  20001 2016-10-01              729900.0                  87.0   \n",
       "375386  20001 2016-11-01              725000.0                  95.0   \n",
       "\n",
       "        median_days_on_market  year month  yearmonth  netinflow  countyfips  \\\n",
       "375382                   30.0  2016    07     201607        NaN     11001.0   \n",
       "375383                   26.0  2016    08     201608        NaN     11001.0   \n",
       "375384                   15.5  2016    09     201609        NaN     11001.0   \n",
       "375385                   28.0  2016    10     201610        NaN     11001.0   \n",
       "375386                   31.5  2016    11     201611        NaN     11001.0   \n",
       "\n",
       "        ... statefips stateabbrev county_pop2019      ZIP USPS_ZIP_PREF_CITY  \\\n",
       "375382  ...      11.0          DC       705749.0  20001.0         WASHINGTON   \n",
       "375383  ...      11.0          DC       705749.0  20001.0         WASHINGTON   \n",
       "375384  ...      11.0          DC       705749.0  20001.0         WASHINGTON   \n",
       "375385  ...      11.0          DC       705749.0  20001.0         WASHINGTON   \n",
       "375386  ...      11.0          DC       705749.0  20001.0         WASHINGTON   \n",
       "\n",
       "         nearest_city  distance cbd10 cbd20  county_in_city  \n",
       "375382  Washington DC  1.925368   1.0   1.0             1.0  \n",
       "375383  Washington DC  1.925368   1.0   1.0             1.0  \n",
       "375384  Washington DC  1.925368   1.0   1.0             1.0  \n",
       "375385  Washington DC  1.925368   1.0   1.0             1.0  \n",
       "375386  Washington DC  1.925368   1.0   1.0             1.0  \n",
       "\n",
       "[5 rows x 23 columns]"
      ]
     },
     "execution_count": 14,
     "metadata": {},
     "output_type": "execute_result"
    }
   ],
   "source": [
    "# Keep if czname is 'Washington DC'  \n",
    "df = df[df['czname']=='Washington DC']\n",
    "df.head()"
   ]
  },
  {
   "cell_type": "code",
   "execution_count": null,
   "metadata": {},
   "outputs": [],
   "source": []
  },
  {
   "cell_type": "code",
   "execution_count": null,
   "metadata": {},
   "outputs": [],
   "source": []
  },
  {
   "cell_type": "code",
   "execution_count": null,
   "metadata": {},
   "outputs": [],
   "source": []
  },
  {
   "cell_type": "markdown",
   "metadata": {},
   "source": [
    "## 4. Drop zip codes which has less than 20 listings on average. \n",
    "If zip codes has a small number of lisitngs, lisitng price fluctuates a lot by one very high or one very low lisitng price. So I drop the area which has less than 20 listings. \n",
    "First, I created a dummy variable which =1 if the lisitng is less than 20. Using this dummy variable, I drop the zipcodes. "
   ]
  },
  {
   "cell_type": "code",
   "execution_count": 15,
   "metadata": {
    "scrolled": true
   },
   "outputs": [
    {
     "name": "stderr",
     "output_type": "stream",
     "text": [
      "/Users/emikonaomasa/opt/anaconda3/envs/learn-env/lib/python3.8/site-packages/pandas/core/frame.py:4163: SettingWithCopyWarning: \n",
      "A value is trying to be set on a copy of a slice from a DataFrame\n",
      "\n",
      "See the caveats in the documentation: https://pandas.pydata.org/pandas-docs/stable/user_guide/indexing.html#returning-a-view-versus-a-copy\n",
      "  return super().drop(\n"
     ]
    }
   ],
   "source": [
    "# Create a list of zipcodes which has less than 20 listings. \n",
    "\n",
    "# Count the number of listing by zip \n",
    "ave_listing = df.groupby('ZIP').mean()['active_listing_count']\n",
    "\n",
    "# Create a dummy variable which =1 if number of active lisitng < 20. Store the data in dataframe.  \n",
    "ave_listing20= pd.DataFrame(ave_listing<20).astype('int')\n",
    "\n",
    "# change the name of the dummy variable to listing20\n",
    "ave_listing20.rename({'active_listing_count':'listing20'}, axis=1, inplace=True)\n",
    "\n",
    "# Merge ave_listing20 into df_wfh \n",
    "df_20 = df.merge(ave_listing20, on='ZIP', how ='left')\n",
    "\n",
    "# Drop zipcode if listing20 = 1 \n",
    "df_final = df_20[df_20.listing20==0]\n",
    "\n",
    "df_final.drop('listing20', axis=1, inplace=True)\n"
   ]
  },
  {
   "cell_type": "code",
   "execution_count": 16,
   "metadata": {},
   "outputs": [
    {
     "name": "stdout",
     "output_type": "stream",
     "text": [
      "Among total of 306 zip codes, I dropped 115 zip codes.\n",
      "Final data includes 191 zip codes.\n"
     ]
    }
   ],
   "source": [
    "x= df.zips.nunique()  \n",
    "y=  sum(ave_listing20.listing20==1)   \n",
    "z= df_final.zips.nunique() \n",
    "print(f'Among total of {x} zip codes, I dropped {y} zip codes.')\n",
    "print(f'Final data includes {z} zip codes.')\n"
   ]
  },
  {
   "cell_type": "markdown",
   "metadata": {},
   "source": [
    "# Save df_final as df_realtor.csv"
   ]
  },
  {
   "cell_type": "code",
   "execution_count": 17,
   "metadata": {},
   "outputs": [],
   "source": [
    "df_final.to_csv('Data/df_realtor.csv', index=False)"
   ]
  },
  {
   "cell_type": "code",
   "execution_count": 18,
   "metadata": {},
   "outputs": [
    {
     "data": {
      "text/html": [
       "<div>\n",
       "<style scoped>\n",
       "    .dataframe tbody tr th:only-of-type {\n",
       "        vertical-align: middle;\n",
       "    }\n",
       "\n",
       "    .dataframe tbody tr th {\n",
       "        vertical-align: top;\n",
       "    }\n",
       "\n",
       "    .dataframe thead th {\n",
       "        text-align: right;\n",
       "    }\n",
       "</style>\n",
       "<table border=\"1\" class=\"dataframe\">\n",
       "  <thead>\n",
       "    <tr style=\"text-align: right;\">\n",
       "      <th></th>\n",
       "      <th>zips</th>\n",
       "      <th>median_listing_price</th>\n",
       "      <th>active_listing_count</th>\n",
       "      <th>median_days_on_market</th>\n",
       "      <th>yearmonth</th>\n",
       "      <th>netinflow</th>\n",
       "      <th>countyfips</th>\n",
       "      <th>statefips</th>\n",
       "      <th>county_pop2019</th>\n",
       "      <th>ZIP</th>\n",
       "      <th>distance</th>\n",
       "      <th>cbd10</th>\n",
       "      <th>cbd20</th>\n",
       "      <th>county_in_city</th>\n",
       "    </tr>\n",
       "  </thead>\n",
       "  <tbody>\n",
       "    <tr>\n",
       "      <th>count</th>\n",
       "      <td>12606.000000</td>\n",
       "      <td>1.260600e+04</td>\n",
       "      <td>12606.000000</td>\n",
       "      <td>12606.000000</td>\n",
       "      <td>12606.000000</td>\n",
       "      <td>9165.000000</td>\n",
       "      <td>12606.000000</td>\n",
       "      <td>12606.000000</td>\n",
       "      <td>1.260600e+04</td>\n",
       "      <td>12606.000000</td>\n",
       "      <td>12606.000000</td>\n",
       "      <td>12606.000000</td>\n",
       "      <td>12606.000000</td>\n",
       "      <td>12606.000000</td>\n",
       "    </tr>\n",
       "    <tr>\n",
       "      <th>mean</th>\n",
       "      <td>21012.057592</td>\n",
       "      <td>5.657911e+05</td>\n",
       "      <td>59.659131</td>\n",
       "      <td>46.984611</td>\n",
       "      <td>201879.500000</td>\n",
       "      <td>-17.198909</td>\n",
       "      <td>34576.324607</td>\n",
       "      <td>34.513089</td>\n",
       "      <td>6.850999e+05</td>\n",
       "      <td>21012.057592</td>\n",
       "      <td>30.921671</td>\n",
       "      <td>0.172775</td>\n",
       "      <td>0.397906</td>\n",
       "      <td>0.104712</td>\n",
       "    </tr>\n",
       "    <tr>\n",
       "      <th>std</th>\n",
       "      <td>817.746720</td>\n",
       "      <td>3.052228e+05</td>\n",
       "      <td>43.022445</td>\n",
       "      <td>38.365745</td>\n",
       "      <td>159.640027</td>\n",
       "      <td>61.757218</td>\n",
       "      <td>15139.686726</td>\n",
       "      <td>15.092935</td>\n",
       "      <td>3.948347e+05</td>\n",
       "      <td>817.746720</td>\n",
       "      <td>22.027120</td>\n",
       "      <td>0.378068</td>\n",
       "      <td>0.489485</td>\n",
       "      <td>0.306194</td>\n",
       "    </tr>\n",
       "    <tr>\n",
       "      <th>min</th>\n",
       "      <td>20001.000000</td>\n",
       "      <td>1.390000e+05</td>\n",
       "      <td>0.000000</td>\n",
       "      <td>2.000000</td>\n",
       "      <td>201607.000000</td>\n",
       "      <td>-733.000000</td>\n",
       "      <td>11001.000000</td>\n",
       "      <td>11.000000</td>\n",
       "      <td>1.461700e+04</td>\n",
       "      <td>20001.000000</td>\n",
       "      <td>0.358319</td>\n",
       "      <td>0.000000</td>\n",
       "      <td>0.000000</td>\n",
       "      <td>0.000000</td>\n",
       "    </tr>\n",
       "    <tr>\n",
       "      <th>25%</th>\n",
       "      <td>20186.000000</td>\n",
       "      <td>3.674500e+05</td>\n",
       "      <td>28.000000</td>\n",
       "      <td>30.000000</td>\n",
       "      <td>201711.000000</td>\n",
       "      <td>-41.000000</td>\n",
       "      <td>24031.000000</td>\n",
       "      <td>24.000000</td>\n",
       "      <td>2.595470e+05</td>\n",
       "      <td>20186.000000</td>\n",
       "      <td>13.334399</td>\n",
       "      <td>0.000000</td>\n",
       "      <td>0.000000</td>\n",
       "      <td>0.000000</td>\n",
       "    </tr>\n",
       "    <tr>\n",
       "      <th>50%</th>\n",
       "      <td>20772.000000</td>\n",
       "      <td>4.900000e+05</td>\n",
       "      <td>47.000000</td>\n",
       "      <td>41.000000</td>\n",
       "      <td>201903.500000</td>\n",
       "      <td>-6.000000</td>\n",
       "      <td>24033.000000</td>\n",
       "      <td>24.000000</td>\n",
       "      <td>7.057490e+05</td>\n",
       "      <td>20772.000000</td>\n",
       "      <td>26.105509</td>\n",
       "      <td>0.000000</td>\n",
       "      <td>0.000000</td>\n",
       "      <td>0.000000</td>\n",
       "    </tr>\n",
       "    <tr>\n",
       "      <th>75%</th>\n",
       "      <td>22026.000000</td>\n",
       "      <td>6.450000e+05</td>\n",
       "      <td>80.000000</td>\n",
       "      <td>56.000000</td>\n",
       "      <td>202008.000000</td>\n",
       "      <td>16.000000</td>\n",
       "      <td>51059.000000</td>\n",
       "      <td>51.000000</td>\n",
       "      <td>1.050688e+06</td>\n",
       "      <td>22026.000000</td>\n",
       "      <td>44.294795</td>\n",
       "      <td>0.000000</td>\n",
       "      <td>1.000000</td>\n",
       "      <td>0.000000</td>\n",
       "    </tr>\n",
       "    <tr>\n",
       "      <th>max</th>\n",
       "      <td>22712.000000</td>\n",
       "      <td>2.795000e+06</td>\n",
       "      <td>299.000000</td>\n",
       "      <td>1946.500000</td>\n",
       "      <td>202112.000000</td>\n",
       "      <td>301.000000</td>\n",
       "      <td>51683.000000</td>\n",
       "      <td>51.000000</td>\n",
       "      <td>1.147532e+06</td>\n",
       "      <td>22712.000000</td>\n",
       "      <td>98.284269</td>\n",
       "      <td>1.000000</td>\n",
       "      <td>1.000000</td>\n",
       "      <td>1.000000</td>\n",
       "    </tr>\n",
       "  </tbody>\n",
       "</table>\n",
       "</div>"
      ],
      "text/plain": [
       "               zips  median_listing_price  active_listing_count  \\\n",
       "count  12606.000000          1.260600e+04          12606.000000   \n",
       "mean   21012.057592          5.657911e+05             59.659131   \n",
       "std      817.746720          3.052228e+05             43.022445   \n",
       "min    20001.000000          1.390000e+05              0.000000   \n",
       "25%    20186.000000          3.674500e+05             28.000000   \n",
       "50%    20772.000000          4.900000e+05             47.000000   \n",
       "75%    22026.000000          6.450000e+05             80.000000   \n",
       "max    22712.000000          2.795000e+06            299.000000   \n",
       "\n",
       "       median_days_on_market      yearmonth    netinflow    countyfips  \\\n",
       "count           12606.000000   12606.000000  9165.000000  12606.000000   \n",
       "mean               46.984611  201879.500000   -17.198909  34576.324607   \n",
       "std                38.365745     159.640027    61.757218  15139.686726   \n",
       "min                 2.000000  201607.000000  -733.000000  11001.000000   \n",
       "25%                30.000000  201711.000000   -41.000000  24031.000000   \n",
       "50%                41.000000  201903.500000    -6.000000  24033.000000   \n",
       "75%                56.000000  202008.000000    16.000000  51059.000000   \n",
       "max              1946.500000  202112.000000   301.000000  51683.000000   \n",
       "\n",
       "          statefips  county_pop2019           ZIP      distance         cbd10  \\\n",
       "count  12606.000000    1.260600e+04  12606.000000  12606.000000  12606.000000   \n",
       "mean      34.513089    6.850999e+05  21012.057592     30.921671      0.172775   \n",
       "std       15.092935    3.948347e+05    817.746720     22.027120      0.378068   \n",
       "min       11.000000    1.461700e+04  20001.000000      0.358319      0.000000   \n",
       "25%       24.000000    2.595470e+05  20186.000000     13.334399      0.000000   \n",
       "50%       24.000000    7.057490e+05  20772.000000     26.105509      0.000000   \n",
       "75%       51.000000    1.050688e+06  22026.000000     44.294795      0.000000   \n",
       "max       51.000000    1.147532e+06  22712.000000     98.284269      1.000000   \n",
       "\n",
       "              cbd20  county_in_city  \n",
       "count  12606.000000    12606.000000  \n",
       "mean       0.397906        0.104712  \n",
       "std        0.489485        0.306194  \n",
       "min        0.000000        0.000000  \n",
       "25%        0.000000        0.000000  \n",
       "50%        0.000000        0.000000  \n",
       "75%        1.000000        0.000000  \n",
       "max        1.000000        1.000000  "
      ]
     },
     "execution_count": 18,
     "metadata": {},
     "output_type": "execute_result"
    }
   ],
   "source": [
    "df_final.describe()"
   ]
  },
  {
   "cell_type": "markdown",
   "metadata": {},
   "source": [
    "## EDA: Plotting Realtor housing price "
   ]
  },
  {
   "cell_type": "code",
   "execution_count": 19,
   "metadata": {},
   "outputs": [
    {
     "data": {
      "image/png": "[encoded data removed]",
      "text/plain": [
       "<Figure size 432x288 with 1 Axes>"
      ]
     },
     "metadata": {
      "needs_background": "light"
     },
     "output_type": "display_data"
    }
   ],
   "source": [
    "realtor_m.groupby(['date']).median()['median_listing_price'].plot()\n",
    "plt.ylabel('Median listing price (USD)')\n",
    "plt.title('Median Lising Price');"
   ]
  },
  {
   "cell_type": "markdown",
   "metadata": {},
   "source": [
    "It show the strong upward trend over time and seasonality in listing price. "
   ]
  },
  {
   "cell_type": "code",
   "execution_count": 20,
   "metadata": {},
   "outputs": [
    {
     "ename": "KeyError",
     "evalue": "'median_listing_price_per_square_foot'",
     "output_type": "error",
     "traceback": [
      "\u001b[0;31m---------------------------------------------------------------------------\u001b[0m",
      "\u001b[0;31mKeyError\u001b[0m                                  Traceback (most recent call last)",
      "\u001b[0;32m~/opt/anaconda3/envs/learn-env/lib/python3.8/site-packages/pandas/core/indexes/base.py\u001b[0m in \u001b[0;36mget_loc\u001b[0;34m(self, key, method, tolerance)\u001b[0m\n\u001b[1;32m   2894\u001b[0m             \u001b[0;32mtry\u001b[0m\u001b[0;34m:\u001b[0m\u001b[0;34m\u001b[0m\u001b[0;34m\u001b[0m\u001b[0m\n\u001b[0;32m-> 2895\u001b[0;31m                 \u001b[0;32mreturn\u001b[0m \u001b[0mself\u001b[0m\u001b[0;34m.\u001b[0m\u001b[0m_engine\u001b[0m\u001b[0;34m.\u001b[0m\u001b[0mget_loc\u001b[0m\u001b[0;34m(\u001b[0m\u001b[0mcasted_key\u001b[0m\u001b[0;34m)\u001b[0m\u001b[0;34m\u001b[0m\u001b[0;34m\u001b[0m\u001b[0m\n\u001b[0m\u001b[1;32m   2896\u001b[0m             \u001b[0;32mexcept\u001b[0m \u001b[0mKeyError\u001b[0m \u001b[0;32mas\u001b[0m \u001b[0merr\u001b[0m\u001b[0;34m:\u001b[0m\u001b[0;34m\u001b[0m\u001b[0;34m\u001b[0m\u001b[0m\n",
      "\u001b[0;32mpandas/_libs/index.pyx\u001b[0m in \u001b[0;36mpandas._libs.index.IndexEngine.get_loc\u001b[0;34m()\u001b[0m\n",
      "\u001b[0;32mpandas/_libs/index.pyx\u001b[0m in \u001b[0;36mpandas._libs.index.IndexEngine.get_loc\u001b[0;34m()\u001b[0m\n",
      "\u001b[0;32mpandas/_libs/hashtable_class_helper.pxi\u001b[0m in \u001b[0;36mpandas._libs.hashtable.PyObjectHashTable.get_item\u001b[0;34m()\u001b[0m\n",
      "\u001b[0;32mpandas/_libs/hashtable_class_helper.pxi\u001b[0m in \u001b[0;36mpandas._libs.hashtable.PyObjectHashTable.get_item\u001b[0;34m()\u001b[0m\n",
      "\u001b[0;31mKeyError\u001b[0m: 'median_listing_price_per_square_foot'",
      "\nThe above exception was the direct cause of the following exception:\n",
      "\u001b[0;31mKeyError\u001b[0m                                  Traceback (most recent call last)",
      "\u001b[0;32m<ipython-input-20-ea52279c9552>\u001b[0m in \u001b[0;36m<module>\u001b[0;34m\u001b[0m\n\u001b[0;32m----> 1\u001b[0;31m \u001b[0mrealtor_m\u001b[0m\u001b[0;34m.\u001b[0m\u001b[0mgroupby\u001b[0m\u001b[0;34m(\u001b[0m\u001b[0;34m[\u001b[0m\u001b[0;34m'date'\u001b[0m\u001b[0;34m]\u001b[0m\u001b[0;34m)\u001b[0m\u001b[0;34m.\u001b[0m\u001b[0mmedian\u001b[0m\u001b[0;34m(\u001b[0m\u001b[0;34m)\u001b[0m\u001b[0;34m[\u001b[0m\u001b[0;34m'median_listing_price_per_square_foot'\u001b[0m\u001b[0;34m]\u001b[0m\u001b[0;34m.\u001b[0m\u001b[0mplot\u001b[0m\u001b[0;34m(\u001b[0m\u001b[0;34m)\u001b[0m\u001b[0;34m\u001b[0m\u001b[0;34m\u001b[0m\u001b[0m\n\u001b[0m\u001b[1;32m      2\u001b[0m \u001b[0mplt\u001b[0m\u001b[0;34m.\u001b[0m\u001b[0mylabel\u001b[0m\u001b[0;34m(\u001b[0m\u001b[0;34m'Median listing price (USD)'\u001b[0m\u001b[0;34m)\u001b[0m\u001b[0;34m\u001b[0m\u001b[0;34m\u001b[0m\u001b[0m\n\u001b[1;32m      3\u001b[0m \u001b[0mplt\u001b[0m\u001b[0;34m.\u001b[0m\u001b[0mtitle\u001b[0m\u001b[0;34m(\u001b[0m\u001b[0;34m'Median Lising Price'\u001b[0m\u001b[0;34m)\u001b[0m\u001b[0;34m;\u001b[0m\u001b[0;34m\u001b[0m\u001b[0;34m\u001b[0m\u001b[0m\n",
      "\u001b[0;32m~/opt/anaconda3/envs/learn-env/lib/python3.8/site-packages/pandas/core/frame.py\u001b[0m in \u001b[0;36m__getitem__\u001b[0;34m(self, key)\u001b[0m\n\u001b[1;32m   2900\u001b[0m             \u001b[0;32mif\u001b[0m \u001b[0mself\u001b[0m\u001b[0;34m.\u001b[0m\u001b[0mcolumns\u001b[0m\u001b[0;34m.\u001b[0m\u001b[0mnlevels\u001b[0m \u001b[0;34m>\u001b[0m \u001b[0;36m1\u001b[0m\u001b[0;34m:\u001b[0m\u001b[0;34m\u001b[0m\u001b[0;34m\u001b[0m\u001b[0m\n\u001b[1;32m   2901\u001b[0m                 \u001b[0;32mreturn\u001b[0m \u001b[0mself\u001b[0m\u001b[0;34m.\u001b[0m\u001b[0m_getitem_multilevel\u001b[0m\u001b[0;34m(\u001b[0m\u001b[0mkey\u001b[0m\u001b[0;34m)\u001b[0m\u001b[0;34m\u001b[0m\u001b[0;34m\u001b[0m\u001b[0m\n\u001b[0;32m-> 2902\u001b[0;31m             \u001b[0mindexer\u001b[0m \u001b[0;34m=\u001b[0m \u001b[0mself\u001b[0m\u001b[0;34m.\u001b[0m\u001b[0mcolumns\u001b[0m\u001b[0;34m.\u001b[0m\u001b[0mget_loc\u001b[0m\u001b[0;34m(\u001b[0m\u001b[0mkey\u001b[0m\u001b[0;34m)\u001b[0m\u001b[0;34m\u001b[0m\u001b[0;34m\u001b[0m\u001b[0m\n\u001b[0m\u001b[1;32m   2903\u001b[0m             \u001b[0;32mif\u001b[0m \u001b[0mis_integer\u001b[0m\u001b[0;34m(\u001b[0m\u001b[0mindexer\u001b[0m\u001b[0;34m)\u001b[0m\u001b[0;34m:\u001b[0m\u001b[0;34m\u001b[0m\u001b[0;34m\u001b[0m\u001b[0m\n\u001b[1;32m   2904\u001b[0m                 \u001b[0mindexer\u001b[0m \u001b[0;34m=\u001b[0m \u001b[0;34m[\u001b[0m\u001b[0mindexer\u001b[0m\u001b[0;34m]\u001b[0m\u001b[0;34m\u001b[0m\u001b[0;34m\u001b[0m\u001b[0m\n",
      "\u001b[0;32m~/opt/anaconda3/envs/learn-env/lib/python3.8/site-packages/pandas/core/indexes/base.py\u001b[0m in \u001b[0;36mget_loc\u001b[0;34m(self, key, method, tolerance)\u001b[0m\n\u001b[1;32m   2895\u001b[0m                 \u001b[0;32mreturn\u001b[0m \u001b[0mself\u001b[0m\u001b[0;34m.\u001b[0m\u001b[0m_engine\u001b[0m\u001b[0;34m.\u001b[0m\u001b[0mget_loc\u001b[0m\u001b[0;34m(\u001b[0m\u001b[0mcasted_key\u001b[0m\u001b[0;34m)\u001b[0m\u001b[0;34m\u001b[0m\u001b[0;34m\u001b[0m\u001b[0m\n\u001b[1;32m   2896\u001b[0m             \u001b[0;32mexcept\u001b[0m \u001b[0mKeyError\u001b[0m \u001b[0;32mas\u001b[0m \u001b[0merr\u001b[0m\u001b[0;34m:\u001b[0m\u001b[0;34m\u001b[0m\u001b[0;34m\u001b[0m\u001b[0m\n\u001b[0;32m-> 2897\u001b[0;31m                 \u001b[0;32mraise\u001b[0m \u001b[0mKeyError\u001b[0m\u001b[0;34m(\u001b[0m\u001b[0mkey\u001b[0m\u001b[0;34m)\u001b[0m \u001b[0;32mfrom\u001b[0m \u001b[0merr\u001b[0m\u001b[0;34m\u001b[0m\u001b[0;34m\u001b[0m\u001b[0m\n\u001b[0m\u001b[1;32m   2898\u001b[0m \u001b[0;34m\u001b[0m\u001b[0m\n\u001b[1;32m   2899\u001b[0m         \u001b[0;32mif\u001b[0m \u001b[0mtolerance\u001b[0m \u001b[0;32mis\u001b[0m \u001b[0;32mnot\u001b[0m \u001b[0;32mNone\u001b[0m\u001b[0;34m:\u001b[0m\u001b[0;34m\u001b[0m\u001b[0;34m\u001b[0m\u001b[0m\n",
      "\u001b[0;31mKeyError\u001b[0m: 'median_listing_price_per_square_foot'"
     ]
    }
   ],
   "source": [
    "realtor_m.groupby(['date']).median()['median_listing_price_per_square_foot'].plot()\n",
    "plt.ylabel('Median listing price (USD)')\n",
    "plt.title('Median Lising Price');"
   ]
  },
  {
   "cell_type": "code",
   "execution_count": null,
   "metadata": {},
   "outputs": [],
   "source": []
  },
  {
   "cell_type": "markdown",
   "metadata": {},
   "source": [
    "# EDA"
   ]
  },
  {
   "cell_type": "markdown",
   "metadata": {},
   "source": [
    "### Housing price and housing sales within and outside of central business district "
   ]
  },
  {
   "cell_type": "code",
   "execution_count": null,
   "metadata": {},
   "outputs": [],
   "source": [
    "df_final[(df_final.cbd10==0) & (df_final.yearmonth>201601) ].groupby(['date']).median()['median_listing_price'].plot(label='cbd10=0', figsize=(15,6)) \n",
    "df_final[(df_final.cbd10==1) & (df_final.yearmonth>201601) ].groupby(['date']).median()['median_listing_price'].plot(label='cbd10=1') \n",
    "plt.ylabel('Median listing price (USD)')\n",
    "plt.legend()\n",
    "plt.title('Median Listing Price: within 10KM of the city center vs outside');"
   ]
  },
  {
   "cell_type": "code",
   "execution_count": null,
   "metadata": {},
   "outputs": [],
   "source": [
    "df_final[(df_final.cbd20==0) & (df_final.yearmonth>201601) ].groupby(['date']).median()['median_listing_price'].plot(label='cbd20=0', figsize=(15,6)) \n",
    "df_final[(df_final.cbd20==1) & (df_final.yearmonth>201601) ].groupby(['date']).median()['median_listing_price'].plot(label='cbd20=1') \n",
    "plt.ylabel('Median listing price (USD)')\n",
    "plt.legend()\n",
    "plt.title('Median Listing Price: Within 20KM of the city center vs Outside');"
   ]
  },
  {
   "cell_type": "code",
   "execution_count": null,
   "metadata": {},
   "outputs": [],
   "source": [
    "df_final[(df_final.county_in_city==0) & (df_final.yearmonth>201601) ].groupby(['date']).median()['median_listing_price'].plot(label='county_in_city=0', figsize=(15,6)) \n",
    "df_final[(df_final.county_in_city==1) & (df_final.yearmonth>201601) ].groupby(['date']).median()['median_listing_price'].plot(label='county_in_city=1') \n",
    "plt.ylabel('Median listing price (USD)')\n",
    "plt.legend()\n",
    "plt.title('Median Listing Price: Within a city vs Outside');"
   ]
  },
  {
   "cell_type": "markdown",
   "metadata": {},
   "source": [
    "- Historically, listing price between within 10 km of the central business district and outside has a significant sifferences (About 40,000USD). But the price gap has started shrinking since 2020 Summer, and the differences are almost zero by the end of 2021.  \n",
    "- CBD10 will be the best feature to capture a price difference between city and suburb. "
   ]
  },
  {
   "cell_type": "code",
   "execution_count": null,
   "metadata": {},
   "outputs": [],
   "source": [
    "df_final[(df_final.cbd10==0) & (df_final.yearmonth>201710) ].groupby(['date']).median()['median_listing_price_yy'].plot(label='cbd10=0', figsize=(15,6)) \n",
    "df_final[(df_final.cbd10==1) & (df_final.yearmonth>201710) ].groupby(['date']).median()['median_listing_price_yy'].plot(label='cbd10=1') \n",
    "plt.ylabel('Median listing price (year-on-year change, USD)')\n",
    "plt.legend()\n",
    "plt.title('Median Listing Price (year-on-year change, USD)');"
   ]
  },
  {
   "cell_type": "markdown",
   "metadata": {},
   "source": [
    "- Listing price outside of the central business district shows strong growth since 2020, while the price inside of the central business district had been stagnant since 2020 to early 2021.     "
   ]
  },
  {
   "cell_type": "code",
   "execution_count": null,
   "metadata": {},
   "outputs": [],
   "source": []
  },
  {
   "cell_type": "code",
   "execution_count": null,
   "metadata": {},
   "outputs": [],
   "source": [
    "df_final[(df_final.cbd10==0) & (df_final.yearmonth>201710) ].groupby(['date']).mean()['active_listing_count'].plot(label='cbd10=0', figsize=(15,6)) \n",
    "df_final[(df_final.cbd10==1) & (df_final.yearmonth>201710) ].groupby(['date']).mean()['active_listing_count'].plot(label='cbd10=1') \n",
    "plt.ylabel('Number of Active Listing')\n",
    "plt.legend()\n",
    "plt.title('Average number of active listings in a given zipcode');"
   ]
  },
  {
   "cell_type": "markdown",
   "metadata": {},
   "source": [
    "- Number of active listing outside of the city center dropped shapely in 2020. It may refflect the surging demand for homes in outside of the city. "
   ]
  },
  {
   "cell_type": "code",
   "execution_count": null,
   "metadata": {},
   "outputs": [],
   "source": [
    "df_final[(df_final.cbd10==0) & (df_final.yearmonth>201710) ].groupby(['date']).mean()['median_days_on_market'].plot(label='cbd10=0', figsize=(15,6)) \n",
    "df_final[(df_final.cbd10==1) & (df_final.yearmonth>201710) ].groupby(['date']).mean()['median_days_on_market'].plot(label='cbd10=1') \n",
    "plt.ylabel('Numebr of Days on a market')\n",
    "plt.legend()\n",
    "plt.title('Median days on market per zipcode');"
   ]
  },
  {
   "cell_type": "markdown",
   "metadata": {},
   "source": [
    "- Active listings and number of days on a market is a measurement of housing supply. Both figures tells that the housing supply is very tight (i.e., Supply shotage) in 2021. "
   ]
  },
  {
   "cell_type": "code",
   "execution_count": null,
   "metadata": {},
   "outputs": [],
   "source": []
  },
  {
   "cell_type": "markdown",
   "metadata": {},
   "source": [
    "## Washington DC area "
   ]
  },
  {
   "cell_type": "code",
   "execution_count": null,
   "metadata": {},
   "outputs": [],
   "source": [
    "df_final[(df_final.czname=='Washington DC')&(df_final.cbd10==0) & (df_final.yearmonth>201801) ].groupby(['date']).median()['median_listing_price'].plot(label='cbd10=0', figsize=(15,6)) \n",
    "df_final[(df_final.czname=='Washington DC')&(df_final.cbd10==1) &(df_final.yearmonth>201801) ].groupby(['date']).median()['median_listing_price'].plot(label='cbd10=1') \n",
    "plt.ylabel('Median Listing  price (USD)')\n",
    "plt.legend()\n",
    "plt.title('Median Listing  Price (USD)');"
   ]
  },
  {
   "cell_type": "markdown",
   "metadata": {},
   "source": [
    "## San Francisco"
   ]
  },
  {
   "cell_type": "code",
   "execution_count": null,
   "metadata": {},
   "outputs": [],
   "source": [
    "df_final[(df_final.czname=='San Francisco')&(df_final.cbd10==0) & (df_final.yearmonth>201801) ].groupby(['date']).median()['median_listing_price'].plot(label='cbd10=0', figsize=(15,6)) \n",
    "df_final[(df_final.czname=='San Francisco')&(df_final.cbd10==1) &(df_final.yearmonth>201801) ].groupby(['date']).median()['median_listing_price'].plot(label='cbd10=1') \n",
    "plt.ylabel('Median Listing  price (USD)')\n",
    "plt.legend()\n",
    "plt.title('Median Listing  Price (USD)');"
   ]
  },
  {
   "cell_type": "code",
   "execution_count": null,
   "metadata": {},
   "outputs": [],
   "source": []
  },
  {
   "cell_type": "markdown",
   "metadata": {},
   "source": [
    "## Seattle"
   ]
  },
  {
   "cell_type": "code",
   "execution_count": null,
   "metadata": {},
   "outputs": [],
   "source": [
    "df_final[(df_final.czname=='Seattle')&(df_final.cbd10==0) & (df_final.yearmonth>201801) ].groupby(['date']).median()['median_listing_price'].plot(label='cbd10=0', figsize=(15,6)) \n",
    "df_final[(df_final.czname=='Seattle')&(df_final.cbd10==1)&(df_final.yearmonth>201801) ].groupby(['date']).median()['median_listing_price'].plot(label='cbd10=1') \n",
    "plt.ylabel('Median listing price (USD)')\n",
    "plt.legend()\n",
    "plt.title('Median Listing Price (USD)');"
   ]
  },
  {
   "cell_type": "markdown",
   "metadata": {},
   "source": [
    "## New York City"
   ]
  },
  {
   "cell_type": "code",
   "execution_count": null,
   "metadata": {},
   "outputs": [],
   "source": [
    "df_final[(df_final.czname=='New York City')&(df_final.cbd10==0) & (df_final.yearmonth>201801) ].groupby(['date']).median()['median_listing_price'].plot(label='cbd10=0', figsize=(15,6)) \n",
    "df_final[(df_final.czname=='New York City')&(df_final.cbd10==1)&(df_final.yearmonth>201801) ].groupby(['date']).median()['median_listing_price'].plot(label='cbd10=1') \n",
    "plt.ylabel('Median sales price (USD)')\n",
    "plt.legend()\n",
    "plt.title('Median Sales Price (USD)');"
   ]
  },
  {
   "cell_type": "code",
   "execution_count": null,
   "metadata": {},
   "outputs": [],
   "source": []
  },
  {
   "cell_type": "markdown",
   "metadata": {},
   "source": [
    "## Distance and Housing Price"
   ]
  },
  {
   "cell_type": "code",
   "execution_count": null,
   "metadata": {},
   "outputs": [],
   "source": [
    "x1 = df_final[(df_final.yearmonth>202002) & (df_final.distance<100) & (df_final.median_listing_price < 10000000 )]['distance']\n",
    "x2 = df_final[(df_final.yearmonth<=202002) & (df_final.distance<100) & (df_final.median_listing_price <10000000 )]['distance']\n",
    "y1 = df_final[(df_final.yearmonth>202002) & (df_final.distance<100) & (df_final.median_listing_price < 10000000 )]['median_listing_price']\n",
    "y2 = df_final[(df_final.yearmonth<=202002) & (df_final.distance<100) & (df_final.median_listing_price < 10000000 )]['median_listing_price']\n",
    "\n",
    "plt.figure(figsize=(15,6))\n",
    "plt.scatter(x2, y2, label='pre pandemic', alpha=0.6)\n",
    "plt.scatter(x1, y1, label='pandemic', alpha=0.6)\n",
    "\n",
    "\n",
    "plt.ylabel('Median sales price (USD)')\n",
    "plt.legend()\n",
    "plt.title('Median Sales Price (USD)');"
   ]
  },
  {
   "cell_type": "code",
   "execution_count": null,
   "metadata": {},
   "outputs": [],
   "source": [
    "x1 = df_final[(df_final.yearmonth>202002) & (df_final.distance<100)]['distance']\n",
    "x2 = df_final[(df_final.yearmonth<=202002) & (df_final.distance<100)]['distance']\n",
    "y1 = df_final[(df_final.yearmonth>202002) & (df_final.distance<100)]['median_days_on_market']\n",
    "y2 = df_final[(df_final.yearmonth<=202002) & (df_final.distance<100)]['median_days_on_market']\n",
    "\n",
    "plt.figure(figsize=(15,6))\n",
    "plt.scatter(x2, y2, label='pre pandemic', alpha=0.6)\n",
    "plt.scatter(x1, y1, label='pandemic', alpha=0.6)\n",
    "\n",
    "\n",
    "plt.ylabel('Number of days on market')\n",
    "plt.legend()\n",
    "plt.title('Median Number of Days on Market ');"
   ]
  },
  {
   "cell_type": "markdown",
   "metadata": {},
   "source": [
    "### Washington DC"
   ]
  },
  {
   "cell_type": "code",
   "execution_count": null,
   "metadata": {},
   "outputs": [],
   "source": [
    "import seaborn as sns\n",
    "\n",
    "sns.regplot(x='distance', y='median_listing_price', \n",
    "            data=df_final[(df_final.yearmonth>202002) & (df_final.distance<100) & (df_final.czname=='Washington DC')], \n",
    "            label = 'Post Pandemic', line_kws={\"color\": \"red\"})\n",
    "plt.title('2020 March -')\n",
    "plt.figure(figsize=(15,6));\n"
   ]
  },
  {
   "cell_type": "code",
   "execution_count": null,
   "metadata": {},
   "outputs": [],
   "source": [
    "sns.regplot(x='distance', y='median_listing_price', \n",
    "            data=df_final[(df_final.yearmonth<=202002) & (df_final.distance<100) & (df_final.czname=='Washington DC')], \n",
    "            label = 'Pre Pandemic', line_kws={\"color\": \"red\"})\n",
    "plt.title('Pre COVID')\n",
    "plt.figure(figsize=(15,6))"
   ]
  },
  {
   "cell_type": "markdown",
   "metadata": {},
   "source": [
    "## Migration patterns"
   ]
  },
  {
   "cell_type": "code",
   "execution_count": null,
   "metadata": {
    "scrolled": true
   },
   "outputs": [],
   "source": [
    "df_final[(df_final.cbd10==0) & (df_final.yearmonth>201712) ].groupby(['date']).mean()['netinflow'].plot(label='cbd10=0', figsize=(15,6)) \n",
    "df_final[(df_final.cbd10==1) & (df_final.yearmonth>201712) ].groupby(['date']).mean()['netinflow'].plot(label='cbd10=1') \n",
    "plt.ylabel('Net inflow of people')\n",
    "plt.legend()\n",
    "plt.title('Net inflow of people');"
   ]
  },
  {
   "cell_type": "markdown",
   "metadata": {},
   "source": [
    "### Washington DC, net inflow of people "
   ]
  },
  {
   "cell_type": "code",
   "execution_count": null,
   "metadata": {},
   "outputs": [],
   "source": [
    "df_final[(df_final.czname=='Washington DC')&(df_final.cbd10==0) & (df_final.yearmonth>201712) ].groupby(['date']).mean()['netinflow'].plot(label='cbd=0', figsize=(15,6)) \n",
    "df_final[(df_final.czname=='Washington DC')&(df_final.cbd10==1) & (df_final.yearmonth>201712) ].groupby(['date']).mean()['netinflow'].plot(label='cbd=1') \n",
    "plt.ylabel('Net inflow of people')\n",
    "plt.legend()\n",
    "plt.title('Net inflow of people in Washington DC');"
   ]
  },
  {
   "cell_type": "markdown",
   "metadata": {},
   "source": [
    "Sharp drop in net inflow of people in center of the city in 2020 Supring to Summer"
   ]
  },
  {
   "cell_type": "markdown",
   "metadata": {},
   "source": [
    "## Listing price and net inflow of people"
   ]
  },
  {
   "cell_type": "code",
   "execution_count": null,
   "metadata": {},
   "outputs": [],
   "source": [
    "sns.regplot(x='netinflow', y='median_listing_price', \n",
    "            data=df_final[(df_final.median_listing_price<4000000)& (df_final.netinflow>-2000)], \n",
    "            line_kws={\"color\": \"red\"})\n",
    "plt.title('Net Inflow and Listing Price')\n",
    "plt.figure(figsize=(15,6))"
   ]
  },
  {
   "cell_type": "code",
   "execution_count": null,
   "metadata": {},
   "outputs": [],
   "source": []
  },
  {
   "cell_type": "markdown",
   "metadata": {},
   "source": [
    "## WFH and Migration"
   ]
  },
  {
   "cell_type": "code",
   "execution_count": null,
   "metadata": {},
   "outputs": [],
   "source": [
    "x1 = df_final[(df_final.yearmonth>202003) ][ 'netinflow']\n",
    "y1 = df_final[(df_final.yearmonth>202003) ]['wfh']\n",
    "\n",
    "plt.figure(figsize=(15,6))\n",
    "plt.scatter(x1, y1, alpha=0.6)\n",
    "\n",
    "plt.xlabel('Net migration Inflow')\n",
    "plt.ylabel('Work From Home compatability index')\n",
    "plt.legend()\n",
    "plt.title('Work from home index and migration');"
   ]
  },
  {
   "cell_type": "code",
   "execution_count": null,
   "metadata": {},
   "outputs": [],
   "source": [
    "x1 = df_final[(df_final.yearmonth>202003)  & (df_final.median_listing_price_yy <1) &(df_final.czname=='Washington DC')]['wfh']\n",
    "y1 = df_final[(df_final.yearmonth>202003) & (df_final.median_listing_price_yy <1) &(df_final.czname=='Washington DC')]['median_listing_price_yy']\n",
    "\n",
    "plt.figure(figsize=(15,6))\n",
    "plt.scatter(x1, y1, alpha=0.6)\n",
    "\n",
    "plt.xlabel('Work From Home compatability index')\n",
    "plt.ylabel('Listing Price, YoY Change')\n",
    "plt.legend()\n",
    "plt.title('Work from home index and Listing price');"
   ]
  },
  {
   "cell_type": "code",
   "execution_count": null,
   "metadata": {},
   "outputs": [],
   "source": [
    "x1 = df_final[(df_final.yearmonth>202003)  & (df_final.median_listing_price_yy <1) & (df_final.distance <300) ]['distance']\n",
    "y1 = df_final[(df_final.yearmonth>202003) & (df_final.median_listing_price_yy <1) & (df_final.distance <300)]['wfh']\n",
    "\n",
    "plt.figure(figsize=(15,6))\n",
    "plt.scatter(x1, y1, alpha=0.6, label=('post COVID'))\n",
    "\n",
    "plt.xlabel('Distance from the cbeter of business district (KM)')\n",
    "plt.ylabel('Work From Home compatability index')\n",
    "plt.legend()\n",
    "plt.title('Work from home index and distance');\n"
   ]
  },
  {
   "cell_type": "code",
   "execution_count": null,
   "metadata": {},
   "outputs": [],
   "source": [
    "x1 = df_final[(df_final.czname=='Washington DC')&(df_final.yearmonth>202003)  & (df_final.median_listing_price_yy <1) ]['distance']\n",
    "y1 = df_final[(df_final.czname=='Washington DC')&(df_final.yearmonth>202003) & (df_final.median_listing_price_yy <1) ]['wfh']\n",
    "\n",
    "plt.figure(figsize=(15,6))\n",
    "plt.scatter(x1, y1, alpha=0.6, label=('post COVID'))\n",
    "\n",
    "plt.xlabel('Distance from the cbeter of business district (KM)')\n",
    "plt.ylabel('Work From Home compatability index')\n",
    "plt.legend()\n",
    "plt.title('Work from home index and distance in Washington DC');\n"
   ]
  },
  {
   "cell_type": "code",
   "execution_count": null,
   "metadata": {},
   "outputs": [],
   "source": []
  },
  {
   "cell_type": "code",
   "execution_count": null,
   "metadata": {},
   "outputs": [],
   "source": []
  },
  {
   "cell_type": "code",
   "execution_count": null,
   "metadata": {},
   "outputs": [],
   "source": []
  },
  {
   "cell_type": "code",
   "execution_count": null,
   "metadata": {},
   "outputs": [],
   "source": []
  }
 ],
 "metadata": {
  "kernelspec": {
   "display_name": "Python (learn-env)",
   "language": "python",
   "name": "learn-env"
  },
  "language_info": {
   "codemirror_mode": {
    "name": "ipython",
    "version": 3
   },
   "file_extension": ".py",
   "mimetype": "text/x-python",
   "name": "python",
   "nbconvert_exporter": "python",
   "pygments_lexer": "ipython3",
   "version": "3.8.5"
  }
 },
 "nbformat": 4,
 "nbformat_minor": 4
}
