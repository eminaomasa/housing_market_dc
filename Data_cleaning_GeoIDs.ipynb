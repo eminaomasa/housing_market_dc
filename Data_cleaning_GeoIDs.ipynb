{
 "cells": [
  {
   "cell_type": "code",
   "execution_count": null,
   "metadata": {},
   "outputs": [],
   "source": []
  },
  {
   "cell_type": "markdown",
   "metadata": {},
   "source": [
    "To combine multiple data from different sources, I created a crosswalk between zipcode, city, county, and state. Each data are reported in different geographical unit, zipcode, city name, county, state, and census geographic codes.  \n",
    "In this notebook, I go though the process of creating crosswalk. "
   ]
  },
  {
   "cell_type": "code",
   "execution_count": 1,
   "metadata": {},
   "outputs": [],
   "source": [
    "import requests\n",
    "\n",
    "import pandas as pd\n",
    "import matplotlib.pyplot as plt\n",
    "import numpy as np\n",
    "\n",
    "import warnings\n",
    "warnings.filterwarnings(\"ignore\")\n"
   ]
  },
  {
   "cell_type": "markdown",
   "metadata": {},
   "source": [
    "# Creating a crosswalk between Zip codes, Cities, Counties, States, and Census geographic codes  "
   ]
  },
  {
   "cell_type": "markdown",
   "metadata": {},
   "source": [
    "###  ZIP to Congressional District \n",
    "- Donwloaded zip code to Core Based Statistical Areas (CBSA) (census geo code).  https://www.huduser.gov/portal/datasets/usps_crosswalk.html  "
   ]
  },
  {
   "cell_type": "code",
   "execution_count": 3,
   "metadata": {},
   "outputs": [],
   "source": [
    "# Read data \n",
    "\n",
    "cbsa = pd.read_excel('Data/Crosswalk/ZIP_CBSA_092021.xlsx')\n",
    "cbsadv = pd.read_excel('Data/Crosswalk/ZIP_CBSA_DIV_092021.xlsx')\n",
    "cd = pd.read_excel('Data/Crosswalk/ZIP_CD_092021.xlsx') \n",
    "county = pd.read_excel('Data/Crosswalk/ZIP_COUNTY_092021.xlsx') \n",
    "\n",
    "# Drop unnecessary columns \n",
    "cbsa = cbsa.iloc[:, 0:4]\n",
    "cbsadv = cbsadv.iloc[:, 0:4]\n",
    "cd = cd.iloc[:, 0:4]\n",
    "#county = county\n",
    "\n",
    "# merge \n",
    "#df = county.merge(cbsadv, how='outer', on='ZIP')\n",
    "#df = df.merge(cd, how='outer', on='ZIP')\n",
    "#df = df.merge(cbsa, how='outer', on='ZIP')\n",
    "\n",
    "#df.drop_duplicates()"
   ]
  },
  {
   "cell_type": "code",
   "execution_count": null,
   "metadata": {
    "scrolled": true
   },
   "outputs": [],
   "source": [
    "# If a zipcode has multiple county names, keep the county name which has the highest total ratio. \n",
    "\n",
    "# Add a column which return the maximum tot_ratio in a same zipcode  \n",
    "max_tot =  pd.DataFrame(county.groupby('ZIP').max()['TOT_RATIO'])\n",
    "max_tot.reset_index(inplace=True)\n",
    "county = county.merge(max_tot, on='ZIP', how='left')\n",
    "\n",
    "# if total ratio is smaller than max, drop the zipcode. \n",
    "county = county[county.TOT_RATIO_x == county.TOT_RATIO_y]"
   ]
  },
  {
   "cell_type": "code",
   "execution_count": null,
   "metadata": {
    "scrolled": true
   },
   "outputs": [],
   "source": [
    "# If tot_ratio is 50:50 split, use RES_RATIO to assign county name. \n",
    "\n",
    "# Add a column which return the maximum RES_ratio in a same zipcode  \n",
    "max_res =  pd.DataFrame(county.groupby('ZIP').max()['RES_RATIO'])\n",
    "max_res.reset_index(inplace=True)\n",
    "county = county.merge(max_res, on='ZIP', how='left')\n",
    "\n",
    "# if Res ratio is smaller than max, drop the zipcode. \n",
    "county = county[county.RES_RATIO_x == county.RES_RATIO_y]\n"
   ]
  },
  {
   "cell_type": "code",
   "execution_count": null,
   "metadata": {},
   "outputs": [],
   "source": [
    "# If tot_ratio and RES_RATIO is 50:50 split, use BUS_RATIO to assign county name. \n",
    "\n",
    "# Add a column which return the maximum RES_ratio in a same zipcode  \n",
    "max_bus =  pd.DataFrame(county.groupby('ZIP').max()['BUS_RATIO'])\n",
    "max_bus.reset_index(inplace=True)\n",
    "county = county.merge(max_bus, on='ZIP', how='left')\n",
    "\n",
    "# if Res ratio is smaller than max, drop the zipcode. \n",
    "county = county[county.BUS_RATIO_x == county.BUS_RATIO_y]\n",
    "\n",
    "# Lastly, for ZIP code=51603, drop the second entry of county.   \n",
    "county.drop(county[(county.ZIP==51603) & (county.COUNTY==19071)].index, inplace = True)"
   ]
  },
  {
   "cell_type": "code",
   "execution_count": null,
   "metadata": {},
   "outputs": [],
   "source": [
    "county = county.iloc[:, :4]"
   ]
  },
  {
   "cell_type": "code",
   "execution_count": null,
   "metadata": {},
   "outputs": [],
   "source": [
    "county.nunique()"
   ]
  },
  {
   "cell_type": "code",
   "execution_count": null,
   "metadata": {},
   "outputs": [],
   "source": [
    "county.shape"
   ]
  },
  {
   "cell_type": "code",
   "execution_count": null,
   "metadata": {},
   "outputs": [],
   "source": [
    "county[county.COUNTY==36061]"
   ]
  },
  {
   "cell_type": "code",
   "execution_count": null,
   "metadata": {},
   "outputs": [],
   "source": [
    "county.head()"
   ]
  },
  {
   "cell_type": "code",
   "execution_count": null,
   "metadata": {},
   "outputs": [],
   "source": []
  },
  {
   "cell_type": "code",
   "execution_count": null,
   "metadata": {},
   "outputs": [],
   "source": []
  },
  {
   "cell_type": "code",
   "execution_count": null,
   "metadata": {},
   "outputs": [],
   "source": []
  },
  {
   "cell_type": "code",
   "execution_count": null,
   "metadata": {},
   "outputs": [],
   "source": []
  },
  {
   "cell_type": "code",
   "execution_count": null,
   "metadata": {},
   "outputs": [],
   "source": []
  },
  {
   "cell_type": "code",
   "execution_count": null,
   "metadata": {},
   "outputs": [],
   "source": []
  },
  {
   "cell_type": "code",
   "execution_count": null,
   "metadata": {},
   "outputs": [],
   "source": []
  },
  {
   "cell_type": "code",
   "execution_count": null,
   "metadata": {},
   "outputs": [],
   "source": []
  },
  {
   "cell_type": "markdown",
   "metadata": {},
   "source": [
    "## Merge county crosswalk to Eonomic Tracker GeoID-County, GeoID-City, because this data has latitude and logitude of city center. "
   ]
  },
  {
   "cell_type": "markdown",
   "metadata": {},
   "source": [
    "## Use GeoIDs-County.csv to link county information and zip codes"
   ]
  },
  {
   "cell_type": "code",
   "execution_count": null,
   "metadata": {},
   "outputs": [],
   "source": [
    "## Merge GeoIDs-County to zip_city_new using countyfips \n",
    "\n",
    "# Downloard GeoID-County data from Economic Tracker at https://github.com/OpportunityInsights/EconomicTracker/tree/main/data \n",
    "# Read the file\n",
    "geoid_county = pd.read_csv('Data/EconomicTracker-main/data/GeoIDs - County.csv')\n",
    "\n",
    "# merge geoid_county to county\n",
    "county_zip = geoid_county.merge(county, how='right', left_on='countyfips', right_on='COUNTY')\n",
    "#county_zip = geoid_county.merge(zip_city_new, how='left', on='countyfips')\n",
    "\n",
    "#drop if zip codes are missing. \n",
    "county_zip.dropna(axis=0, subset=['ZIP'])\n",
    "\n",
    "\n",
    "county_zip.head()"
   ]
  },
  {
   "cell_type": "code",
   "execution_count": null,
   "metadata": {
    "scrolled": true
   },
   "outputs": [],
   "source": [
    "county_zip.nunique()"
   ]
  },
  {
   "cell_type": "code",
   "execution_count": null,
   "metadata": {},
   "outputs": [],
   "source": [
    "county_zip.shape"
   ]
  },
  {
   "cell_type": "code",
   "execution_count": null,
   "metadata": {},
   "outputs": [],
   "source": [
    "county_zip.value_counts('czname')"
   ]
  },
  {
   "cell_type": "code",
   "execution_count": null,
   "metadata": {},
   "outputs": [],
   "source": [
    "county_zip.value_counts('cityname')"
   ]
  },
  {
   "cell_type": "code",
   "execution_count": null,
   "metadata": {},
   "outputs": [],
   "source": []
  },
  {
   "cell_type": "code",
   "execution_count": null,
   "metadata": {},
   "outputs": [],
   "source": []
  },
  {
   "cell_type": "code",
   "execution_count": null,
   "metadata": {},
   "outputs": [],
   "source": []
  },
  {
   "cell_type": "markdown",
   "metadata": {},
   "source": [
    "## For a zipcode in a greater economic commercial zone, assign nearest city name and its lon&lat. "
   ]
  },
  {
   "cell_type": "code",
   "execution_count": null,
   "metadata": {
    "scrolled": false
   },
   "outputs": [],
   "source": [
    "# Use cities included in the GEOID-City as the large economic city in US. Which has top 53 cities. \n",
    "# For each zipcode in county_zip file, check the czname (economic zone named by the nearest city). If czname is in the GEOID-City file, assine the nearest city. \n",
    "# I also add the nearest city's latitude and longitude from GEOID-City \n",
    "\n",
    "# Read the GeoID -City file and name it czone \n",
    "czone = pd.read_csv('Data/EconomicTracker-main/data/GeoIDs - City.csv')\n",
    "# Rename cityname from Washington to Wasington DC to match to the czname\n",
    "czone.loc[czone.cityname =='Washington', 'cityname'] = 'Washington DC'\n",
    "# Drop unnecessary columns \n",
    "czone.drop(['cityid','stateabbrev', 'statename', 'city_pop2019', 'statefips'], axis=1, inplace=True)\n",
    "# Rename columns \n",
    "czone.rename({'lat':'cz_lat', 'lon':'cz_lon', 'cityname':'nearest_city'}, axis=1, inplace=True)\n",
    "\n",
    "\n",
    "# merge czone and county_zip\n",
    "df = county_zip.merge(czone, how='left', right_on=['nearest_city'], left_on=['czname'])\n",
    "df.head()"
   ]
  },
  {
   "cell_type": "code",
   "execution_count": null,
   "metadata": {
    "scrolled": true
   },
   "outputs": [],
   "source": [
    "df.shape"
   ]
  },
  {
   "cell_type": "markdown",
   "metadata": {},
   "source": [
    "## Because my focus is the housing price movement in urban vs suburb, I drop the zip codes outside of the 52 greater economic zones. "
   ]
  },
  {
   "cell_type": "code",
   "execution_count": null,
   "metadata": {
    "scrolled": true
   },
   "outputs": [],
   "source": [
    "# Drop zipcode outside of the top 53 greater economic zones. \n",
    "df.dropna(axis=0, subset=['nearest_city'], inplace=True)\n",
    "# Drop missing zipcodes \n",
    "df.dropna(axis=0, subset=['ZIP'], inplace=True)\n",
    "\n",
    "df.drop_duplicates()\n",
    "df"
   ]
  },
  {
   "cell_type": "markdown",
   "metadata": {},
   "source": [
    "## Assign latitude and longitude for each zipcode "
   ]
  },
  {
   "cell_type": "markdown",
   "metadata": {},
   "source": [
    "Using a data from http://data.nber.org/data/zip-code-distance-database.html, I assign latitude and longitude data for each zipcode. "
   ]
  },
  {
   "cell_type": "code",
   "execution_count": null,
   "metadata": {},
   "outputs": [],
   "source": [
    "# Read latitude and longitude data from http://data.nber.org/data/zip-code-distance-database.html \n",
    "\n",
    "url = 'http://data.nber.org/distance/2016/gaz/zcta5/gaz2016zcta5centroid.csv'\n",
    "lonlat = pd.read_csv(url)\n",
    "\n",
    "# rename zcta5 (5digit zipcode) to ZIP to match with df\n",
    "lonlat.rename({'zcta5':'ZIP'}, axis=1, inplace=True)\n",
    "\n",
    "lonlat.drop_duplicates()\n",
    "lonlat.info()"
   ]
  },
  {
   "cell_type": "code",
   "execution_count": null,
   "metadata": {},
   "outputs": [],
   "source": []
  },
  {
   "cell_type": "code",
   "execution_count": null,
   "metadata": {},
   "outputs": [],
   "source": [
    "# merge lonlat and df \n",
    "df_lonlat = df.merge(lonlat, how='left', on='ZIP')\n",
    "\n",
    "print('The number of zip codes which longitudes and latitudes are missing:', df_lonlat.isnull().sum()[-1:])"
   ]
  },
  {
   "cell_type": "code",
   "execution_count": null,
   "metadata": {},
   "outputs": [],
   "source": [
    "df_lonlat.shape"
   ]
  },
  {
   "cell_type": "markdown",
   "metadata": {},
   "source": [
    "I use longitude and latitudes to calcuate the distance from the city center and assigne urban and suburb areas, which is a core indicator of my analysis and model. So, I drop if a zip code has no longitude/latitude information. "
   ]
  },
  {
   "cell_type": "code",
   "execution_count": null,
   "metadata": {
    "scrolled": true
   },
   "outputs": [],
   "source": [
    "# Drop zipcodes with no longitudes and latitudes\n",
    "\n",
    "df_lonlat.dropna(axis=0, subset=['intptlong'], inplace=True)\n",
    "df_lonlat.info()"
   ]
  },
  {
   "cell_type": "code",
   "execution_count": null,
   "metadata": {
    "scrolled": false
   },
   "outputs": [],
   "source": [
    "df_lonlat.nunique()"
   ]
  },
  {
   "cell_type": "markdown",
   "metadata": {},
   "source": [
    "## For each zipcode, calcuate a distance to a city center ( a location of city hall) of a nearest city.  \n",
    "I calculate the distance using the Haversine Formula using longitude and latitude information of two points. "
   ]
  },
  {
   "cell_type": "code",
   "execution_count": null,
   "metadata": {},
   "outputs": [],
   "source": [
    "# Define Haversine Function \n",
    "\n",
    "def haversine_vectorize(lon1, lat1, lon2, lat2):\n",
    "\n",
    "    lon1, lat1, lon2, lat2 = map(np.radians, [lon1, lat1, lon2, lat2])\n",
    "\n",
    "    newlon = lon2 - lon1\n",
    "    newlat = lat2 - lat1\n",
    "\n",
    "    haver_formula = np.sin(newlat/2.0)**2 + np.cos(lat1) * np.cos(lat2) * np.sin(newlon/2.0)**2\n",
    "\n",
    "    dist = 2 * np.arcsin(np.sqrt(haver_formula ))\n",
    "    km = 6367 * dist #6367 for distance in KM for miles use 3958\n",
    "    return km\n"
   ]
  },
  {
   "cell_type": "code",
   "execution_count": null,
   "metadata": {},
   "outputs": [],
   "source": [
    "# Finding the distance between a zipcode and a city center using the Haversine Formula. \n",
    "\n",
    "\n",
    "df_lonlat['distance'] = haversine_vectorize(df_lonlat['cz_lon'],df_lonlat['cz_lat'],df_lonlat['intptlong'],\n",
    "                   df_lonlat['intptlat'])"
   ]
  },
  {
   "cell_type": "code",
   "execution_count": null,
   "metadata": {},
   "outputs": [],
   "source": [
    "df_lonlat.sort_values(by='distance')"
   ]
  },
  {
   "cell_type": "code",
   "execution_count": null,
   "metadata": {},
   "outputs": [],
   "source": [
    "df_lonlat.drop_duplicates(inplace=True)"
   ]
  },
  {
   "cell_type": "code",
   "execution_count": null,
   "metadata": {},
   "outputs": [],
   "source": []
  },
  {
   "cell_type": "markdown",
   "metadata": {},
   "source": [
    "# Assigne Central Business District (cbd)\n",
    "### CBD10= 1 if 'distance' < 10km and  CBD20=1 if 'distance' < 20\n"
   ]
  },
  {
   "cell_type": "code",
   "execution_count": null,
   "metadata": {},
   "outputs": [],
   "source": [
    "# If 'distance' < 10km, CBD10=1.  \n",
    "df_lonlat['cbd10'] = df_lonlat['distance'] < 10\n",
    "df_lonlat['cbd10'] = df_lonlat.cbd10.astype('int')\n",
    "print ( df_lonlat['cbd10'].value_counts()) \n",
    "\n",
    "# If 'distance' < 20km, CBD20=1.  \n",
    "df_lonlat['cbd20'] = df_lonlat['distance'] < 20\n",
    "df_lonlat['cbd20'] = df_lonlat.cbd20.astype('int')\n",
    "print ( df_lonlat['cbd20'].value_counts()) \n",
    "\n",
    "\n",
    "df_lonlat.head()"
   ]
  },
  {
   "cell_type": "code",
   "execution_count": null,
   "metadata": {},
   "outputs": [],
   "source": [
    "set(df_lonlat[df_lonlat.cityname=='New York City']['USPS_ZIP_PREF_CITY'])"
   ]
  },
  {
   "cell_type": "markdown",
   "metadata": {},
   "source": [
    "### Create a county in a city dummy. \n",
    "If a county is in a major city, I assign county_in_city = 1. "
   ]
  },
  {
   "cell_type": "code",
   "execution_count": null,
   "metadata": {
    "scrolled": true
   },
   "outputs": [],
   "source": [
    "# Create county_in_city  dummy and drop cityid and cityname \n",
    "\n",
    "# If a county is in a major city, county_in_city =1 \n",
    "df_lonlat['county_in_city'] = df_lonlat['cityid'] > 0\n",
    "df_lonlat['county_in_city'] = df_lonlat.county_in_city.astype('int')\n",
    "df_lonlat.drop(['cityid', 'cityname'], axis=1, inplace=True)\n",
    "\n",
    "print ( df_lonlat['county_in_city'].value_counts()) \n",
    "\n",
    "df_lonlat.head()"
   ]
  },
  {
   "cell_type": "code",
   "execution_count": null,
   "metadata": {},
   "outputs": [],
   "source": [
    "df_lonlat.info()"
   ]
  },
  {
   "cell_type": "code",
   "execution_count": null,
   "metadata": {},
   "outputs": [],
   "source": []
  },
  {
   "cell_type": "code",
   "execution_count": null,
   "metadata": {},
   "outputs": [],
   "source": [
    "# Clearn up df_lonlat \n",
    "\n",
    "col_drop = ['cz', 'COUNTY','USPS_ZIP_PREF_STATE','cz_lat', 'cz_lon', 'intptlat', 'intptlong' ]\n",
    "\n",
    "df_geo = df_lonlat.drop(col_drop, axis=1)\n",
    "\n",
    "df_geo.drop_duplicates(inplace=True)\n",
    "df_geo.head()\n"
   ]
  },
  {
   "cell_type": "markdown",
   "metadata": {},
   "source": [
    "## Now I have df_geo. It links county, state, zip codes, and has distance to the city center. df_geo also has a  dummy of central business district"
   ]
  },
  {
   "cell_type": "code",
   "execution_count": null,
   "metadata": {},
   "outputs": [],
   "source": [
    "df_geo.to_csv('Data/df_geo.csv', index = False)"
   ]
  },
  {
   "cell_type": "code",
   "execution_count": null,
   "metadata": {},
   "outputs": [],
   "source": [
    "df_geo.czname.unique()"
   ]
  },
  {
   "cell_type": "code",
   "execution_count": null,
   "metadata": {},
   "outputs": [],
   "source": [
    "df_geo.shape"
   ]
  },
  {
   "cell_type": "code",
   "execution_count": null,
   "metadata": {},
   "outputs": [],
   "source": []
  },
  {
   "cell_type": "code",
   "execution_count": null,
   "metadata": {},
   "outputs": [],
   "source": []
  }
 ],
 "metadata": {
  "kernelspec": {
   "display_name": "Python (learn-env)",
   "language": "python",
   "name": "learn-env"
  },
  "language_info": {
   "codemirror_mode": {
    "name": "ipython",
    "version": 3
   },
   "file_extension": ".py",
   "mimetype": "text/x-python",
   "name": "python",
   "nbconvert_exporter": "python",
   "pygments_lexer": "ipython3",
   "version": "3.8.5"
  }
 },
 "nbformat": 4,
 "nbformat_minor": 4
}
