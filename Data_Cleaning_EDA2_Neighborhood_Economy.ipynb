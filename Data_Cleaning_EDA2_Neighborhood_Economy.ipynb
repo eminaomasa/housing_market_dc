{
 "cells": [
  {
   "cell_type": "markdown",
   "metadata": {},
   "source": [
    "# Data Cleaning and EDA for Neighborhood Economy Model\n",
    "This notebook shows data cleaning process and EDA for a dataset I used in the neighborhood economy model. The main variables for the neighborhood economic forecasting model are Google mobility index from Google.com, small merchants revenue data from Economic Tracker, and COVID-19 new faily cases data. \n",
    "\n",
    "Contents:\n",
    "\n",
    "1. Cleaning Google Mobility index data. \n",
    "2. Merging 1 and COVID-19 new daily case data to make a data set to be used in google mobility analysis. \n",
    "    - Handling missing values. \n",
    "    - Descriptive Statistics \n",
    "3. Cleaning small merchants revenue data. \n",
    "5. Merging 3 and COVID-19 new daily case data to make a data set to be used in merchents revenue analysis. \n",
    "    - Converting COVID-19 daily data to weekly data \n",
    "    - Merging \n",
    "    - Handling missing values.\n",
    "    - Descriptive Statistics \n",
    "4. EDA "
   ]
  },
  {
   "cell_type": "code",
   "execution_count": 1,
   "metadata": {},
   "outputs": [],
   "source": [
    "import pandas as pd\n",
    "import matplotlib.pyplot as plt\n",
    "import numpy as np\n",
    "\n",
    "from zipfile import ZipFile\n",
    "\n",
    "import warnings\n",
    "\n",
    "from statsmodels.tsa.seasonal import seasonal_decompose"
   ]
  },
  {
   "cell_type": "markdown",
   "metadata": {},
   "source": [
    "# 1. Cleaning Google Mobility Index data."
   ]
  },
  {
   "cell_type": "markdown",
   "metadata": {},
   "source": [
    "Google release the mobility data on daily bases since the beginning of the COVID19 Google pandemic. The data approximates time spent away from home from cellphone location data by Google users. Data is indexed based on the 2019 mobility. Among dreakdown (Time Away From Home, Retail and Restaurants, Transit, Parks, Grocery, Workplace), I use Retail and Restaurants and Grocery as my variable to measure economic activity in neighborhood. \n",
    "\n",
    "Data can be downloaded from the Google Community Report. But for this project, I donwloaded from Economic Tracker web together with other economic data.  https://tracktherecovery.org/"
   ]
  },
  {
   "cell_type": "markdown",
   "metadata": {},
   "source": [
    "In below, I read google mobility dataset, merge with Geo IDs dataset, and select counties in Washington DC metro area. \n"
   ]
  },
  {
   "cell_type": "code",
   "execution_count": 2,
   "metadata": {},
   "outputs": [
    {
     "name": "stderr",
     "output_type": "stream",
     "text": [
      "/Users/emikonaomasa/opt/anaconda3/envs/learn-env/lib/python3.8/site-packages/IPython/core/interactiveshell.py:3337: DtypeWarning: Columns (5,7,12,13,17,20) have mixed types.Specify dtype option on import or set low_memory=False.\n",
      "  if (await self.run_code(code, result,  async_=asy)):\n",
      "/Users/emikonaomasa/opt/anaconda3/envs/learn-env/lib/python3.8/site-packages/IPython/core/interactiveshell.py:3337: DtypeWarning: Columns (5) have mixed types.Specify dtype option on import or set low_memory=False.\n",
      "  if (await self.run_code(code, result,  async_=asy)):\n",
      "/Users/emikonaomasa/opt/anaconda3/envs/learn-env/lib/python3.8/site-packages/IPython/core/interactiveshell.py:3337: DtypeWarning: Columns (8,10,19,21) have mixed types.Specify dtype option on import or set low_memory=False.\n",
      "  if (await self.run_code(code, result,  async_=asy)):\n",
      "/Users/emikonaomasa/opt/anaconda3/envs/learn-env/lib/python3.8/site-packages/IPython/core/interactiveshell.py:3337: DtypeWarning: Columns (4,5,6,7,8,9,10,11,12,13,16,17,18,19,20,23,24,25,26,27,28,29) have mixed types.Specify dtype option on import or set low_memory=False.\n",
      "  if (await self.run_code(code, result,  async_=asy)):\n"
     ]
    }
   ],
   "source": [
    "# Read Google mobility data \n",
    "zip_file = ZipFile('EconomicTracker-main.zip')\n",
    "dfs = {text_file.filename: pd.read_csv(zip_file.open(text_file.filename))\n",
    "       for text_file in zip_file.infolist()\n",
    "       if text_file.filename.endswith('.csv')}\n",
    "\n",
    "google = dfs['EconomicTracker-main/data/Google Mobility - County - Daily.csv']"
   ]
  },
  {
   "cell_type": "code",
   "execution_count": 3,
   "metadata": {},
   "outputs": [
    {
     "name": "stdout",
     "output_type": "stream",
     "text": [
      "<class 'pandas.core.frame.DataFrame'>\n",
      "RangeIndex: 1751132 entries, 0 to 1751131\n",
      "Data columns (total 11 columns):\n",
      " #   Column                     Dtype \n",
      "---  ------                     ----- \n",
      " 0   year                       int64 \n",
      " 1   month                      int64 \n",
      " 2   day                        int64 \n",
      " 3   countyfips                 int64 \n",
      " 4   gps_retail_and_recreation  object\n",
      " 5   gps_grocery_and_pharmacy   object\n",
      " 6   gps_parks                  object\n",
      " 7   gps_transit_stations       object\n",
      " 8   gps_workplaces             object\n",
      " 9   gps_residential            object\n",
      " 10  gps_away_from_home         object\n",
      "dtypes: int64(4), object(7)\n",
      "memory usage: 147.0+ MB\n"
     ]
    }
   ],
   "source": [
    "google.info()"
   ]
  },
  {
   "cell_type": "markdown",
   "metadata": {},
   "source": [
    "Google mobility data has countyfips (county ID). I used this to merge with my GeoIDs data set and screen only washington DC area counties. "
   ]
  },
  {
   "cell_type": "code",
   "execution_count": 4,
   "metadata": {},
   "outputs": [
    {
     "name": "stderr",
     "output_type": "stream",
     "text": [
      "<ipython-input-4-435d3d7930a3>:12: SettingWithCopyWarning: \n",
      "A value is trying to be set on a copy of a slice from a DataFrame\n",
      "\n",
      "See the caveats in the documentation: https://pandas.pydata.org/pandas-docs/stable/user_guide/indexing.html#returning-a-view-versus-a-copy\n",
      "  googleDC.drop_duplicates(inplace=True)\n"
     ]
    },
    {
     "data": {
      "text/html": [
       "<div>\n",
       "<style scoped>\n",
       "    .dataframe tbody tr th:only-of-type {\n",
       "        vertical-align: middle;\n",
       "    }\n",
       "\n",
       "    .dataframe tbody tr th {\n",
       "        vertical-align: top;\n",
       "    }\n",
       "\n",
       "    .dataframe thead th {\n",
       "        text-align: right;\n",
       "    }\n",
       "</style>\n",
       "<table border=\"1\" class=\"dataframe\">\n",
       "  <thead>\n",
       "    <tr style=\"text-align: right;\">\n",
       "      <th></th>\n",
       "      <th>year</th>\n",
       "      <th>month</th>\n",
       "      <th>day</th>\n",
       "      <th>countyfips</th>\n",
       "      <th>gps_retail_and_recreation</th>\n",
       "      <th>gps_grocery_and_pharmacy</th>\n",
       "      <th>gps_parks</th>\n",
       "      <th>gps_transit_stations</th>\n",
       "      <th>gps_workplaces</th>\n",
       "      <th>gps_residential</th>\n",
       "      <th>gps_away_from_home</th>\n",
       "      <th>countyname</th>\n",
       "      <th>czname</th>\n",
       "      <th>statename</th>\n",
       "    </tr>\n",
       "  </thead>\n",
       "  <tbody>\n",
       "    <tr>\n",
       "      <th>2044</th>\n",
       "      <td>2020</td>\n",
       "      <td>2</td>\n",
       "      <td>24</td>\n",
       "      <td>11001</td>\n",
       "      <td>-.0114</td>\n",
       "      <td>-.0329</td>\n",
       "      <td>.14</td>\n",
       "      <td>.00571</td>\n",
       "      <td>-.0143</td>\n",
       "      <td>.00714</td>\n",
       "      <td>-.00492</td>\n",
       "      <td>District Of Columbia</td>\n",
       "      <td>Washington DC</td>\n",
       "      <td>District Of Columbia</td>\n",
       "    </tr>\n",
       "    <tr>\n",
       "      <th>4470</th>\n",
       "      <td>2020</td>\n",
       "      <td>2</td>\n",
       "      <td>24</td>\n",
       "      <td>24009</td>\n",
       "      <td>.04</td>\n",
       "      <td>-.0243</td>\n",
       "      <td>.</td>\n",
       "      <td>.</td>\n",
       "      <td>.0214</td>\n",
       "      <td>-.00286</td>\n",
       "      <td>.0049</td>\n",
       "      <td>Calvert</td>\n",
       "      <td>Washington DC</td>\n",
       "      <td>Maryland</td>\n",
       "    </tr>\n",
       "    <tr>\n",
       "      <th>4495</th>\n",
       "      <td>2020</td>\n",
       "      <td>2</td>\n",
       "      <td>24</td>\n",
       "      <td>24017</td>\n",
       "      <td>.0214</td>\n",
       "      <td>.0214</td>\n",
       "      <td>.</td>\n",
       "      <td>.0807</td>\n",
       "      <td>.0143</td>\n",
       "      <td>-.00286</td>\n",
       "      <td>.00653</td>\n",
       "      <td>Charles</td>\n",
       "      <td>Washington DC</td>\n",
       "      <td>Maryland</td>\n",
       "    </tr>\n",
       "    <tr>\n",
       "      <th>4517</th>\n",
       "      <td>2020</td>\n",
       "      <td>2</td>\n",
       "      <td>24</td>\n",
       "      <td>24021</td>\n",
       "      <td>.0143</td>\n",
       "      <td>.0143</td>\n",
       "      <td>.24</td>\n",
       "      <td>.01</td>\n",
       "      <td>.0271</td>\n",
       "      <td>-.00571</td>\n",
       "      <td>.00952</td>\n",
       "      <td>Frederick</td>\n",
       "      <td>Washington DC</td>\n",
       "      <td>Maryland</td>\n",
       "    </tr>\n",
       "    <tr>\n",
       "      <th>4587</th>\n",
       "      <td>2020</td>\n",
       "      <td>2</td>\n",
       "      <td>24</td>\n",
       "      <td>24031</td>\n",
       "      <td>.00286</td>\n",
       "      <td>-.0329</td>\n",
       "      <td>.236</td>\n",
       "      <td>.00571</td>\n",
       "      <td>.0286</td>\n",
       "      <td>-.00143</td>\n",
       "      <td>.0025</td>\n",
       "      <td>Montgomery</td>\n",
       "      <td>Washington DC</td>\n",
       "      <td>Maryland</td>\n",
       "    </tr>\n",
       "  </tbody>\n",
       "</table>\n",
       "</div>"
      ],
      "text/plain": [
       "      year  month  day  countyfips gps_retail_and_recreation  \\\n",
       "2044  2020      2   24       11001                    -.0114   \n",
       "4470  2020      2   24       24009                       .04   \n",
       "4495  2020      2   24       24017                     .0214   \n",
       "4517  2020      2   24       24021                     .0143   \n",
       "4587  2020      2   24       24031                    .00286   \n",
       "\n",
       "     gps_grocery_and_pharmacy gps_parks gps_transit_stations gps_workplaces  \\\n",
       "2044                   -.0329       .14               .00571         -.0143   \n",
       "4470                   -.0243         .                    .          .0214   \n",
       "4495                    .0214         .                .0807          .0143   \n",
       "4517                    .0143       .24                  .01          .0271   \n",
       "4587                   -.0329      .236               .00571          .0286   \n",
       "\n",
       "     gps_residential gps_away_from_home            countyname         czname  \\\n",
       "2044          .00714            -.00492  District Of Columbia  Washington DC   \n",
       "4470         -.00286              .0049               Calvert  Washington DC   \n",
       "4495         -.00286             .00653               Charles  Washington DC   \n",
       "4517         -.00571             .00952             Frederick  Washington DC   \n",
       "4587         -.00143              .0025            Montgomery  Washington DC   \n",
       "\n",
       "                 statename  \n",
       "2044  District Of Columbia  \n",
       "4470              Maryland  \n",
       "4495              Maryland  \n",
       "4517              Maryland  \n",
       "4587              Maryland  "
      ]
     },
     "execution_count": 4,
     "metadata": {},
     "output_type": "execute_result"
    }
   ],
   "source": [
    "# read geoID data\n",
    "geo = pd.read_csv('Data/df_geo.csv')\n",
    "\n",
    "# keep county and czname (metropolitan area name) \n",
    "geo_df = geo.loc[:, ['countyfips', 'countyname', 'czname', 'statename']]\n",
    "\n",
    "# Merge wmply data and geoID data \n",
    "google_1 = google.merge(geo_df, on = 'countyfips', how='left')\n",
    "\n",
    "# Keep counties belong to washington DC metro area \n",
    "googleDC = google_1[google_1.czname=='Washington DC']\n",
    "googleDC.drop_duplicates(inplace=True)\n",
    "\n",
    "googleDC.head()"
   ]
  },
  {
   "cell_type": "markdown",
   "metadata": {},
   "source": [
    "The purpose of this neighborhood economy model is to detect an economic activity across counties, so I use an average of 'retail and recreation' and grocery as my main time series data. To calcuate the average, first, I change the format to float, and then, calcuate the mean of retail and grocery. \n"
   ]
  },
  {
   "cell_type": "code",
   "execution_count": 5,
   "metadata": {},
   "outputs": [
    {
     "name": "stderr",
     "output_type": "stream",
     "text": [
      "<ipython-input-5-bb7b8b3516ab>:2: SettingWithCopyWarning: \n",
      "A value is trying to be set on a copy of a slice from a DataFrame.\n",
      "Try using .loc[row_indexer,col_indexer] = value instead\n",
      "\n",
      "See the caveats in the documentation: https://pandas.pydata.org/pandas-docs/stable/user_guide/indexing.html#returning-a-view-versus-a-copy\n",
      "  googleDC['retail'] = googleDC.gps_retail_and_recreation.str.replace('.', '')\n",
      "<ipython-input-5-bb7b8b3516ab>:3: SettingWithCopyWarning: \n",
      "A value is trying to be set on a copy of a slice from a DataFrame.\n",
      "Try using .loc[row_indexer,col_indexer] = value instead\n",
      "\n",
      "See the caveats in the documentation: https://pandas.pydata.org/pandas-docs/stable/user_guide/indexing.html#returning-a-view-versus-a-copy\n",
      "  googleDC['grocery'] = googleDC.gps_grocery_and_pharmacy.str.replace('.', '')\n",
      "<ipython-input-5-bb7b8b3516ab>:6: SettingWithCopyWarning: \n",
      "A value is trying to be set on a copy of a slice from a DataFrame.\n",
      "Try using .loc[row_indexer,col_indexer] = value instead\n",
      "\n",
      "See the caveats in the documentation: https://pandas.pydata.org/pandas-docs/stable/user_guide/indexing.html#returning-a-view-versus-a-copy\n",
      "  googleDC['retail'] = pd.to_numeric(googleDC.retail,errors = 'coerce')\n",
      "<ipython-input-5-bb7b8b3516ab>:7: SettingWithCopyWarning: \n",
      "A value is trying to be set on a copy of a slice from a DataFrame.\n",
      "Try using .loc[row_indexer,col_indexer] = value instead\n",
      "\n",
      "See the caveats in the documentation: https://pandas.pydata.org/pandas-docs/stable/user_guide/indexing.html#returning-a-view-versus-a-copy\n",
      "  googleDC['grocery'] = pd.to_numeric(googleDC.grocery,errors = 'coerce')\n",
      "<ipython-input-5-bb7b8b3516ab>:10: SettingWithCopyWarning: \n",
      "A value is trying to be set on a copy of a slice from a DataFrame.\n",
      "Try using .loc[row_indexer,col_indexer] = value instead\n",
      "\n",
      "See the caveats in the documentation: https://pandas.pydata.org/pandas-docs/stable/user_guide/indexing.html#returning-a-view-versus-a-copy\n",
      "  googleDC['commercial'] = googleDC[['retail', 'grocery']].mean(axis=1)\n"
     ]
    }
   ],
   "source": [
    "# replace '.' to missing \n",
    "googleDC['retail'] = googleDC.gps_retail_and_recreation.str.replace('.', '')\n",
    "googleDC['grocery'] = googleDC.gps_grocery_and_pharmacy.str.replace('.', '')\n",
    "\n",
    "# change the data type of google mobility data from object to float. \n",
    "googleDC['retail'] = pd.to_numeric(googleDC.retail,errors = 'coerce')\n",
    "googleDC['grocery'] = pd.to_numeric(googleDC.grocery,errors = 'coerce')\n",
    "\n",
    "# Create a new column which averages retail and recreation and grocery. \n",
    "googleDC['commercial'] = googleDC[['retail', 'grocery']].mean(axis=1)"
   ]
  },
  {
   "cell_type": "markdown",
   "metadata": {},
   "source": [
    "Next, I create 'date' columns from year, month, day, and change it to a date time frame.  I also drop unnecessary columns. 'commercial' is my main target time series data. "
   ]
  },
  {
   "cell_type": "code",
   "execution_count": 6,
   "metadata": {},
   "outputs": [
    {
     "name": "stdout",
     "output_type": "stream",
     "text": [
      "<class 'pandas.core.frame.DataFrame'>\n",
      "Int64Index: 11482 entries, 2044 to 7305299\n",
      "Data columns (total 3 columns):\n",
      " #   Column      Non-Null Count  Dtype  \n",
      "---  ------      --------------  -----  \n",
      " 0   countyfips  11482 non-null  int64  \n",
      " 1   commercial  10973 non-null  float64\n",
      " 2   date        11482 non-null  object \n",
      "dtypes: float64(1), int64(1), object(1)\n",
      "memory usage: 358.8+ KB\n"
     ]
    },
    {
     "name": "stderr",
     "output_type": "stream",
     "text": [
      "<ipython-input-6-369bacd79dc7>:3: SettingWithCopyWarning: \n",
      "A value is trying to be set on a copy of a slice from a DataFrame.\n",
      "Try using .loc[row_indexer,col_indexer] = value instead\n",
      "\n",
      "See the caveats in the documentation: https://pandas.pydata.org/pandas-docs/stable/user_guide/indexing.html#returning-a-view-versus-a-copy\n",
      "  googleDC['date'] = googleDC[cols].apply(lambda x: '-'.join(x.values.astype(str)), axis=\"columns\")\n",
      "/Users/emikonaomasa/opt/anaconda3/envs/learn-env/lib/python3.8/site-packages/pandas/core/frame.py:4163: SettingWithCopyWarning: \n",
      "A value is trying to be set on a copy of a slice from a DataFrame\n",
      "\n",
      "See the caveats in the documentation: https://pandas.pydata.org/pandas-docs/stable/user_guide/indexing.html#returning-a-view-versus-a-copy\n",
      "  return super().drop(\n",
      "<ipython-input-6-369bacd79dc7>:15: SettingWithCopyWarning: \n",
      "A value is trying to be set on a copy of a slice from a DataFrame\n",
      "\n",
      "See the caveats in the documentation: https://pandas.pydata.org/pandas-docs/stable/user_guide/indexing.html#returning-a-view-versus-a-copy\n",
      "  googleDC.drop_duplicates(inplace=True)\n"
     ]
    }
   ],
   "source": [
    "# create 'date' columns from year, month, and day_endofweek \n",
    "cols=[\"year\",\"month\",\"day\"]\n",
    "googleDC['date'] = googleDC[cols].apply(lambda x: '-'.join(x.values.astype(str)), axis=\"columns\")\n",
    "\n",
    "# set date into datetime frame\n",
    "#googleDC.date = pd.to_datetime(googleDC.date)\n",
    "\n",
    "# drop unnecessary columns \n",
    "drop_cols=['year', 'month', 'day', 'gps_retail_and_recreation',\n",
    "       'gps_grocery_and_pharmacy', 'gps_parks', 'gps_transit_stations', \n",
    "       'gps_workplaces', 'gps_residential', 'gps_away_from_home', 'retail', 'grocery', 'czname', 'statename', 'countyname' ]\n",
    "googleDC.drop(drop_cols, axis=1, inplace=True)\n",
    "\n",
    "# drop duplicates\n",
    "googleDC.drop_duplicates(inplace=True)\n",
    "\n",
    "googleDC.info()"
   ]
  },
  {
   "cell_type": "markdown",
   "metadata": {},
   "source": [
    "In below, I report the mean of commercial data by county IDs.  "
   ]
  },
  {
   "cell_type": "code",
   "execution_count": 7,
   "metadata": {},
   "outputs": [
    {
     "data": {
      "text/html": [
       "<div>\n",
       "<style scoped>\n",
       "    .dataframe tbody tr th:only-of-type {\n",
       "        vertical-align: middle;\n",
       "    }\n",
       "\n",
       "    .dataframe tbody tr th {\n",
       "        vertical-align: top;\n",
       "    }\n",
       "\n",
       "    .dataframe thead th {\n",
       "        text-align: right;\n",
       "    }\n",
       "</style>\n",
       "<table border=\"1\" class=\"dataframe\">\n",
       "  <thead>\n",
       "    <tr style=\"text-align: right;\">\n",
       "      <th></th>\n",
       "      <th>commercial</th>\n",
       "    </tr>\n",
       "    <tr>\n",
       "      <th>countyfips</th>\n",
       "      <th></th>\n",
       "    </tr>\n",
       "  </thead>\n",
       "  <tbody>\n",
       "    <tr>\n",
       "      <th>11001</th>\n",
       "      <td>-279.553237</td>\n",
       "    </tr>\n",
       "    <tr>\n",
       "      <th>24009</th>\n",
       "      <td>-103.010511</td>\n",
       "    </tr>\n",
       "    <tr>\n",
       "      <th>24017</th>\n",
       "      <td>-293.741007</td>\n",
       "    </tr>\n",
       "    <tr>\n",
       "      <th>24021</th>\n",
       "      <td>-129.422302</td>\n",
       "    </tr>\n",
       "    <tr>\n",
       "      <th>24031</th>\n",
       "      <td>-144.581295</td>\n",
       "    </tr>\n",
       "    <tr>\n",
       "      <th>24033</th>\n",
       "      <td>-340.058273</td>\n",
       "    </tr>\n",
       "    <tr>\n",
       "      <th>24037</th>\n",
       "      <td>-121.588489</td>\n",
       "    </tr>\n",
       "    <tr>\n",
       "      <th>51013</th>\n",
       "      <td>-309.799281</td>\n",
       "    </tr>\n",
       "    <tr>\n",
       "      <th>51059</th>\n",
       "      <td>-195.178417</td>\n",
       "    </tr>\n",
       "    <tr>\n",
       "      <th>51061</th>\n",
       "      <td>26.963855</td>\n",
       "    </tr>\n",
       "    <tr>\n",
       "      <th>51107</th>\n",
       "      <td>-213.343885</td>\n",
       "    </tr>\n",
       "    <tr>\n",
       "      <th>51153</th>\n",
       "      <td>-203.103597</td>\n",
       "    </tr>\n",
       "    <tr>\n",
       "      <th>51157</th>\n",
       "      <td>NaN</td>\n",
       "    </tr>\n",
       "    <tr>\n",
       "      <th>51187</th>\n",
       "      <td>139.177711</td>\n",
       "    </tr>\n",
       "    <tr>\n",
       "      <th>51510</th>\n",
       "      <td>-260.463309</td>\n",
       "    </tr>\n",
       "    <tr>\n",
       "      <th>51610</th>\n",
       "      <td>-256.756024</td>\n",
       "    </tr>\n",
       "    <tr>\n",
       "      <th>51683</th>\n",
       "      <td>-70.206716</td>\n",
       "    </tr>\n",
       "  </tbody>\n",
       "</table>\n",
       "</div>"
      ],
      "text/plain": [
       "            commercial\n",
       "countyfips            \n",
       "11001      -279.553237\n",
       "24009      -103.010511\n",
       "24017      -293.741007\n",
       "24021      -129.422302\n",
       "24031      -144.581295\n",
       "24033      -340.058273\n",
       "24037      -121.588489\n",
       "51013      -309.799281\n",
       "51059      -195.178417\n",
       "51061        26.963855\n",
       "51107      -213.343885\n",
       "51153      -203.103597\n",
       "51157              NaN\n",
       "51187       139.177711\n",
       "51510      -260.463309\n",
       "51610      -256.756024\n",
       "51683       -70.206716"
      ]
     },
     "execution_count": 7,
     "metadata": {},
     "output_type": "execute_result"
    }
   ],
   "source": [
    "googleDC.groupby('countyfips').mean()"
   ]
  },
  {
   "cell_type": "markdown",
   "metadata": {},
   "source": [
    "I noticed that county ID'51157' has no values, so I dropped it. "
   ]
  },
  {
   "cell_type": "code",
   "execution_count": 8,
   "metadata": {},
   "outputs": [],
   "source": [
    "# Drop county'51157' because all are NaN\n",
    "googleDC = googleDC[googleDC.countyfips!=51157]"
   ]
  },
  {
   "cell_type": "markdown",
   "metadata": {},
   "source": [
    "# 2. Merging 1 and COVID-19 new daily case data to make a data set to be used in google mobility analysis.\n",
    "\n",
    "### Cleaning COVID-19 new case data"
   ]
  },
  {
   "cell_type": "markdown",
   "metadata": {},
   "source": [
    "SARIMAX model for google mobility analysis uses COVID-19 new cases as exogenous variable. People's mobility was clearly affected by the spread of COVID19 cases in 2020-2021. The data was downloaded from Economic Tracker web (https://tracktherecovery.org/) with other variabels. The data is originally from New York Times COVID tracker dataset. \n",
    "\n",
    "In below, I read data, create date column using year, month, day. And then, I merge this covid data to GeoIDs data to find out which counties belong to Washington DC metro area.  "
   ]
  },
  {
   "cell_type": "code",
   "execution_count": 9,
   "metadata": {},
   "outputs": [
    {
     "name": "stderr",
     "output_type": "stream",
     "text": [
      "/Users/emikonaomasa/opt/anaconda3/envs/learn-env/lib/python3.8/site-packages/IPython/core/interactiveshell.py:3145: DtypeWarning: Columns (12,13,19) have mixed types.Specify dtype option on import or set low_memory=False.\n",
      "  has_raised = await self.run_ast_nodes(code_ast.body, cell_name,\n",
      "<ipython-input-9-96186412f265>:23: SettingWithCopyWarning: \n",
      "A value is trying to be set on a copy of a slice from a DataFrame\n",
      "\n",
      "See the caveats in the documentation: https://pandas.pydata.org/pandas-docs/stable/user_guide/indexing.html#returning-a-view-versus-a-copy\n",
      "  covidDC.drop_duplicates(inplace=True)\n"
     ]
    },
    {
     "data": {
      "text/html": [
       "<div>\n",
       "<style scoped>\n",
       "    .dataframe tbody tr th:only-of-type {\n",
       "        vertical-align: middle;\n",
       "    }\n",
       "\n",
       "    .dataframe tbody tr th {\n",
       "        vertical-align: top;\n",
       "    }\n",
       "\n",
       "    .dataframe thead th {\n",
       "        text-align: right;\n",
       "    }\n",
       "</style>\n",
       "<table border=\"1\" class=\"dataframe\">\n",
       "  <thead>\n",
       "    <tr style=\"text-align: right;\">\n",
       "      <th></th>\n",
       "      <th>year</th>\n",
       "      <th>month</th>\n",
       "      <th>day</th>\n",
       "      <th>countyfips</th>\n",
       "      <th>new_case_count</th>\n",
       "      <th>date</th>\n",
       "      <th>countyname</th>\n",
       "      <th>czname</th>\n",
       "      <th>statename</th>\n",
       "    </tr>\n",
       "  </thead>\n",
       "  <tbody>\n",
       "    <tr>\n",
       "      <th>2100</th>\n",
       "      <td>2020</td>\n",
       "      <td>1</td>\n",
       "      <td>21</td>\n",
       "      <td>11001</td>\n",
       "      <td>.</td>\n",
       "      <td>2020-1-21</td>\n",
       "      <td>District Of Columbia</td>\n",
       "      <td>Washington DC</td>\n",
       "      <td>District Of Columbia</td>\n",
       "    </tr>\n",
       "    <tr>\n",
       "      <th>4640</th>\n",
       "      <td>2020</td>\n",
       "      <td>1</td>\n",
       "      <td>21</td>\n",
       "      <td>24009</td>\n",
       "      <td>.</td>\n",
       "      <td>2020-1-21</td>\n",
       "      <td>Calvert</td>\n",
       "      <td>Washington DC</td>\n",
       "      <td>Maryland</td>\n",
       "    </tr>\n",
       "    <tr>\n",
       "      <th>4665</th>\n",
       "      <td>2020</td>\n",
       "      <td>1</td>\n",
       "      <td>21</td>\n",
       "      <td>24017</td>\n",
       "      <td>.</td>\n",
       "      <td>2020-1-21</td>\n",
       "      <td>Charles</td>\n",
       "      <td>Washington DC</td>\n",
       "      <td>Maryland</td>\n",
       "    </tr>\n",
       "    <tr>\n",
       "      <th>4687</th>\n",
       "      <td>2020</td>\n",
       "      <td>1</td>\n",
       "      <td>21</td>\n",
       "      <td>24021</td>\n",
       "      <td>.</td>\n",
       "      <td>2020-1-21</td>\n",
       "      <td>Frederick</td>\n",
       "      <td>Washington DC</td>\n",
       "      <td>Maryland</td>\n",
       "    </tr>\n",
       "    <tr>\n",
       "      <th>4757</th>\n",
       "      <td>2020</td>\n",
       "      <td>1</td>\n",
       "      <td>21</td>\n",
       "      <td>24031</td>\n",
       "      <td>.</td>\n",
       "      <td>2020-1-21</td>\n",
       "      <td>Montgomery</td>\n",
       "      <td>Washington DC</td>\n",
       "      <td>Maryland</td>\n",
       "    </tr>\n",
       "  </tbody>\n",
       "</table>\n",
       "</div>"
      ],
      "text/plain": [
       "      year  month  day  countyfips new_case_count       date  \\\n",
       "2100  2020      1   21       11001              .  2020-1-21   \n",
       "4640  2020      1   21       24009              .  2020-1-21   \n",
       "4665  2020      1   21       24017              .  2020-1-21   \n",
       "4687  2020      1   21       24021              .  2020-1-21   \n",
       "4757  2020      1   21       24031              .  2020-1-21   \n",
       "\n",
       "                countyname         czname             statename  \n",
       "2100  District Of Columbia  Washington DC  District Of Columbia  \n",
       "4640               Calvert  Washington DC              Maryland  \n",
       "4665               Charles  Washington DC              Maryland  \n",
       "4687             Frederick  Washington DC              Maryland  \n",
       "4757            Montgomery  Washington DC              Maryland  "
      ]
     },
     "execution_count": 9,
     "metadata": {},
     "output_type": "execute_result"
    }
   ],
   "source": [
    "# Read COVID-19 new daily case data \n",
    "covid = pd.read_csv('Data/COVID - County - Daily.csv.gz', compression='gzip', header=0, sep=',', error_bad_lines=False)\n",
    "\n",
    "# keep only daily new cases data  \n",
    "covid = covid[['year', 'month', 'day', 'countyfips', 'new_case_count']]\n",
    "\n",
    "# create date columns from year, month, day \n",
    "cols=[\"year\",\"month\",\"day\"]\n",
    "covid['date'] = covid[cols].apply(lambda x: '-'.join(x.values.astype(str)), axis=\"columns\")\n",
    "\n",
    "\n",
    "# read geoID data\n",
    "geo = pd.read_csv('Data/df_geo.csv')\n",
    "\n",
    "# keep county and czname (metropolitan name) \n",
    "geo_df = geo.loc[:, ['countyfips', 'countyname', 'czname', 'statename']]\n",
    "\n",
    "# Merge covid data and geoID data \n",
    "covid1 = covid.merge(geo_df, on = 'countyfips', how='left')\n",
    "\n",
    "# Keep counties belong to washington DC metro area \n",
    "covidDC = covid1[covid1.czname=='Washington DC']\n",
    "covidDC.drop_duplicates(inplace=True)\n",
    "\n",
    "covidDC.head()\n"
   ]
  },
  {
   "cell_type": "markdown",
   "metadata": {},
   "source": [
    "'new_case_count' has lots of '.' until 2020 March as well as at the last date of this data set. When I look at each zip code, new_cas_count starts appearing from second week of March. So, it is reasonable to replace '.' to 0 until March 2020. For the missing value in the last date ('2022-1-10'), I drop the row from this dataset. "
   ]
  },
  {
   "cell_type": "code",
   "execution_count": 10,
   "metadata": {},
   "outputs": [
    {
     "name": "stderr",
     "output_type": "stream",
     "text": [
      "/Users/emikonaomasa/opt/anaconda3/envs/learn-env/lib/python3.8/site-packages/pandas/core/frame.py:4163: SettingWithCopyWarning: \n",
      "A value is trying to be set on a copy of a slice from a DataFrame\n",
      "\n",
      "See the caveats in the documentation: https://pandas.pydata.org/pandas-docs/stable/user_guide/indexing.html#returning-a-view-versus-a-copy\n",
      "  return super().drop(\n",
      "/Users/emikonaomasa/opt/anaconda3/envs/learn-env/lib/python3.8/site-packages/pandas/core/indexing.py:1765: SettingWithCopyWarning: \n",
      "A value is trying to be set on a copy of a slice from a DataFrame.\n",
      "Try using .loc[row_indexer,col_indexer] = value instead\n",
      "\n",
      "See the caveats in the documentation: https://pandas.pydata.org/pandas-docs/stable/user_guide/indexing.html#returning-a-view-versus-a-copy\n",
      "  isetter(loc, value)\n",
      "/Users/emikonaomasa/opt/anaconda3/envs/learn-env/lib/python3.8/site-packages/pandas/core/generic.py:5168: SettingWithCopyWarning: \n",
      "A value is trying to be set on a copy of a slice from a DataFrame.\n",
      "Try using .loc[row_indexer,col_indexer] = value instead\n",
      "\n",
      "See the caveats in the documentation: https://pandas.pydata.org/pandas-docs/stable/user_guide/indexing.html#returning-a-view-versus-a-copy\n",
      "  self[name] = value\n"
     ]
    }
   ],
   "source": [
    "# Drop last date\n",
    "index_drop = covidDC[covidDC.date == '2022-1-10'].index\n",
    "covidDC.drop(index_drop, inplace = True)\n",
    "\n",
    "# Replace . to 0 in new_case_count \n",
    "covidDC.loc[covidDC.new_case_count =='.', 'new_case_count']=0\n",
    "\n",
    "# change new_case_count from object to integer\n",
    "covidDC.new_case_count = covidDC.new_case_count.astype('int')"
   ]
  },
  {
   "cell_type": "markdown",
   "metadata": {},
   "source": [
    "### Merge COVID data and Google mobility data, and handling missing values\n",
    "I merge google mobility and covid19 data and name df. "
   ]
  },
  {
   "cell_type": "code",
   "execution_count": 11,
   "metadata": {},
   "outputs": [
    {
     "name": "stdout",
     "output_type": "stream",
     "text": [
      "<class 'pandas.core.frame.DataFrame'>\n",
      "Int64Index: 11080 entries, 0 to 11079\n",
      "Data columns (total 10 columns):\n",
      " #   Column          Non-Null Count  Dtype  \n",
      "---  ------          --------------  -----  \n",
      " 0   countyfips      11080 non-null  int64  \n",
      " 1   commercial      10973 non-null  float64\n",
      " 2   date            11080 non-null  object \n",
      " 3   year            10936 non-null  float64\n",
      " 4   month           10936 non-null  float64\n",
      " 5   day             10936 non-null  float64\n",
      " 6   new_case_count  10936 non-null  float64\n",
      " 7   countyname      10936 non-null  object \n",
      " 8   czname          10936 non-null  object \n",
      " 9   statename       10936 non-null  object \n",
      "dtypes: float64(5), int64(1), object(4)\n",
      "memory usage: 952.2+ KB\n"
     ]
    }
   ],
   "source": [
    "df = googleDC.merge(covidDC, on=['countyfips', 'date'], how='left')\n",
    "df.info()"
   ]
  },
  {
   "cell_type": "markdown",
   "metadata": {},
   "source": [
    "Set date and countyfips(county ID) as index. "
   ]
  },
  {
   "cell_type": "code",
   "execution_count": 12,
   "metadata": {},
   "outputs": [],
   "source": [
    "# set date into datetime frame\n",
    "df.date = pd.to_datetime(df.date)\n",
    "\n",
    "\n",
    "# set date and countyfips as index \n",
    "df = df.set_index(['countyfips', 'date']).sort_index() \n"
   ]
  },
  {
   "cell_type": "markdown",
   "metadata": {},
   "source": [
    "Because google data is available up to Jan 18, 2022 and COVID-19 is up to Jan 9th, 2022, I drop data after Jan 10th.  \n",
    "For 'commercial', which is the averaged indicator of google mobility in retail and grocery stores, I use interpolation to fill the misisng values. "
   ]
  },
  {
   "cell_type": "code",
   "execution_count": 13,
   "metadata": {
    "scrolled": true
   },
   "outputs": [
    {
     "data": {
      "text/plain": [
       "commercial        0\n",
       "year              0\n",
       "month             0\n",
       "day               0\n",
       "new_case_count    0\n",
       "countyname        0\n",
       "czname            0\n",
       "statename         0\n",
       "dtype: int64"
      ]
     },
     "execution_count": 13,
     "metadata": {},
     "output_type": "execute_result"
    }
   ],
   "source": [
    "# drop data after 2022-01-10 \n",
    "df = df[df.index.get_level_values(1)<'2022-01-10']\n",
    "\n",
    "# using interpolate() to fill the missing values \n",
    "\n",
    "df['commercial'] = df['commercial'].interpolate()\n",
    "\n",
    "df.isnull().sum()"
   ]
  },
  {
   "cell_type": "markdown",
   "metadata": {},
   "source": [
    "### Report Descriptive Statistics for Google Mobility Index"
   ]
  },
  {
   "cell_type": "code",
   "execution_count": 14,
   "metadata": {},
   "outputs": [
    {
     "name": "stdout",
     "output_type": "stream",
     "text": [
      "This data frame covers from 2020-02-24 00:00:00 to 2022-01-09 00:00:00, in total 686 days. \n"
     ]
    }
   ],
   "source": [
    "# Coverage time periods \n",
    "firstday = df.index.get_level_values(1)[0]\n",
    "lastday = df.index.get_level_values(1)[-1]\n",
    "ndays =  df.index.get_level_values(1).nunique()\n",
    "\n",
    "print(f'This data frame covers from {firstday} to {lastday}, in total {ndays} days. ')"
   ]
  },
  {
   "cell_type": "code",
   "execution_count": 15,
   "metadata": {},
   "outputs": [
    {
     "name": "stdout",
     "output_type": "stream",
     "text": [
      "The data includes 16 counties in Washington DC metro area. \n"
     ]
    }
   ],
   "source": [
    "# Number of counties \n",
    "ncounty =  df.index.get_level_values(0).nunique()\n",
    "print(f'The data includes {ncounty} counties in Washington DC metro area. ')\n"
   ]
  },
  {
   "cell_type": "code",
   "execution_count": 16,
   "metadata": {},
   "outputs": [
    {
     "data": {
      "text/html": [
       "<div>\n",
       "<style scoped>\n",
       "    .dataframe tbody tr th:only-of-type {\n",
       "        vertical-align: middle;\n",
       "    }\n",
       "\n",
       "    .dataframe tbody tr th {\n",
       "        vertical-align: top;\n",
       "    }\n",
       "\n",
       "    .dataframe thead th {\n",
       "        text-align: right;\n",
       "    }\n",
       "</style>\n",
       "<table border=\"1\" class=\"dataframe\">\n",
       "  <thead>\n",
       "    <tr style=\"text-align: right;\">\n",
       "      <th></th>\n",
       "      <th>commercial</th>\n",
       "      <th>year</th>\n",
       "      <th>month</th>\n",
       "      <th>day</th>\n",
       "      <th>new_case_count</th>\n",
       "    </tr>\n",
       "  </thead>\n",
       "  <tbody>\n",
       "    <tr>\n",
       "      <th>count</th>\n",
       "      <td>10936.000000</td>\n",
       "      <td>10936.000000</td>\n",
       "      <td>10936.000000</td>\n",
       "      <td>10936.000000</td>\n",
       "      <td>10936.000000</td>\n",
       "    </tr>\n",
       "    <tr>\n",
       "      <th>mean</th>\n",
       "      <td>-173.823427</td>\n",
       "      <td>2020.560351</td>\n",
       "      <td>6.842813</td>\n",
       "      <td>15.704462</td>\n",
       "      <td>70.468910</td>\n",
       "    </tr>\n",
       "    <tr>\n",
       "      <th>std</th>\n",
       "      <td>268.918419</td>\n",
       "      <td>0.522224</td>\n",
       "      <td>3.307787</td>\n",
       "      <td>8.862620</td>\n",
       "      <td>192.849618</td>\n",
       "    </tr>\n",
       "    <tr>\n",
       "      <th>min</th>\n",
       "      <td>-986.000000</td>\n",
       "      <td>2020.000000</td>\n",
       "      <td>1.000000</td>\n",
       "      <td>1.000000</td>\n",
       "      <td>0.000000</td>\n",
       "    </tr>\n",
       "    <tr>\n",
       "      <th>25%</th>\n",
       "      <td>-341.000000</td>\n",
       "      <td>2020.000000</td>\n",
       "      <td>4.000000</td>\n",
       "      <td>8.000000</td>\n",
       "      <td>6.000000</td>\n",
       "    </tr>\n",
       "    <tr>\n",
       "      <th>50%</th>\n",
       "      <td>-197.000000</td>\n",
       "      <td>2021.000000</td>\n",
       "      <td>7.000000</td>\n",
       "      <td>16.000000</td>\n",
       "      <td>22.000000</td>\n",
       "    </tr>\n",
       "    <tr>\n",
       "      <th>75%</th>\n",
       "      <td>-56.500000</td>\n",
       "      <td>2021.000000</td>\n",
       "      <td>10.000000</td>\n",
       "      <td>23.000000</td>\n",
       "      <td>73.000000</td>\n",
       "    </tr>\n",
       "    <tr>\n",
       "      <th>max</th>\n",
       "      <td>964.500000</td>\n",
       "      <td>2022.000000</td>\n",
       "      <td>12.000000</td>\n",
       "      <td>31.000000</td>\n",
       "      <td>4256.000000</td>\n",
       "    </tr>\n",
       "  </tbody>\n",
       "</table>\n",
       "</div>"
      ],
      "text/plain": [
       "         commercial          year         month           day  new_case_count\n",
       "count  10936.000000  10936.000000  10936.000000  10936.000000    10936.000000\n",
       "mean    -173.823427   2020.560351      6.842813     15.704462       70.468910\n",
       "std      268.918419      0.522224      3.307787      8.862620      192.849618\n",
       "min     -986.000000   2020.000000      1.000000      1.000000        0.000000\n",
       "25%     -341.000000   2020.000000      4.000000      8.000000        6.000000\n",
       "50%     -197.000000   2021.000000      7.000000     16.000000       22.000000\n",
       "75%      -56.500000   2021.000000     10.000000     23.000000       73.000000\n",
       "max      964.500000   2022.000000     12.000000     31.000000     4256.000000"
      ]
     },
     "execution_count": 16,
     "metadata": {},
     "output_type": "execute_result"
    }
   ],
   "source": [
    "df.describe()"
   ]
  },
  {
   "attachments": {},
   "cell_type": "markdown",
   "metadata": {},
   "source": [
    "Commercial time-series data (google mobility index in the commercial area) are mostly negative. This makes sense because this indicator measures a change in people's mobility from the previous year. During the pandemic, people's mobility was dropped in commercial places. Positive numbers were from reopening time in 2021.\n",
    "Daily new cases vary from zero to 4256."
   ]
  },
  {
   "cell_type": "markdown",
   "metadata": {},
   "source": [
    "# 3. Cleaning small merchants revenue data.\n"
   ]
  },
  {
   "attachments": {},
   "cell_type": "markdown",
   "metadata": {},
   "source": [
    "Small merchants revenue data was downloaded from Economic Tracker web (https://tracktherecovery.org/) with other variabels. The data is originally from Womply. The data is originally from Womply. This data reports number of small merchants openings and revenue changes for each county every week from January 2020. Since my focus is DC metro area, I drop counties outside of the DC metro area. I use GeoIDs data to filter counties in the DC metro region."
   ]
  },
  {
   "cell_type": "code",
   "execution_count": 17,
   "metadata": {},
   "outputs": [
    {
     "name": "stderr",
     "output_type": "stream",
     "text": [
      "/Users/emikonaomasa/opt/anaconda3/envs/learn-env/lib/python3.8/site-packages/IPython/core/interactiveshell.py:3337: DtypeWarning: Columns (5,7,12,13,17,20) have mixed types.Specify dtype option on import or set low_memory=False.\n",
      "  if (await self.run_code(code, result,  async_=asy)):\n",
      "/Users/emikonaomasa/opt/anaconda3/envs/learn-env/lib/python3.8/site-packages/IPython/core/interactiveshell.py:3337: DtypeWarning: Columns (5) have mixed types.Specify dtype option on import or set low_memory=False.\n",
      "  if (await self.run_code(code, result,  async_=asy)):\n",
      "/Users/emikonaomasa/opt/anaconda3/envs/learn-env/lib/python3.8/site-packages/IPython/core/interactiveshell.py:3337: DtypeWarning: Columns (8,10,19,21) have mixed types.Specify dtype option on import or set low_memory=False.\n",
      "  if (await self.run_code(code, result,  async_=asy)):\n",
      "/Users/emikonaomasa/opt/anaconda3/envs/learn-env/lib/python3.8/site-packages/IPython/core/interactiveshell.py:3337: DtypeWarning: Columns (4,5,6,7,8,9,10,11,12,13,16,17,18,19,20,23,24,25,26,27,28,29) have mixed types.Specify dtype option on import or set low_memory=False.\n",
      "  if (await self.run_code(code, result,  async_=asy)):\n"
     ]
    },
    {
     "data": {
      "text/html": [
       "<div>\n",
       "<style scoped>\n",
       "    .dataframe tbody tr th:only-of-type {\n",
       "        vertical-align: middle;\n",
       "    }\n",
       "\n",
       "    .dataframe tbody tr th {\n",
       "        vertical-align: top;\n",
       "    }\n",
       "\n",
       "    .dataframe thead th {\n",
       "        text-align: right;\n",
       "    }\n",
       "</style>\n",
       "<table border=\"1\" class=\"dataframe\">\n",
       "  <thead>\n",
       "    <tr style=\"text-align: right;\">\n",
       "      <th></th>\n",
       "      <th>year</th>\n",
       "      <th>month</th>\n",
       "      <th>day_endofweek</th>\n",
       "      <th>countyfips</th>\n",
       "      <th>revenue_all</th>\n",
       "      <th>merchants_all</th>\n",
       "    </tr>\n",
       "  </thead>\n",
       "  <tbody>\n",
       "    <tr>\n",
       "      <th>102404</th>\n",
       "      <td>2021</td>\n",
       "      <td>1</td>\n",
       "      <td>30</td>\n",
       "      <td>55133</td>\n",
       "      <td>-0.0585</td>\n",
       "      <td>-0.159</td>\n",
       "    </tr>\n",
       "    <tr>\n",
       "      <th>102405</th>\n",
       "      <td>2021</td>\n",
       "      <td>1</td>\n",
       "      <td>30</td>\n",
       "      <td>55135</td>\n",
       "      <td>-0.0327</td>\n",
       "      <td>-0.186</td>\n",
       "    </tr>\n",
       "    <tr>\n",
       "      <th>102406</th>\n",
       "      <td>2021</td>\n",
       "      <td>1</td>\n",
       "      <td>30</td>\n",
       "      <td>55137</td>\n",
       "      <td>-0.2860</td>\n",
       "      <td>-0.283</td>\n",
       "    </tr>\n",
       "    <tr>\n",
       "      <th>102407</th>\n",
       "      <td>2021</td>\n",
       "      <td>1</td>\n",
       "      <td>30</td>\n",
       "      <td>55139</td>\n",
       "      <td>-0.3310</td>\n",
       "      <td>-0.090</td>\n",
       "    </tr>\n",
       "    <tr>\n",
       "      <th>102408</th>\n",
       "      <td>2021</td>\n",
       "      <td>1</td>\n",
       "      <td>30</td>\n",
       "      <td>55141</td>\n",
       "      <td>-0.1690</td>\n",
       "      <td>-0.265</td>\n",
       "    </tr>\n",
       "  </tbody>\n",
       "</table>\n",
       "</div>"
      ],
      "text/plain": [
       "        year  month  day_endofweek  countyfips  revenue_all  merchants_all\n",
       "102404  2021      1             30       55133      -0.0585         -0.159\n",
       "102405  2021      1             30       55135      -0.0327         -0.186\n",
       "102406  2021      1             30       55137      -0.2860         -0.283\n",
       "102407  2021      1             30       55139      -0.3310         -0.090\n",
       "102408  2021      1             30       55141      -0.1690         -0.265"
      ]
     },
     "execution_count": 17,
     "metadata": {},
     "output_type": "execute_result"
    }
   ],
   "source": [
    "zip_file = ZipFile('EconomicTracker-main.zip')\n",
    "dfs = {text_file.filename: pd.read_csv(zip_file.open(text_file.filename))\n",
    "       for text_file in zip_file.infolist()\n",
    "       if text_file.filename.endswith('.csv')}\n",
    "\n",
    "Womply = dfs['EconomicTracker-main/data/Womply - County - Weekly.csv']\n",
    "Womply.tail()"
   ]
  },
  {
   "cell_type": "markdown",
   "metadata": {},
   "source": [
    "Read GeoIDs data and merge it to small merchants data. "
   ]
  },
  {
   "cell_type": "code",
   "execution_count": 18,
   "metadata": {},
   "outputs": [
    {
     "name": "stderr",
     "output_type": "stream",
     "text": [
      "<ipython-input-18-4433fa2af114>:12: SettingWithCopyWarning: \n",
      "A value is trying to be set on a copy of a slice from a DataFrame\n",
      "\n",
      "See the caveats in the documentation: https://pandas.pydata.org/pandas-docs/stable/user_guide/indexing.html#returning-a-view-versus-a-copy\n",
      "  WomDC.drop_duplicates(inplace=True)\n"
     ]
    },
    {
     "data": {
      "text/html": [
       "<div>\n",
       "<style scoped>\n",
       "    .dataframe tbody tr th:only-of-type {\n",
       "        vertical-align: middle;\n",
       "    }\n",
       "\n",
       "    .dataframe tbody tr th {\n",
       "        vertical-align: top;\n",
       "    }\n",
       "\n",
       "    .dataframe thead th {\n",
       "        text-align: right;\n",
       "    }\n",
       "</style>\n",
       "<table border=\"1\" class=\"dataframe\">\n",
       "  <thead>\n",
       "    <tr style=\"text-align: right;\">\n",
       "      <th></th>\n",
       "      <th>year</th>\n",
       "      <th>month</th>\n",
       "      <th>day_endofweek</th>\n",
       "      <th>countyfips</th>\n",
       "      <th>revenue_all</th>\n",
       "      <th>merchants_all</th>\n",
       "      <th>countyname</th>\n",
       "      <th>czname</th>\n",
       "      <th>statename</th>\n",
       "    </tr>\n",
       "  </thead>\n",
       "  <tbody>\n",
       "    <tr>\n",
       "      <th>1966</th>\n",
       "      <td>2020</td>\n",
       "      <td>1</td>\n",
       "      <td>11</td>\n",
       "      <td>11001</td>\n",
       "      <td>0.0302</td>\n",
       "      <td>-0.0357</td>\n",
       "      <td>District Of Columbia</td>\n",
       "      <td>Washington DC</td>\n",
       "      <td>District Of Columbia</td>\n",
       "    </tr>\n",
       "    <tr>\n",
       "      <th>4027</th>\n",
       "      <td>2020</td>\n",
       "      <td>1</td>\n",
       "      <td>11</td>\n",
       "      <td>24009</td>\n",
       "      <td>0.0136</td>\n",
       "      <td>0.0023</td>\n",
       "      <td>Calvert</td>\n",
       "      <td>Washington DC</td>\n",
       "      <td>Maryland</td>\n",
       "    </tr>\n",
       "    <tr>\n",
       "      <th>4052</th>\n",
       "      <td>2020</td>\n",
       "      <td>1</td>\n",
       "      <td>11</td>\n",
       "      <td>24017</td>\n",
       "      <td>0.0810</td>\n",
       "      <td>-0.0238</td>\n",
       "      <td>Charles</td>\n",
       "      <td>Washington DC</td>\n",
       "      <td>Maryland</td>\n",
       "    </tr>\n",
       "    <tr>\n",
       "      <th>4074</th>\n",
       "      <td>2020</td>\n",
       "      <td>1</td>\n",
       "      <td>11</td>\n",
       "      <td>24021</td>\n",
       "      <td>-0.0298</td>\n",
       "      <td>-0.0241</td>\n",
       "      <td>Frederick</td>\n",
       "      <td>Washington DC</td>\n",
       "      <td>Maryland</td>\n",
       "    </tr>\n",
       "    <tr>\n",
       "      <th>4144</th>\n",
       "      <td>2020</td>\n",
       "      <td>1</td>\n",
       "      <td>11</td>\n",
       "      <td>24031</td>\n",
       "      <td>-0.0524</td>\n",
       "      <td>-0.0419</td>\n",
       "      <td>Montgomery</td>\n",
       "      <td>Washington DC</td>\n",
       "      <td>Maryland</td>\n",
       "    </tr>\n",
       "  </tbody>\n",
       "</table>\n",
       "</div>"
      ],
      "text/plain": [
       "      year  month  day_endofweek  countyfips  revenue_all  merchants_all  \\\n",
       "1966  2020      1             11       11001       0.0302        -0.0357   \n",
       "4027  2020      1             11       24009       0.0136         0.0023   \n",
       "4052  2020      1             11       24017       0.0810        -0.0238   \n",
       "4074  2020      1             11       24021      -0.0298        -0.0241   \n",
       "4144  2020      1             11       24031      -0.0524        -0.0419   \n",
       "\n",
       "                countyname         czname             statename  \n",
       "1966  District Of Columbia  Washington DC  District Of Columbia  \n",
       "4027               Calvert  Washington DC              Maryland  \n",
       "4052               Charles  Washington DC              Maryland  \n",
       "4074             Frederick  Washington DC              Maryland  \n",
       "4144            Montgomery  Washington DC              Maryland  "
      ]
     },
     "execution_count": 18,
     "metadata": {},
     "output_type": "execute_result"
    }
   ],
   "source": [
    "# read geoID data\n",
    "geo = pd.read_csv('Data/df_geo.csv')\n",
    "\n",
    "# keep county and czname (metropolitan name) \n",
    "geo_df = geo.loc[:, ['countyfips', 'countyname', 'czname', 'statename']]\n",
    "\n",
    "# Merge wmply data and geoID data \n",
    "Womply1 = Womply.merge(geo_df, on = 'countyfips', how='left')\n",
    "\n",
    "# Keep counties belong to washington DC metro area \n",
    "WomDC = Womply1[Womply1.czname=='Washington DC']\n",
    "WomDC.drop_duplicates(inplace=True)\n",
    "\n",
    "WomDC.head()"
   ]
  },
  {
   "cell_type": "markdown",
   "metadata": {},
   "source": [
    "Next, I create 'date' columns and set date into datetime frame. "
   ]
  },
  {
   "cell_type": "code",
   "execution_count": 19,
   "metadata": {},
   "outputs": [
    {
     "name": "stdout",
     "output_type": "stream",
     "text": [
      "<class 'pandas.core.frame.DataFrame'>\n",
      "Int64Index: 864 entries, 1966 to 521048\n",
      "Data columns (total 10 columns):\n",
      " #   Column         Non-Null Count  Dtype         \n",
      "---  ------         --------------  -----         \n",
      " 0   year           864 non-null    int64         \n",
      " 1   month          864 non-null    int64         \n",
      " 2   day_endofweek  864 non-null    int64         \n",
      " 3   countyfips     864 non-null    int64         \n",
      " 4   revenue_all    864 non-null    float64       \n",
      " 5   merchants_all  864 non-null    float64       \n",
      " 6   countyname     864 non-null    object        \n",
      " 7   czname         864 non-null    object        \n",
      " 8   statename      864 non-null    object        \n",
      " 9   date           864 non-null    datetime64[ns]\n",
      "dtypes: datetime64[ns](1), float64(2), int64(4), object(3)\n",
      "memory usage: 74.2+ KB\n"
     ]
    },
    {
     "name": "stderr",
     "output_type": "stream",
     "text": [
      "<ipython-input-19-dedc2582db8b>:3: SettingWithCopyWarning: \n",
      "A value is trying to be set on a copy of a slice from a DataFrame.\n",
      "Try using .loc[row_indexer,col_indexer] = value instead\n",
      "\n",
      "See the caveats in the documentation: https://pandas.pydata.org/pandas-docs/stable/user_guide/indexing.html#returning-a-view-versus-a-copy\n",
      "  WomDC['date'] = WomDC[cols].apply(lambda x: '-'.join(x.values.astype(str)), axis=\"columns\")\n",
      "/Users/emikonaomasa/opt/anaconda3/envs/learn-env/lib/python3.8/site-packages/pandas/core/generic.py:5168: SettingWithCopyWarning: \n",
      "A value is trying to be set on a copy of a slice from a DataFrame.\n",
      "Try using .loc[row_indexer,col_indexer] = value instead\n",
      "\n",
      "See the caveats in the documentation: https://pandas.pydata.org/pandas-docs/stable/user_guide/indexing.html#returning-a-view-versus-a-copy\n",
      "  self[name] = value\n",
      "<ipython-input-19-dedc2582db8b>:10: SettingWithCopyWarning: \n",
      "A value is trying to be set on a copy of a slice from a DataFrame\n",
      "\n",
      "See the caveats in the documentation: https://pandas.pydata.org/pandas-docs/stable/user_guide/indexing.html#returning-a-view-versus-a-copy\n",
      "  WomDC.drop_duplicates(inplace=True)\n"
     ]
    }
   ],
   "source": [
    "# create 'date' columns from year, month, and day_endofweek \n",
    "cols=[\"year\",\"month\",\"day_endofweek\"]\n",
    "WomDC['date'] = WomDC[cols].apply(lambda x: '-'.join(x.values.astype(str)), axis=\"columns\")\n",
    "\n",
    "# set date into datetime frame\n",
    "WomDC.date = pd.to_datetime(WomDC.date)\n",
    "\n",
    "\n",
    "# drop duplicates\n",
    "WomDC.drop_duplicates(inplace=True)\n",
    "\n",
    "WomDC.info()"
   ]
  },
  {
   "cell_type": "markdown",
   "metadata": {},
   "source": [
    "### Read COVID data to merge with womply"
   ]
  },
  {
   "cell_type": "markdown",
   "metadata": {},
   "source": [
    "I want daily new covid cases for developing a model, so I keep only 'new_case_count'. And I create date column using year, month, day. And then, I merge this covid data to geoID data to find out which counties belong to washington DC metro area.  "
   ]
  },
  {
   "cell_type": "code",
   "execution_count": 20,
   "metadata": {},
   "outputs": [
    {
     "name": "stderr",
     "output_type": "stream",
     "text": [
      "/Users/emikonaomasa/opt/anaconda3/envs/learn-env/lib/python3.8/site-packages/IPython/core/interactiveshell.py:3145: DtypeWarning: Columns (12,13,19) have mixed types.Specify dtype option on import or set low_memory=False.\n",
      "  has_raised = await self.run_ast_nodes(code_ast.body, cell_name,\n",
      "<ipython-input-20-2c351b4d66d4>:23: SettingWithCopyWarning: \n",
      "A value is trying to be set on a copy of a slice from a DataFrame\n",
      "\n",
      "See the caveats in the documentation: https://pandas.pydata.org/pandas-docs/stable/user_guide/indexing.html#returning-a-view-versus-a-copy\n",
      "  covidDC.drop_duplicates(inplace=True)\n"
     ]
    },
    {
     "data": {
      "text/html": [
       "<div>\n",
       "<style scoped>\n",
       "    .dataframe tbody tr th:only-of-type {\n",
       "        vertical-align: middle;\n",
       "    }\n",
       "\n",
       "    .dataframe tbody tr th {\n",
       "        vertical-align: top;\n",
       "    }\n",
       "\n",
       "    .dataframe thead th {\n",
       "        text-align: right;\n",
       "    }\n",
       "</style>\n",
       "<table border=\"1\" class=\"dataframe\">\n",
       "  <thead>\n",
       "    <tr style=\"text-align: right;\">\n",
       "      <th></th>\n",
       "      <th>year</th>\n",
       "      <th>month</th>\n",
       "      <th>day</th>\n",
       "      <th>countyfips</th>\n",
       "      <th>new_case_count</th>\n",
       "      <th>date</th>\n",
       "      <th>countyname</th>\n",
       "      <th>czname</th>\n",
       "      <th>statename</th>\n",
       "    </tr>\n",
       "  </thead>\n",
       "  <tbody>\n",
       "    <tr>\n",
       "      <th>2100</th>\n",
       "      <td>2020</td>\n",
       "      <td>1</td>\n",
       "      <td>21</td>\n",
       "      <td>11001</td>\n",
       "      <td>.</td>\n",
       "      <td>2020-1-21</td>\n",
       "      <td>District Of Columbia</td>\n",
       "      <td>Washington DC</td>\n",
       "      <td>District Of Columbia</td>\n",
       "    </tr>\n",
       "    <tr>\n",
       "      <th>4640</th>\n",
       "      <td>2020</td>\n",
       "      <td>1</td>\n",
       "      <td>21</td>\n",
       "      <td>24009</td>\n",
       "      <td>.</td>\n",
       "      <td>2020-1-21</td>\n",
       "      <td>Calvert</td>\n",
       "      <td>Washington DC</td>\n",
       "      <td>Maryland</td>\n",
       "    </tr>\n",
       "    <tr>\n",
       "      <th>4665</th>\n",
       "      <td>2020</td>\n",
       "      <td>1</td>\n",
       "      <td>21</td>\n",
       "      <td>24017</td>\n",
       "      <td>.</td>\n",
       "      <td>2020-1-21</td>\n",
       "      <td>Charles</td>\n",
       "      <td>Washington DC</td>\n",
       "      <td>Maryland</td>\n",
       "    </tr>\n",
       "    <tr>\n",
       "      <th>4687</th>\n",
       "      <td>2020</td>\n",
       "      <td>1</td>\n",
       "      <td>21</td>\n",
       "      <td>24021</td>\n",
       "      <td>.</td>\n",
       "      <td>2020-1-21</td>\n",
       "      <td>Frederick</td>\n",
       "      <td>Washington DC</td>\n",
       "      <td>Maryland</td>\n",
       "    </tr>\n",
       "    <tr>\n",
       "      <th>4757</th>\n",
       "      <td>2020</td>\n",
       "      <td>1</td>\n",
       "      <td>21</td>\n",
       "      <td>24031</td>\n",
       "      <td>.</td>\n",
       "      <td>2020-1-21</td>\n",
       "      <td>Montgomery</td>\n",
       "      <td>Washington DC</td>\n",
       "      <td>Maryland</td>\n",
       "    </tr>\n",
       "  </tbody>\n",
       "</table>\n",
       "</div>"
      ],
      "text/plain": [
       "      year  month  day  countyfips new_case_count       date  \\\n",
       "2100  2020      1   21       11001              .  2020-1-21   \n",
       "4640  2020      1   21       24009              .  2020-1-21   \n",
       "4665  2020      1   21       24017              .  2020-1-21   \n",
       "4687  2020      1   21       24021              .  2020-1-21   \n",
       "4757  2020      1   21       24031              .  2020-1-21   \n",
       "\n",
       "                countyname         czname             statename  \n",
       "2100  District Of Columbia  Washington DC  District Of Columbia  \n",
       "4640               Calvert  Washington DC              Maryland  \n",
       "4665               Charles  Washington DC              Maryland  \n",
       "4687             Frederick  Washington DC              Maryland  \n",
       "4757            Montgomery  Washington DC              Maryland  "
      ]
     },
     "execution_count": 20,
     "metadata": {},
     "output_type": "execute_result"
    }
   ],
   "source": [
    "# Read data \n",
    "covid = pd.read_csv('Data/COVID - County - Daily.csv.gz', compression='gzip', header=0, sep=',', error_bad_lines=False)\n",
    "\n",
    "# keep only daily new cases data  \n",
    "covid = covid[['year', 'month', 'day', 'countyfips', 'new_case_count']]\n",
    "\n",
    "# create date columns from year, month, day \n",
    "cols=[\"year\",\"month\",\"day\"]\n",
    "covid['date'] = covid[cols].apply(lambda x: '-'.join(x.values.astype(str)), axis=\"columns\")\n",
    "\n",
    "\n",
    "# read geoID data\n",
    "geo = pd.read_csv('Data/df_geo.csv')\n",
    "\n",
    "# keep county and czname (metropolitan name) \n",
    "geo_df = geo.loc[:, ['countyfips', 'countyname', 'czname', 'statename']]\n",
    "\n",
    "# Merge covid data and geoID data \n",
    "covid1 = covid.merge(geo_df, on = 'countyfips', how='left')\n",
    "\n",
    "# Keep counties belong to washington DC metro area \n",
    "covidDC = covid1[covid1.czname=='Washington DC']\n",
    "covidDC.drop_duplicates(inplace=True)\n",
    "\n",
    "covidDC.head()\n"
   ]
  },
  {
   "cell_type": "markdown",
   "metadata": {},
   "source": [
    "'new_case_count' has lots of '.' until 2020 March as well as at the last date of this data set. If I take a look each zip code, new_cas_count starts appearing from second week of March. So, it is safe to replace '.' to 0 until March 2020. For the missing value in thelast date ('2022-1-10'), I drop the row from this dataset. "
   ]
  },
  {
   "cell_type": "code",
   "execution_count": 21,
   "metadata": {},
   "outputs": [
    {
     "name": "stderr",
     "output_type": "stream",
     "text": [
      "/Users/emikonaomasa/opt/anaconda3/envs/learn-env/lib/python3.8/site-packages/pandas/core/frame.py:4163: SettingWithCopyWarning: \n",
      "A value is trying to be set on a copy of a slice from a DataFrame\n",
      "\n",
      "See the caveats in the documentation: https://pandas.pydata.org/pandas-docs/stable/user_guide/indexing.html#returning-a-view-versus-a-copy\n",
      "  return super().drop(\n",
      "/Users/emikonaomasa/opt/anaconda3/envs/learn-env/lib/python3.8/site-packages/pandas/core/indexing.py:1765: SettingWithCopyWarning: \n",
      "A value is trying to be set on a copy of a slice from a DataFrame.\n",
      "Try using .loc[row_indexer,col_indexer] = value instead\n",
      "\n",
      "See the caveats in the documentation: https://pandas.pydata.org/pandas-docs/stable/user_guide/indexing.html#returning-a-view-versus-a-copy\n",
      "  isetter(loc, value)\n",
      "/Users/emikonaomasa/opt/anaconda3/envs/learn-env/lib/python3.8/site-packages/pandas/core/generic.py:5168: SettingWithCopyWarning: \n",
      "A value is trying to be set on a copy of a slice from a DataFrame.\n",
      "Try using .loc[row_indexer,col_indexer] = value instead\n",
      "\n",
      "See the caveats in the documentation: https://pandas.pydata.org/pandas-docs/stable/user_guide/indexing.html#returning-a-view-versus-a-copy\n",
      "  self[name] = value\n"
     ]
    }
   ],
   "source": [
    "# Drop last date\n",
    "index_drop = covidDC[covidDC.date == '2022-1-10'].index\n",
    "covidDC.drop(index_drop, inplace = True)\n",
    "\n",
    "# Replace . to 0 in new_case_count \n",
    "covidDC.loc[covidDC.new_case_count =='.', 'new_case_count']=0\n",
    "\n",
    "# change new_case_count from object to integer\n",
    "covidDC.new_case_count = covidDC.new_case_count.astype('int')"
   ]
  },
  {
   "cell_type": "markdown",
   "metadata": {},
   "source": [
    "# 4. Merging 3 and COVID-19 new daily case data to make a data set to be used in merchents revenue analysis.\n",
    "\n",
    "\n",
    "### Converting COVID-19 daily data to weekly data"
   ]
  },
  {
   "attachments": {},
   "cell_type": "markdown",
   "metadata": {},
   "source": [
    "To merge with small merchants data, I need to convert the daily new case data to weekly data. Below, I change the data to time series and then convert it to weekly data by using resampling method."
   ]
  },
  {
   "cell_type": "code",
   "execution_count": 22,
   "metadata": {
    "scrolled": true
   },
   "outputs": [],
   "source": [
    "# set date into datetime frame\n",
    "covidDC.date = pd.to_datetime(covidDC.date)\n",
    "\n",
    "\n",
    "# set date and countyfips as index \n",
    "covidDC = covidDC.set_index(['countyfips', 'date']).sort_index() \n",
    "\n"
   ]
  },
  {
   "cell_type": "markdown",
   "metadata": {},
   "source": [
    "Next, I resample the time series to weekly data. To resample all counties with a for loop, I store each downsampled data frame in a list and then change it back to the data frame. "
   ]
  },
  {
   "cell_type": "code",
   "execution_count": 23,
   "metadata": {},
   "outputs": [
    {
     "data": {
      "text/html": [
       "<div>\n",
       "<style scoped>\n",
       "    .dataframe tbody tr th:only-of-type {\n",
       "        vertical-align: middle;\n",
       "    }\n",
       "\n",
       "    .dataframe tbody tr th {\n",
       "        vertical-align: top;\n",
       "    }\n",
       "\n",
       "    .dataframe thead th {\n",
       "        text-align: right;\n",
       "    }\n",
       "</style>\n",
       "<table border=\"1\" class=\"dataframe\">\n",
       "  <thead>\n",
       "    <tr style=\"text-align: right;\">\n",
       "      <th></th>\n",
       "      <th>date</th>\n",
       "      <th>new_case_count</th>\n",
       "      <th>countyfips</th>\n",
       "    </tr>\n",
       "  </thead>\n",
       "  <tbody>\n",
       "    <tr>\n",
       "      <th>0</th>\n",
       "      <td>2020-01-25</td>\n",
       "      <td>0.0</td>\n",
       "      <td>11001</td>\n",
       "    </tr>\n",
       "    <tr>\n",
       "      <th>1</th>\n",
       "      <td>2020-02-01</td>\n",
       "      <td>0.0</td>\n",
       "      <td>11001</td>\n",
       "    </tr>\n",
       "    <tr>\n",
       "      <th>2</th>\n",
       "      <td>2020-02-08</td>\n",
       "      <td>0.0</td>\n",
       "      <td>11001</td>\n",
       "    </tr>\n",
       "    <tr>\n",
       "      <th>3</th>\n",
       "      <td>2020-02-15</td>\n",
       "      <td>0.0</td>\n",
       "      <td>11001</td>\n",
       "    </tr>\n",
       "    <tr>\n",
       "      <th>4</th>\n",
       "      <td>2020-02-22</td>\n",
       "      <td>0.0</td>\n",
       "      <td>11001</td>\n",
       "    </tr>\n",
       "  </tbody>\n",
       "</table>\n",
       "</div>"
      ],
      "text/plain": [
       "        date  new_case_count  countyfips\n",
       "0 2020-01-25             0.0       11001\n",
       "1 2020-02-01             0.0       11001\n",
       "2 2020-02-08             0.0       11001\n",
       "3 2020-02-15             0.0       11001\n",
       "4 2020-02-22             0.0       11001"
      ]
     },
     "execution_count": 23,
     "metadata": {},
     "output_type": "execute_result"
    }
   ],
   "source": [
    "# To store the dataframe \n",
    "downsample = [] \n",
    "fips = []\n",
    "\n",
    "# Resample for all counties and store the data frame in a list  \n",
    "county = list(covidDC.index.get_level_values(0).unique())\n",
    "for x in county:\n",
    "    # To match the small merchants data, I set W-Sat as the aggregation cycle. \n",
    "    weekly = covidDC.loc[(x, ),]['new_case_count'].resample('W-SAT').mean()\n",
    "    wk = pd.DataFrame(weekly, columns=['new_case_count'])\n",
    "    downsample.append(wk)\n",
    "    fips.append(x)\n",
    "\n",
    "# Zip downsample and county IDs and save in a new list. \n",
    "downsample_df = []\n",
    "for df, county in zip(downsample, fips):\n",
    "    df['countyfips']=county\n",
    "    downsample_df.append(df)\n",
    "\n",
    "# merge all data frame in a list and save as covid_weekly\n",
    "covid_weekly = pd.concat(downsample_df)\n",
    "\n",
    "# reset index\n",
    "covid_weekly.reset_index(inplace=True)\n",
    "\n",
    "covid_weekly.head()"
   ]
  },
  {
   "cell_type": "markdown",
   "metadata": {},
   "source": [
    "Save covid weekly data for later analysis.  "
   ]
  },
  {
   "cell_type": "code",
   "execution_count": 24,
   "metadata": {},
   "outputs": [],
   "source": [
    "covid_weekly.to_csv('Data/covid_weekly.csv', index=False)"
   ]
  },
  {
   "cell_type": "markdown",
   "metadata": {},
   "source": [
    "### Merging small merchants data and weekly COVID-19 new case data\n",
    "\n",
    "Finally, I merge small merchants data and weekly covid-19 data. "
   ]
  },
  {
   "cell_type": "code",
   "execution_count": 25,
   "metadata": {},
   "outputs": [
    {
     "data": {
      "text/html": [
       "<div>\n",
       "<style scoped>\n",
       "    .dataframe tbody tr th:only-of-type {\n",
       "        vertical-align: middle;\n",
       "    }\n",
       "\n",
       "    .dataframe tbody tr th {\n",
       "        vertical-align: top;\n",
       "    }\n",
       "\n",
       "    .dataframe thead th {\n",
       "        text-align: right;\n",
       "    }\n",
       "</style>\n",
       "<table border=\"1\" class=\"dataframe\">\n",
       "  <thead>\n",
       "    <tr style=\"text-align: right;\">\n",
       "      <th></th>\n",
       "      <th>year</th>\n",
       "      <th>month</th>\n",
       "      <th>day_endofweek</th>\n",
       "      <th>countyfips</th>\n",
       "      <th>revenue_all</th>\n",
       "      <th>merchants_all</th>\n",
       "      <th>countyname</th>\n",
       "      <th>czname</th>\n",
       "      <th>statename</th>\n",
       "      <th>date</th>\n",
       "      <th>new_case_count</th>\n",
       "    </tr>\n",
       "  </thead>\n",
       "  <tbody>\n",
       "    <tr>\n",
       "      <th>0</th>\n",
       "      <td>2020</td>\n",
       "      <td>1</td>\n",
       "      <td>11</td>\n",
       "      <td>11001</td>\n",
       "      <td>0.0302</td>\n",
       "      <td>-0.0357</td>\n",
       "      <td>District Of Columbia</td>\n",
       "      <td>Washington DC</td>\n",
       "      <td>District Of Columbia</td>\n",
       "      <td>2020-01-11</td>\n",
       "      <td>NaN</td>\n",
       "    </tr>\n",
       "    <tr>\n",
       "      <th>1</th>\n",
       "      <td>2020</td>\n",
       "      <td>1</td>\n",
       "      <td>11</td>\n",
       "      <td>24009</td>\n",
       "      <td>0.0136</td>\n",
       "      <td>0.0023</td>\n",
       "      <td>Calvert</td>\n",
       "      <td>Washington DC</td>\n",
       "      <td>Maryland</td>\n",
       "      <td>2020-01-11</td>\n",
       "      <td>NaN</td>\n",
       "    </tr>\n",
       "    <tr>\n",
       "      <th>2</th>\n",
       "      <td>2020</td>\n",
       "      <td>1</td>\n",
       "      <td>11</td>\n",
       "      <td>24017</td>\n",
       "      <td>0.0810</td>\n",
       "      <td>-0.0238</td>\n",
       "      <td>Charles</td>\n",
       "      <td>Washington DC</td>\n",
       "      <td>Maryland</td>\n",
       "      <td>2020-01-11</td>\n",
       "      <td>NaN</td>\n",
       "    </tr>\n",
       "    <tr>\n",
       "      <th>3</th>\n",
       "      <td>2020</td>\n",
       "      <td>1</td>\n",
       "      <td>11</td>\n",
       "      <td>24021</td>\n",
       "      <td>-0.0298</td>\n",
       "      <td>-0.0241</td>\n",
       "      <td>Frederick</td>\n",
       "      <td>Washington DC</td>\n",
       "      <td>Maryland</td>\n",
       "      <td>2020-01-11</td>\n",
       "      <td>NaN</td>\n",
       "    </tr>\n",
       "    <tr>\n",
       "      <th>4</th>\n",
       "      <td>2020</td>\n",
       "      <td>1</td>\n",
       "      <td>11</td>\n",
       "      <td>24031</td>\n",
       "      <td>-0.0524</td>\n",
       "      <td>-0.0419</td>\n",
       "      <td>Montgomery</td>\n",
       "      <td>Washington DC</td>\n",
       "      <td>Maryland</td>\n",
       "      <td>2020-01-11</td>\n",
       "      <td>NaN</td>\n",
       "    </tr>\n",
       "  </tbody>\n",
       "</table>\n",
       "</div>"
      ],
      "text/plain": [
       "   year  month  day_endofweek  countyfips  revenue_all  merchants_all  \\\n",
       "0  2020      1             11       11001       0.0302        -0.0357   \n",
       "1  2020      1             11       24009       0.0136         0.0023   \n",
       "2  2020      1             11       24017       0.0810        -0.0238   \n",
       "3  2020      1             11       24021      -0.0298        -0.0241   \n",
       "4  2020      1             11       24031      -0.0524        -0.0419   \n",
       "\n",
       "             countyname         czname             statename       date  \\\n",
       "0  District Of Columbia  Washington DC  District Of Columbia 2020-01-11   \n",
       "1               Calvert  Washington DC              Maryland 2020-01-11   \n",
       "2               Charles  Washington DC              Maryland 2020-01-11   \n",
       "3             Frederick  Washington DC              Maryland 2020-01-11   \n",
       "4            Montgomery  Washington DC              Maryland 2020-01-11   \n",
       "\n",
       "   new_case_count  \n",
       "0             NaN  \n",
       "1             NaN  \n",
       "2             NaN  \n",
       "3             NaN  \n",
       "4             NaN  "
      ]
     },
     "execution_count": 25,
     "metadata": {},
     "output_type": "execute_result"
    }
   ],
   "source": [
    "# Merge Womply data and weekly covid case data \n",
    "df = WomDC.merge(covid_weekly, on=['countyfips', 'date'], how='left')\n",
    "df.head()"
   ]
  },
  {
   "cell_type": "markdown",
   "metadata": {},
   "source": [
    "Create 'yearmonth' data for later analysis, and drop unnecessary columns.  "
   ]
  },
  {
   "cell_type": "code",
   "execution_count": 26,
   "metadata": {},
   "outputs": [],
   "source": [
    "df['yearmonth']=df.year*100 + df.month\n",
    "# drop unnecessary columns \n",
    "cols = ['year', 'month', 'day_endofweek', 'countyname', 'czname', 'statename', ]\n",
    "df.drop(cols, axis=1, inplace=True)"
   ]
  },
  {
   "cell_type": "markdown",
   "metadata": {},
   "source": [
    "Set date and countyfips (county ID) as index, and then report missing vaues. "
   ]
  },
  {
   "cell_type": "code",
   "execution_count": 27,
   "metadata": {},
   "outputs": [
    {
     "data": {
      "text/plain": [
       "revenue_all        0\n",
       "merchants_all      0\n",
       "new_case_count    32\n",
       "yearmonth          0\n",
       "dtype: int64"
      ]
     },
     "execution_count": 27,
     "metadata": {},
     "output_type": "execute_result"
    }
   ],
   "source": [
    "# set date into datetime frame\n",
    "df.date = pd.to_datetime(df.date)\n",
    "\n",
    "\n",
    "# set date and countyfips as index \n",
    "df = df.set_index(['countyfips', 'date']).sort_index() \n",
    "\n",
    "# report missing values \n",
    "df.isnull().sum()"
   ]
  },
  {
   "attachments": {},
   "cell_type": "markdown",
   "metadata": {},
   "source": [
    "'new_case_count' has lots of missing until 2020 March. When I take a look at each county, new_cas_count starts appearing from the second week of March. So, it is safe to replace missing to 0 until March 2020."
   ]
  },
  {
   "cell_type": "code",
   "execution_count": 28,
   "metadata": {},
   "outputs": [
    {
     "data": {
      "text/plain": [
       "revenue_all       0\n",
       "merchants_all     0\n",
       "new_case_count    0\n",
       "yearmonth         0\n",
       "dtype: int64"
      ]
     },
     "execution_count": 28,
     "metadata": {},
     "output_type": "execute_result"
    }
   ],
   "source": [
    "# Replace . to 0 in new_case_count \n",
    "df['new_case_count'].fillna(0, inplace=True)\n",
    "\n",
    "df.isnull().sum()"
   ]
  },
  {
   "cell_type": "markdown",
   "metadata": {},
   "source": [
    "### Descriptive Statistics of Small Merchants Data"
   ]
  },
  {
   "cell_type": "code",
   "execution_count": 29,
   "metadata": {},
   "outputs": [
    {
     "name": "stdout",
     "output_type": "stream",
     "text": [
      "This data frame covers from 2020-01-11 00:00:00 to 2021-01-30 00:00:00, in total 54 days. \n"
     ]
    }
   ],
   "source": [
    "# Time periods \n",
    "firstday = df.index.get_level_values(1)[0]\n",
    "lastday = df.index.get_level_values(1)[-1]\n",
    "ndays =  df.index.get_level_values(1).nunique()\n",
    "\n",
    "print(f'This data frame covers from {firstday} to {lastday}, in total {ndays} days. ')"
   ]
  },
  {
   "cell_type": "code",
   "execution_count": 30,
   "metadata": {},
   "outputs": [
    {
     "name": "stdout",
     "output_type": "stream",
     "text": [
      "The data includes 16 counties in Washington DC metro area. \n"
     ]
    }
   ],
   "source": [
    "# Number of counties \n",
    "ncounty =  df.index.get_level_values(0).nunique()\n",
    "print(f'The data includes {ncounty} counties in Washington DC metro area. ')\n"
   ]
  },
  {
   "cell_type": "code",
   "execution_count": 31,
   "metadata": {},
   "outputs": [
    {
     "data": {
      "text/html": [
       "<div>\n",
       "<style scoped>\n",
       "    .dataframe tbody tr th:only-of-type {\n",
       "        vertical-align: middle;\n",
       "    }\n",
       "\n",
       "    .dataframe tbody tr th {\n",
       "        vertical-align: top;\n",
       "    }\n",
       "\n",
       "    .dataframe thead th {\n",
       "        text-align: right;\n",
       "    }\n",
       "</style>\n",
       "<table border=\"1\" class=\"dataframe\">\n",
       "  <thead>\n",
       "    <tr style=\"text-align: right;\">\n",
       "      <th></th>\n",
       "      <th>revenue_all</th>\n",
       "      <th>merchants_all</th>\n",
       "      <th>new_case_count</th>\n",
       "      <th>yearmonth</th>\n",
       "    </tr>\n",
       "  </thead>\n",
       "  <tbody>\n",
       "    <tr>\n",
       "      <th>count</th>\n",
       "      <td>864.000000</td>\n",
       "      <td>864.000000</td>\n",
       "      <td>864.000000</td>\n",
       "      <td>864.000000</td>\n",
       "    </tr>\n",
       "    <tr>\n",
       "      <th>mean</th>\n",
       "      <td>-0.305464</td>\n",
       "      <td>-0.250530</td>\n",
       "      <td>49.363426</td>\n",
       "      <td>202011.833333</td>\n",
       "    </tr>\n",
       "    <tr>\n",
       "      <th>std</th>\n",
       "      <td>0.192140</td>\n",
       "      <td>0.144116</td>\n",
       "      <td>87.525534</td>\n",
       "      <td>21.884983</td>\n",
       "    </tr>\n",
       "    <tr>\n",
       "      <th>min</th>\n",
       "      <td>-0.799000</td>\n",
       "      <td>-0.555000</td>\n",
       "      <td>0.000000</td>\n",
       "      <td>202001.000000</td>\n",
       "    </tr>\n",
       "    <tr>\n",
       "      <th>25%</th>\n",
       "      <td>-0.441000</td>\n",
       "      <td>-0.347000</td>\n",
       "      <td>1.250000</td>\n",
       "      <td>202004.000000</td>\n",
       "    </tr>\n",
       "    <tr>\n",
       "      <th>50%</th>\n",
       "      <td>-0.310000</td>\n",
       "      <td>-0.281000</td>\n",
       "      <td>14.142857</td>\n",
       "      <td>202007.000000</td>\n",
       "    </tr>\n",
       "    <tr>\n",
       "      <th>75%</th>\n",
       "      <td>-0.191000</td>\n",
       "      <td>-0.165750</td>\n",
       "      <td>56.607143</td>\n",
       "      <td>202010.000000</td>\n",
       "    </tr>\n",
       "    <tr>\n",
       "      <th>max</th>\n",
       "      <td>0.376000</td>\n",
       "      <td>0.141000</td>\n",
       "      <td>630.285714</td>\n",
       "      <td>202101.000000</td>\n",
       "    </tr>\n",
       "  </tbody>\n",
       "</table>\n",
       "</div>"
      ],
      "text/plain": [
       "       revenue_all  merchants_all  new_case_count      yearmonth\n",
       "count   864.000000     864.000000      864.000000     864.000000\n",
       "mean     -0.305464      -0.250530       49.363426  202011.833333\n",
       "std       0.192140       0.144116       87.525534      21.884983\n",
       "min      -0.799000      -0.555000        0.000000  202001.000000\n",
       "25%      -0.441000      -0.347000        1.250000  202004.000000\n",
       "50%      -0.310000      -0.281000       14.142857  202007.000000\n",
       "75%      -0.191000      -0.165750       56.607143  202010.000000\n",
       "max       0.376000       0.141000      630.285714  202101.000000"
      ]
     },
     "execution_count": 31,
     "metadata": {},
     "output_type": "execute_result"
    }
   ],
   "source": [
    "df.describe()"
   ]
  },
  {
   "attachments": {},
   "cell_type": "markdown",
   "metadata": {},
   "source": [
    "Revenue changes (revenue_all) varies from -0.79 to 0.37. The majority of the data points are negative as most small stores are fragile against economic shocks during the pandemic. "
   ]
  },
  {
   "cell_type": "code",
   "execution_count": 34,
   "metadata": {},
   "outputs": [
    {
     "data": {
      "text/html": [
       "<div>\n",
       "<style scoped>\n",
       "    .dataframe tbody tr th:only-of-type {\n",
       "        vertical-align: middle;\n",
       "    }\n",
       "\n",
       "    .dataframe tbody tr th {\n",
       "        vertical-align: top;\n",
       "    }\n",
       "\n",
       "    .dataframe thead th {\n",
       "        text-align: right;\n",
       "    }\n",
       "</style>\n",
       "<table border=\"1\" class=\"dataframe\">\n",
       "  <thead>\n",
       "    <tr style=\"text-align: right;\">\n",
       "      <th></th>\n",
       "      <th>revenue_all</th>\n",
       "      <th>merchants_all</th>\n",
       "      <th>new_case_count</th>\n",
       "    </tr>\n",
       "    <tr>\n",
       "      <th>yearmonth</th>\n",
       "      <th></th>\n",
       "      <th></th>\n",
       "      <th></th>\n",
       "    </tr>\n",
       "  </thead>\n",
       "  <tbody>\n",
       "    <tr>\n",
       "      <th>202001</th>\n",
       "      <td>-0.012023</td>\n",
       "      <td>-0.004316</td>\n",
       "      <td>0.000000</td>\n",
       "    </tr>\n",
       "    <tr>\n",
       "      <th>202002</th>\n",
       "      <td>-0.048342</td>\n",
       "      <td>-0.014408</td>\n",
       "      <td>0.000000</td>\n",
       "    </tr>\n",
       "    <tr>\n",
       "      <th>202003</th>\n",
       "      <td>-0.271706</td>\n",
       "      <td>-0.165834</td>\n",
       "      <td>1.526786</td>\n",
       "    </tr>\n",
       "    <tr>\n",
       "      <th>202004</th>\n",
       "      <td>-0.494187</td>\n",
       "      <td>-0.416359</td>\n",
       "      <td>35.468750</td>\n",
       "    </tr>\n",
       "    <tr>\n",
       "      <th>202005</th>\n",
       "      <td>-0.421890</td>\n",
       "      <td>-0.355135</td>\n",
       "      <td>77.269643</td>\n",
       "    </tr>\n",
       "    <tr>\n",
       "      <th>202006</th>\n",
       "      <td>-0.307622</td>\n",
       "      <td>-0.279508</td>\n",
       "      <td>42.707589</td>\n",
       "    </tr>\n",
       "    <tr>\n",
       "      <th>202007</th>\n",
       "      <td>-0.291997</td>\n",
       "      <td>-0.234644</td>\n",
       "      <td>27.437500</td>\n",
       "    </tr>\n",
       "    <tr>\n",
       "      <th>202008</th>\n",
       "      <td>-0.343561</td>\n",
       "      <td>-0.276164</td>\n",
       "      <td>35.392857</td>\n",
       "    </tr>\n",
       "    <tr>\n",
       "      <th>202009</th>\n",
       "      <td>-0.336598</td>\n",
       "      <td>-0.278395</td>\n",
       "      <td>32.241071</td>\n",
       "    </tr>\n",
       "    <tr>\n",
       "      <th>202010</th>\n",
       "      <td>-0.340385</td>\n",
       "      <td>-0.283565</td>\n",
       "      <td>34.219643</td>\n",
       "    </tr>\n",
       "    <tr>\n",
       "      <th>202011</th>\n",
       "      <td>-0.365514</td>\n",
       "      <td>-0.303713</td>\n",
       "      <td>76.033482</td>\n",
       "    </tr>\n",
       "    <tr>\n",
       "      <th>202012</th>\n",
       "      <td>-0.342144</td>\n",
       "      <td>-0.298248</td>\n",
       "      <td>139.312500</td>\n",
       "    </tr>\n",
       "    <tr>\n",
       "      <th>202101</th>\n",
       "      <td>-0.349671</td>\n",
       "      <td>-0.320833</td>\n",
       "      <td>170.767857</td>\n",
       "    </tr>\n",
       "  </tbody>\n",
       "</table>\n",
       "</div>"
      ],
      "text/plain": [
       "           revenue_all  merchants_all  new_case_count\n",
       "yearmonth                                            \n",
       "202001       -0.012023      -0.004316        0.000000\n",
       "202002       -0.048342      -0.014408        0.000000\n",
       "202003       -0.271706      -0.165834        1.526786\n",
       "202004       -0.494187      -0.416359       35.468750\n",
       "202005       -0.421890      -0.355135       77.269643\n",
       "202006       -0.307622      -0.279508       42.707589\n",
       "202007       -0.291997      -0.234644       27.437500\n",
       "202008       -0.343561      -0.276164       35.392857\n",
       "202009       -0.336598      -0.278395       32.241071\n",
       "202010       -0.340385      -0.283565       34.219643\n",
       "202011       -0.365514      -0.303713       76.033482\n",
       "202012       -0.342144      -0.298248      139.312500\n",
       "202101       -0.349671      -0.320833      170.767857"
      ]
     },
     "execution_count": 34,
     "metadata": {},
     "output_type": "execute_result"
    }
   ],
   "source": [
    "df.groupby('yearmonth').mean()"
   ]
  },
  {
   "cell_type": "markdown",
   "metadata": {},
   "source": [
    "Revenue data dropped sharply on 2020March due to the economic lockdown. \n",
    "   "
   ]
  },
  {
   "attachments": {},
   "cell_type": "markdown",
   "metadata": {},
   "source": [
    "# 5. EDA for Washington DC county\n",
    "\n",
    "In this EDA, I focus on Washington DC county to see the patterns of google mobility, small merchants revenue changes, and COVID-19 cases."
   ]
  },
  {
   "cell_type": "markdown",
   "metadata": {},
   "source": [
    "### Google mobility"
   ]
  },
  {
   "cell_type": "code",
   "execution_count": null,
   "metadata": {},
   "outputs": [],
   "source": [
    "#commercial = df.loc[(11001, ),]['commercial'].plot()\n",
    "df.loc[(11001, ),]['commercial'].plot(figsize=(10, 8), label='original')\n",
    "df.loc[(11001, ),]['commercial'].rolling(7).mean().plot( label ='7d-ave', figsize=(10,5))\n",
    "df.loc[(11001, ),]['commercial'].diff().rolling(7).mean().plot( label = '1-diff:7d-ave')\n",
    "\n",
    "plt.ylabel('Google mobility index')\n",
    "plt.title('Google mobility index (retail and grocery store) in Washington DC')\n",
    "plt.legend();"
   ]
  },
  {
   "cell_type": "markdown",
   "metadata": {},
   "source": [
    "Google mobility index clearly shows some seasonal trends. Mobility is higher during the weekend, and in a year, winter time is lower. In terms of trend, there was a huge drop on March 2020, when US declared the national emergency and all states followed. Other steap drops on July and October in 2021 and January 2022 correspond to multiple waves of COVID-19 surges due to new variant. After taking one difference, the time series looks stationary.     \n",
    "\n",
    "Next, I use seasonal decomposition to detect seasonality, trend and any noise in the dataset."
   ]
  },
  {
   "cell_type": "code",
   "execution_count": null,
   "metadata": {},
   "outputs": [],
   "source": [
    "from pylab import rcParams\n",
    "rcParams['figure.figsize'] = 11, 9\n",
    "\n",
    "decomposition = seasonal_decompose(df.loc[(11001, ),]['commercial'], model='additive')\n",
    "fig = decomposition.plot();"
   ]
  },
  {
   "cell_type": "markdown",
   "metadata": {},
   "source": [
    "The decomposition figures shows weekly seasonality as well as a sharp drop on march 2020 and other drops in 2021 Fall and 2022 January. "
   ]
  },
  {
   "cell_type": "markdown",
   "metadata": {},
   "source": [
    "### COVID new cases "
   ]
  },
  {
   "cell_type": "code",
   "execution_count": null,
   "metadata": {},
   "outputs": [],
   "source": [
    "# plot covid cases \n",
    "df.loc[(11001, ),]['new_case_count'].plot(figsize=(10, 8), label='original')\n",
    "df.loc[(11001, ),]['new_case_count'].rolling(7).mean().plot( label ='7d-mean')\n",
    "df.loc[(11001, ),]['new_case_count'].diff().rolling(7).mean().plot( label = '1-diff:7d-mean')\n",
    "\n",
    "plt.ylabel('COVID-19 new cases')\n",
    "plt.title('COVID-19 new cases in Washington DC')\n",
    "plt.legend();"
   ]
  },
  {
   "cell_type": "markdown",
   "metadata": {},
   "source": [
    "The figrue shows the multiple waves of COVID-19 surges on May 2020, January 2021, Octover 2022, and Januaey 2022.  \n",
    "With one time difference, the time series looks very stationary. "
   ]
  },
  {
   "cell_type": "code",
   "execution_count": null,
   "metadata": {},
   "outputs": [],
   "source": [
    "from pylab import rcParams\n",
    "rcParams['figure.figsize'] = 11, 9\n",
    "\n",
    "decomposition = seasonal_decompose(df.loc[(11001, ),]['new_case_count'], model='additive')\n",
    "fig = decomposition.plot();"
   ]
  },
  {
   "cell_type": "markdown",
   "metadata": {},
   "source": [
    "The seasonal decomposition tells that there is a weekly seasonality. This is probably that more people go to test center after weekend. In terms of trend, there is a huge jump from 2021 Dec to 2022 Jan.  "
   ]
  },
  {
   "cell_type": "markdown",
   "metadata": {},
   "source": [
    "Trend of google mobility is clearly negatively correlated with COVID-19 new cases. As the COVID-19 surges, people starts less going out to commercial places. And once the virus slowed, people starts going out more. Mobility also will causes the COVID-19 surges. This is especially true when the COVID-19 start surging. The place which has more people are in restaurants and stores tends to report higher COVID-19 spread. However, the higher mobility itself may not be a causes on COVID-19 surge. And there are many times, when the mobility is higher but no rise in new cases, explained by vaccination rates and other factors. So, I will treat COVID-19 new cases as exogenous variables and search a best fit SARIMA model.  \n"
   ]
  },
  {
   "cell_type": "markdown",
   "metadata": {},
   "source": [
    "### Save data frame for modeling"
   ]
  },
  {
   "cell_type": "code",
   "execution_count": null,
   "metadata": {},
   "outputs": [],
   "source": []
  },
  {
   "cell_type": "code",
   "execution_count": null,
   "metadata": {
    "scrolled": true
   },
   "outputs": [],
   "source": [
    "# Drop unnecessary columns for modeling \n",
    "cols = ['year', 'month', 'day', 'czname', 'statename', 'countyname' ]\n",
    "df.drop(cols, axis=1, inplace=True)\n",
    "\n",
    "# reset index\n",
    "df.reset_index(inplace=True)\n",
    "# Save\n",
    "df.to_csv('Data/mobility.csv', index=False)"
   ]
  },
  {
   "cell_type": "code",
   "execution_count": null,
   "metadata": {},
   "outputs": [],
   "source": []
  }
 ],
 "metadata": {
  "kernelspec": {
   "display_name": "Python (learn-env)",
   "language": "python",
   "name": "learn-env"
  },
  "language_info": {
   "codemirror_mode": {
    "name": "ipython",
    "version": 3
   },
   "file_extension": ".py",
   "mimetype": "text/x-python",
   "name": "python",
   "nbconvert_exporter": "python",
   "pygments_lexer": "ipython3",
   "version": "3.8.5"
  }
 },
 "nbformat": 4,
 "nbformat_minor": 4
}
